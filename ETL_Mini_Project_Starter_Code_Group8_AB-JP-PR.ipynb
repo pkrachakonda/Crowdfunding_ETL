{
 "cells": [
  {
   "cell_type": "code",
   "execution_count": 1,
   "metadata": {
    "tags": [],
    "ExecuteTime": {
     "end_time": "2023-10-15T04:02:24.331404700Z",
     "start_time": "2023-10-15T04:02:23.942985700Z"
    }
   },
   "outputs": [],
   "source": [
    "# Import dependencies\n",
    "import pandas as pd\n",
    "import numpy as np\n",
    "import json\n",
    "import re\n",
    "pd.set_option('max_colwidth', 400)"
   ]
  },
  {
   "cell_type": "markdown",
   "metadata": {},
   "source": [
    "### Extract the crowdfunding.xlsx Data"
   ]
  },
  {
   "cell_type": "code",
   "execution_count": 2,
   "metadata": {
    "tags": [],
    "ExecuteTime": {
     "end_time": "2023-10-15T04:02:24.517233200Z",
     "start_time": "2023-10-15T04:02:24.229989500Z"
    }
   },
   "outputs": [
    {
     "data": {
      "text/plain": "   cf_id  contact_id                 company_name  \\\n0    147        4661   Baldwin, Riley and Jackson   \n1   1621        3765                     Odom Inc   \n2   1812        4187   Melton, Robinson and Fritz   \n3   2156        4941  Mcdonald, Gonzalez and Ross   \n4   1365        2199                Larson-Little   \n\n                                           blurb    goal  pledged     outcome  \\\n0           Pre-emptive tertiary standardization     100        0      failed   \n1               Managed bottom-line architecture    1400    14560  successful   \n2   Function-based leadingedge pricing structure  108400   142523  successful   \n3  Vision-oriented fresh-thinking conglomeration    4200     2477      failed   \n4                      Proactive foreground core    7600     5265      failed   \n\n   backers_count country currency  launched_at    deadline  staff_pick  \\\n0              0      CA      CAD   1581573600  1614578400       False   \n1            158      US      USD   1611554400  1621918800       False   \n2           1425      AU      AUD   1608184800  1640844000       False   \n3             24      US      USD   1634792400  1642399200       False   \n4             53      US      USD   1608530400  1629694800       False   \n\n   spotlight category & sub-category  \n0      False        food/food trucks  \n1       True              music/rock  \n2      False          technology/web  \n3      False              music/rock  \n4      False           theater/plays  ",
      "text/html": "<div>\n<style scoped>\n    .dataframe tbody tr th:only-of-type {\n        vertical-align: middle;\n    }\n\n    .dataframe tbody tr th {\n        vertical-align: top;\n    }\n\n    .dataframe thead th {\n        text-align: right;\n    }\n</style>\n<table border=\"1\" class=\"dataframe\">\n  <thead>\n    <tr style=\"text-align: right;\">\n      <th></th>\n      <th>cf_id</th>\n      <th>contact_id</th>\n      <th>company_name</th>\n      <th>blurb</th>\n      <th>goal</th>\n      <th>pledged</th>\n      <th>outcome</th>\n      <th>backers_count</th>\n      <th>country</th>\n      <th>currency</th>\n      <th>launched_at</th>\n      <th>deadline</th>\n      <th>staff_pick</th>\n      <th>spotlight</th>\n      <th>category &amp; sub-category</th>\n    </tr>\n  </thead>\n  <tbody>\n    <tr>\n      <th>0</th>\n      <td>147</td>\n      <td>4661</td>\n      <td>Baldwin, Riley and Jackson</td>\n      <td>Pre-emptive tertiary standardization</td>\n      <td>100</td>\n      <td>0</td>\n      <td>failed</td>\n      <td>0</td>\n      <td>CA</td>\n      <td>CAD</td>\n      <td>1581573600</td>\n      <td>1614578400</td>\n      <td>False</td>\n      <td>False</td>\n      <td>food/food trucks</td>\n    </tr>\n    <tr>\n      <th>1</th>\n      <td>1621</td>\n      <td>3765</td>\n      <td>Odom Inc</td>\n      <td>Managed bottom-line architecture</td>\n      <td>1400</td>\n      <td>14560</td>\n      <td>successful</td>\n      <td>158</td>\n      <td>US</td>\n      <td>USD</td>\n      <td>1611554400</td>\n      <td>1621918800</td>\n      <td>False</td>\n      <td>True</td>\n      <td>music/rock</td>\n    </tr>\n    <tr>\n      <th>2</th>\n      <td>1812</td>\n      <td>4187</td>\n      <td>Melton, Robinson and Fritz</td>\n      <td>Function-based leadingedge pricing structure</td>\n      <td>108400</td>\n      <td>142523</td>\n      <td>successful</td>\n      <td>1425</td>\n      <td>AU</td>\n      <td>AUD</td>\n      <td>1608184800</td>\n      <td>1640844000</td>\n      <td>False</td>\n      <td>False</td>\n      <td>technology/web</td>\n    </tr>\n    <tr>\n      <th>3</th>\n      <td>2156</td>\n      <td>4941</td>\n      <td>Mcdonald, Gonzalez and Ross</td>\n      <td>Vision-oriented fresh-thinking conglomeration</td>\n      <td>4200</td>\n      <td>2477</td>\n      <td>failed</td>\n      <td>24</td>\n      <td>US</td>\n      <td>USD</td>\n      <td>1634792400</td>\n      <td>1642399200</td>\n      <td>False</td>\n      <td>False</td>\n      <td>music/rock</td>\n    </tr>\n    <tr>\n      <th>4</th>\n      <td>1365</td>\n      <td>2199</td>\n      <td>Larson-Little</td>\n      <td>Proactive foreground core</td>\n      <td>7600</td>\n      <td>5265</td>\n      <td>failed</td>\n      <td>53</td>\n      <td>US</td>\n      <td>USD</td>\n      <td>1608530400</td>\n      <td>1629694800</td>\n      <td>False</td>\n      <td>False</td>\n      <td>theater/plays</td>\n    </tr>\n  </tbody>\n</table>\n</div>"
     },
     "execution_count": 2,
     "metadata": {},
     "output_type": "execute_result"
    }
   ],
   "source": [
    "# Read the data into a Pandas DataFrame\n",
    "crowdfunding_info_df = pd.read_excel('Resources/crowdfunding.xlsx')\n",
    "crowdfunding_info_df.head()"
   ]
  },
  {
   "cell_type": "code",
   "execution_count": 3,
   "metadata": {
    "tags": [],
    "ExecuteTime": {
     "end_time": "2023-10-15T04:02:24.529226200Z",
     "start_time": "2023-10-15T04:02:24.518360Z"
    }
   },
   "outputs": [
    {
     "name": "stdout",
     "output_type": "stream",
     "text": [
      "<class 'pandas.core.frame.DataFrame'>\n",
      "RangeIndex: 1000 entries, 0 to 999\n",
      "Data columns (total 15 columns):\n",
      " #   Column                   Non-Null Count  Dtype \n",
      "---  ------                   --------------  ----- \n",
      " 0   cf_id                    1000 non-null   int64 \n",
      " 1   contact_id               1000 non-null   int64 \n",
      " 2   company_name             1000 non-null   object\n",
      " 3   blurb                    1000 non-null   object\n",
      " 4   goal                     1000 non-null   int64 \n",
      " 5   pledged                  1000 non-null   int64 \n",
      " 6   outcome                  1000 non-null   object\n",
      " 7   backers_count            1000 non-null   int64 \n",
      " 8   country                  1000 non-null   object\n",
      " 9   currency                 1000 non-null   object\n",
      " 10  launched_at              1000 non-null   int64 \n",
      " 11  deadline                 1000 non-null   int64 \n",
      " 12  staff_pick               1000 non-null   bool  \n",
      " 13  spotlight                1000 non-null   bool  \n",
      " 14  category & sub-category  1000 non-null   object\n",
      "dtypes: bool(2), int64(7), object(6)\n",
      "memory usage: 103.6+ KB\n"
     ]
    }
   ],
   "source": [
    "# Get a brief summary of the crowdfunding_info DataFrame.\n",
    "crowdfunding_info_df.info()"
   ]
  },
  {
   "cell_type": "markdown",
   "metadata": {},
   "source": [
    "### Create the Category and Subcategory DataFrames\n",
    "---\n",
    "**Create a Category DataFrame that has the following columns:**\n",
    "* A \"category_id\" column that has entries going sequentially from \"cat1\" to \"cat*n*\", where *n* is the number of unique categories\n",
    "* A \"category\" column that contains only the category titles\n",
    "\n",
    "Export the DataFrame as a `category.csv` CSV file.\n",
    "\n",
    "**Create a SubCategory DataFrame that has the following columns:**\n",
    "* A \"subcategory_id\" column that has entries going sequentially from \"subcat1\" to \"subcat*n*\", where *n* is the number of unique subcategories\n",
    "* A \"subcategory\" column that contains only the subcategory titles\n",
    "\n",
    "Export the DataFrame as a `subcategory.csv` CSV file."
   ]
  },
  {
   "cell_type": "code",
   "execution_count": 4,
   "metadata": {
    "tags": [],
    "ExecuteTime": {
     "end_time": "2023-10-15T04:02:24.531607600Z",
     "start_time": "2023-10-15T04:02:24.526860200Z"
    }
   },
   "outputs": [
    {
     "data": {
      "text/plain": "Index(['cf_id', 'contact_id', 'company_name', 'blurb', 'goal', 'pledged',\n       'outcome', 'backers_count', 'country', 'currency', 'launched_at',\n       'deadline', 'staff_pick', 'spotlight', 'category & sub-category'],\n      dtype='object')"
     },
     "execution_count": 4,
     "metadata": {},
     "output_type": "execute_result"
    }
   ],
   "source": [
    "# Get the crowdfunding_info_df columns.\n",
    "crowdfunding_info_df.columns"
   ]
  },
  {
   "cell_type": "code",
   "execution_count": 5,
   "metadata": {
    "tags": [],
    "ExecuteTime": {
     "end_time": "2023-10-15T04:02:24.567589100Z",
     "start_time": "2023-10-15T04:02:24.542537600Z"
    }
   },
   "outputs": [
    {
     "data": {
      "text/plain": "     cf_id  contact_id                  company_name  \\\n0      147        4661    Baldwin, Riley and Jackson   \n1     1621        3765                      Odom Inc   \n2     1812        4187    Melton, Robinson and Fritz   \n3     2156        4941   Mcdonald, Gonzalez and Ross   \n4     1365        2199                 Larson-Little   \n..     ...         ...                           ...   \n995   2986        3684              Manning-Hamilton   \n996   2031        5784                    Butler LLC   \n997   1627        1498                      Ball LLC   \n998   2175        6073   Taylor, Santiago and Flores   \n999   1788        4939  Hernandez, Norton and Kelley   \n\n                                             blurb    goal  pledged  \\\n0             Pre-emptive tertiary standardization     100        0   \n1                 Managed bottom-line architecture    1400    14560   \n2     Function-based leadingedge pricing structure  108400   142523   \n3    Vision-oriented fresh-thinking conglomeration    4200     2477   \n4                        Proactive foreground core    7600     5265   \n..                                             ...     ...      ...   \n995            Vision-oriented scalable definition   97300   153216   \n996       Future-proofed upward-trending migration    6600     4814   \n997              Right-sized full-range throughput    7600     4603   \n998           Polarized composite customer loyalty   66600    37823   \n999                    Expanded eco-centric policy  111100    62819   \n\n        outcome  backers_count country currency  launched_at    deadline  \\\n0        failed              0      CA      CAD   1581573600  1614578400   \n1    successful            158      US      USD   1611554400  1621918800   \n2    successful           1425      AU      AUD   1608184800  1640844000   \n3        failed             24      US      USD   1634792400  1642399200   \n4        failed             53      US      USD   1608530400  1629694800   \n..          ...            ...     ...      ...          ...         ...   \n995  successful           2043      US      USD   1609221600  1622350800   \n996      failed            112      US      USD   1634274000  1638252000   \n997    canceled            139      IT      EUR   1636174800  1639116000   \n998      failed            374      US      USD   1602133200  1618117200   \n999    canceled           1122      US      USD   1609308000  1629262800   \n\n     staff_pick  spotlight category & sub-category    category  subcategory  \n0         False      False        food/food trucks        food  food trucks  \n1         False       True              music/rock       music         rock  \n2         False      False          technology/web  technology          web  \n3         False      False              music/rock       music         rock  \n4         False      False           theater/plays     theater        plays  \n..          ...        ...                     ...         ...          ...  \n995       False       True        food/food trucks        food  food trucks  \n996       False      False           theater/plays     theater        plays  \n997       False      False           theater/plays     theater        plays  \n998       False       True        music/indie rock       music   indie rock  \n999       False      False        food/food trucks        food  food trucks  \n\n[1000 rows x 17 columns]",
      "text/html": "<div>\n<style scoped>\n    .dataframe tbody tr th:only-of-type {\n        vertical-align: middle;\n    }\n\n    .dataframe tbody tr th {\n        vertical-align: top;\n    }\n\n    .dataframe thead th {\n        text-align: right;\n    }\n</style>\n<table border=\"1\" class=\"dataframe\">\n  <thead>\n    <tr style=\"text-align: right;\">\n      <th></th>\n      <th>cf_id</th>\n      <th>contact_id</th>\n      <th>company_name</th>\n      <th>blurb</th>\n      <th>goal</th>\n      <th>pledged</th>\n      <th>outcome</th>\n      <th>backers_count</th>\n      <th>country</th>\n      <th>currency</th>\n      <th>launched_at</th>\n      <th>deadline</th>\n      <th>staff_pick</th>\n      <th>spotlight</th>\n      <th>category &amp; sub-category</th>\n      <th>category</th>\n      <th>subcategory</th>\n    </tr>\n  </thead>\n  <tbody>\n    <tr>\n      <th>0</th>\n      <td>147</td>\n      <td>4661</td>\n      <td>Baldwin, Riley and Jackson</td>\n      <td>Pre-emptive tertiary standardization</td>\n      <td>100</td>\n      <td>0</td>\n      <td>failed</td>\n      <td>0</td>\n      <td>CA</td>\n      <td>CAD</td>\n      <td>1581573600</td>\n      <td>1614578400</td>\n      <td>False</td>\n      <td>False</td>\n      <td>food/food trucks</td>\n      <td>food</td>\n      <td>food trucks</td>\n    </tr>\n    <tr>\n      <th>1</th>\n      <td>1621</td>\n      <td>3765</td>\n      <td>Odom Inc</td>\n      <td>Managed bottom-line architecture</td>\n      <td>1400</td>\n      <td>14560</td>\n      <td>successful</td>\n      <td>158</td>\n      <td>US</td>\n      <td>USD</td>\n      <td>1611554400</td>\n      <td>1621918800</td>\n      <td>False</td>\n      <td>True</td>\n      <td>music/rock</td>\n      <td>music</td>\n      <td>rock</td>\n    </tr>\n    <tr>\n      <th>2</th>\n      <td>1812</td>\n      <td>4187</td>\n      <td>Melton, Robinson and Fritz</td>\n      <td>Function-based leadingedge pricing structure</td>\n      <td>108400</td>\n      <td>142523</td>\n      <td>successful</td>\n      <td>1425</td>\n      <td>AU</td>\n      <td>AUD</td>\n      <td>1608184800</td>\n      <td>1640844000</td>\n      <td>False</td>\n      <td>False</td>\n      <td>technology/web</td>\n      <td>technology</td>\n      <td>web</td>\n    </tr>\n    <tr>\n      <th>3</th>\n      <td>2156</td>\n      <td>4941</td>\n      <td>Mcdonald, Gonzalez and Ross</td>\n      <td>Vision-oriented fresh-thinking conglomeration</td>\n      <td>4200</td>\n      <td>2477</td>\n      <td>failed</td>\n      <td>24</td>\n      <td>US</td>\n      <td>USD</td>\n      <td>1634792400</td>\n      <td>1642399200</td>\n      <td>False</td>\n      <td>False</td>\n      <td>music/rock</td>\n      <td>music</td>\n      <td>rock</td>\n    </tr>\n    <tr>\n      <th>4</th>\n      <td>1365</td>\n      <td>2199</td>\n      <td>Larson-Little</td>\n      <td>Proactive foreground core</td>\n      <td>7600</td>\n      <td>5265</td>\n      <td>failed</td>\n      <td>53</td>\n      <td>US</td>\n      <td>USD</td>\n      <td>1608530400</td>\n      <td>1629694800</td>\n      <td>False</td>\n      <td>False</td>\n      <td>theater/plays</td>\n      <td>theater</td>\n      <td>plays</td>\n    </tr>\n    <tr>\n      <th>...</th>\n      <td>...</td>\n      <td>...</td>\n      <td>...</td>\n      <td>...</td>\n      <td>...</td>\n      <td>...</td>\n      <td>...</td>\n      <td>...</td>\n      <td>...</td>\n      <td>...</td>\n      <td>...</td>\n      <td>...</td>\n      <td>...</td>\n      <td>...</td>\n      <td>...</td>\n      <td>...</td>\n      <td>...</td>\n    </tr>\n    <tr>\n      <th>995</th>\n      <td>2986</td>\n      <td>3684</td>\n      <td>Manning-Hamilton</td>\n      <td>Vision-oriented scalable definition</td>\n      <td>97300</td>\n      <td>153216</td>\n      <td>successful</td>\n      <td>2043</td>\n      <td>US</td>\n      <td>USD</td>\n      <td>1609221600</td>\n      <td>1622350800</td>\n      <td>False</td>\n      <td>True</td>\n      <td>food/food trucks</td>\n      <td>food</td>\n      <td>food trucks</td>\n    </tr>\n    <tr>\n      <th>996</th>\n      <td>2031</td>\n      <td>5784</td>\n      <td>Butler LLC</td>\n      <td>Future-proofed upward-trending migration</td>\n      <td>6600</td>\n      <td>4814</td>\n      <td>failed</td>\n      <td>112</td>\n      <td>US</td>\n      <td>USD</td>\n      <td>1634274000</td>\n      <td>1638252000</td>\n      <td>False</td>\n      <td>False</td>\n      <td>theater/plays</td>\n      <td>theater</td>\n      <td>plays</td>\n    </tr>\n    <tr>\n      <th>997</th>\n      <td>1627</td>\n      <td>1498</td>\n      <td>Ball LLC</td>\n      <td>Right-sized full-range throughput</td>\n      <td>7600</td>\n      <td>4603</td>\n      <td>canceled</td>\n      <td>139</td>\n      <td>IT</td>\n      <td>EUR</td>\n      <td>1636174800</td>\n      <td>1639116000</td>\n      <td>False</td>\n      <td>False</td>\n      <td>theater/plays</td>\n      <td>theater</td>\n      <td>plays</td>\n    </tr>\n    <tr>\n      <th>998</th>\n      <td>2175</td>\n      <td>6073</td>\n      <td>Taylor, Santiago and Flores</td>\n      <td>Polarized composite customer loyalty</td>\n      <td>66600</td>\n      <td>37823</td>\n      <td>failed</td>\n      <td>374</td>\n      <td>US</td>\n      <td>USD</td>\n      <td>1602133200</td>\n      <td>1618117200</td>\n      <td>False</td>\n      <td>True</td>\n      <td>music/indie rock</td>\n      <td>music</td>\n      <td>indie rock</td>\n    </tr>\n    <tr>\n      <th>999</th>\n      <td>1788</td>\n      <td>4939</td>\n      <td>Hernandez, Norton and Kelley</td>\n      <td>Expanded eco-centric policy</td>\n      <td>111100</td>\n      <td>62819</td>\n      <td>canceled</td>\n      <td>1122</td>\n      <td>US</td>\n      <td>USD</td>\n      <td>1609308000</td>\n      <td>1629262800</td>\n      <td>False</td>\n      <td>False</td>\n      <td>food/food trucks</td>\n      <td>food</td>\n      <td>food trucks</td>\n    </tr>\n  </tbody>\n</table>\n<p>1000 rows × 17 columns</p>\n</div>"
     },
     "execution_count": 5,
     "metadata": {},
     "output_type": "execute_result"
    }
   ],
   "source": [
    "# Assign the category and subcategory values to category and subcategory columns.\n",
    "\n",
    "crowdfunding_info_df[['category', 'subcategory']] = crowdfunding_info_df['category & sub-category'].str.split('/', n =1, expand = True)\n",
    "crowdfunding_info_df"
   ]
  },
  {
   "cell_type": "code",
   "execution_count": 6,
   "metadata": {
    "tags": [],
    "ExecuteTime": {
     "end_time": "2023-10-15T04:02:24.613319400Z",
     "start_time": "2023-10-15T04:02:24.546630700Z"
    }
   },
   "outputs": [
    {
     "name": "stdout",
     "output_type": "stream",
     "text": [
      "['food' 'music' 'technology' 'theater' 'film & video' 'publishing' 'games'\n",
      " 'photography' 'journalism']\n",
      "['food trucks' 'rock' 'web' 'plays' 'documentary' 'electric music' 'drama'\n",
      " 'indie rock' 'wearables' 'nonfiction' 'animation' 'video games' 'shorts'\n",
      " 'fiction' 'photography books' 'radio & podcasts' 'metal' 'jazz'\n",
      " 'translations' 'television' 'mobile games' 'world music'\n",
      " 'science fiction' 'audio']\n"
     ]
    }
   ],
   "source": [
    "# Get the unique categories and subcategories in separate lists.\n",
    "categories = crowdfunding_info_df['category'].unique()\n",
    "subcategories = crowdfunding_info_df['subcategory'].unique()\n",
    "print(categories)\n",
    "print(subcategories)"
   ]
  },
  {
   "cell_type": "code",
   "execution_count": 7,
   "metadata": {
    "tags": [],
    "ExecuteTime": {
     "end_time": "2023-10-15T04:02:24.613319400Z",
     "start_time": "2023-10-15T04:02:24.550227200Z"
    }
   },
   "outputs": [
    {
     "name": "stdout",
     "output_type": "stream",
     "text": [
      "9\n",
      "24\n"
     ]
    }
   ],
   "source": [
    "# Get the number of distinct values in the categories and subcategories lists.\n",
    "print(len(categories))\n",
    "print(len(subcategories))"
   ]
  },
  {
   "cell_type": "code",
   "execution_count": 8,
   "metadata": {
    "tags": [],
    "ExecuteTime": {
     "end_time": "2023-10-15T04:02:24.613319400Z",
     "start_time": "2023-10-15T04:02:24.551847200Z"
    }
   },
   "outputs": [
    {
     "name": "stdout",
     "output_type": "stream",
     "text": [
      "[1 2 3 4 5 6 7 8 9]\n",
      "[ 1  2  3  4  5  6  7  8  9 10 11 12 13 14 15 16 17 18 19 20 21 22 23 24]\n"
     ]
    }
   ],
   "source": [
    "# Create numpy arrays from 1-9 for the categories and 1-24 for the subcategories.\n",
    "category_ids = np.arange(1, 10)\n",
    "subcategory_ids = np.arange(1, 25)\n",
    "\n",
    "print(category_ids)\n",
    "print(subcategory_ids)"
   ]
  },
  {
   "cell_type": "code",
   "execution_count": 9,
   "metadata": {
    "tags": [],
    "ExecuteTime": {
     "end_time": "2023-10-15T04:02:24.613319400Z",
     "start_time": "2023-10-15T04:02:24.556672100Z"
    }
   },
   "outputs": [
    {
     "name": "stdout",
     "output_type": "stream",
     "text": [
      "['cat1', 'cat2', 'cat3', 'cat4', 'cat5', 'cat6', 'cat7', 'cat8', 'cat9']\n",
      "['subcat1', 'subcat2', 'subcat3', 'subcat4', 'subcat5', 'subcat6', 'subcat7', 'subcat8', 'subcat9', 'subcat10', 'subcat11', 'subcat12', 'subcat13', 'subcat14', 'subcat15', 'subcat16', 'subcat17', 'subcat18', 'subcat19', 'subcat20', 'subcat21', 'subcat22', 'subcat23', 'subcat24']\n"
     ]
    }
   ],
   "source": [
    "# Use a list comprehension to add \"cat\" to each category_id. \n",
    "\n",
    "cat_ids = ['cat'+str(i) for i in range (1, len(category_ids)+1)]\n",
    "\n",
    "# Use a list comprehension to add \"subcat\" to each subcategory_id.    \n",
    "\n",
    "scat_ids = ['subcat'+str(i) for i in range (1, len(subcategory_ids)+1)]\n",
    "    \n",
    "print(cat_ids)\n",
    "print(scat_ids)"
   ]
  },
  {
   "cell_type": "code",
   "execution_count": 10,
   "metadata": {
    "tags": [],
    "ExecuteTime": {
     "end_time": "2023-10-15T04:02:24.614845100Z",
     "start_time": "2023-10-15T04:02:24.562890Z"
    }
   },
   "outputs": [],
   "source": [
    "# Create a category DataFrame with the category_id array as the category_id and categories list as the category name.\n",
    "category_df = pd.DataFrame({'category_id':cat_ids, 'category': categories})\n",
    "# Create a category DataFrame with the subcategory_id array as the subcategory_id and subcategories list as the subcategory name. \n",
    "subcategory_df = pd.DataFrame({'subcategory_id':scat_ids, 'subcategory': subcategories})"
   ]
  },
  {
   "cell_type": "code",
   "execution_count": 11,
   "metadata": {
    "tags": [],
    "ExecuteTime": {
     "end_time": "2023-10-15T04:02:24.636775Z",
     "start_time": "2023-10-15T04:02:24.565577Z"
    }
   },
   "outputs": [
    {
     "data": {
      "text/plain": "  category_id      category\n0        cat1          food\n1        cat2         music\n2        cat3    technology\n3        cat4       theater\n4        cat5  film & video\n5        cat6    publishing\n6        cat7         games\n7        cat8   photography\n8        cat9    journalism",
      "text/html": "<div>\n<style scoped>\n    .dataframe tbody tr th:only-of-type {\n        vertical-align: middle;\n    }\n\n    .dataframe tbody tr th {\n        vertical-align: top;\n    }\n\n    .dataframe thead th {\n        text-align: right;\n    }\n</style>\n<table border=\"1\" class=\"dataframe\">\n  <thead>\n    <tr style=\"text-align: right;\">\n      <th></th>\n      <th>category_id</th>\n      <th>category</th>\n    </tr>\n  </thead>\n  <tbody>\n    <tr>\n      <th>0</th>\n      <td>cat1</td>\n      <td>food</td>\n    </tr>\n    <tr>\n      <th>1</th>\n      <td>cat2</td>\n      <td>music</td>\n    </tr>\n    <tr>\n      <th>2</th>\n      <td>cat3</td>\n      <td>technology</td>\n    </tr>\n    <tr>\n      <th>3</th>\n      <td>cat4</td>\n      <td>theater</td>\n    </tr>\n    <tr>\n      <th>4</th>\n      <td>cat5</td>\n      <td>film &amp; video</td>\n    </tr>\n    <tr>\n      <th>5</th>\n      <td>cat6</td>\n      <td>publishing</td>\n    </tr>\n    <tr>\n      <th>6</th>\n      <td>cat7</td>\n      <td>games</td>\n    </tr>\n    <tr>\n      <th>7</th>\n      <td>cat8</td>\n      <td>photography</td>\n    </tr>\n    <tr>\n      <th>8</th>\n      <td>cat9</td>\n      <td>journalism</td>\n    </tr>\n  </tbody>\n</table>\n</div>"
     },
     "execution_count": 11,
     "metadata": {},
     "output_type": "execute_result"
    }
   ],
   "source": [
    "category_df"
   ]
  },
  {
   "cell_type": "code",
   "execution_count": 12,
   "metadata": {
    "tags": [],
    "ExecuteTime": {
     "end_time": "2023-10-15T04:02:24.636775Z",
     "start_time": "2023-10-15T04:02:24.572359700Z"
    }
   },
   "outputs": [
    {
     "data": {
      "text/plain": "   subcategory_id        subcategory\n0         subcat1        food trucks\n1         subcat2               rock\n2         subcat3                web\n3         subcat4              plays\n4         subcat5        documentary\n5         subcat6     electric music\n6         subcat7              drama\n7         subcat8         indie rock\n8         subcat9          wearables\n9        subcat10         nonfiction\n10       subcat11          animation\n11       subcat12        video games\n12       subcat13             shorts\n13       subcat14            fiction\n14       subcat15  photography books\n15       subcat16   radio & podcasts\n16       subcat17              metal\n17       subcat18               jazz\n18       subcat19       translations\n19       subcat20         television\n20       subcat21       mobile games\n21       subcat22        world music\n22       subcat23    science fiction\n23       subcat24              audio",
      "text/html": "<div>\n<style scoped>\n    .dataframe tbody tr th:only-of-type {\n        vertical-align: middle;\n    }\n\n    .dataframe tbody tr th {\n        vertical-align: top;\n    }\n\n    .dataframe thead th {\n        text-align: right;\n    }\n</style>\n<table border=\"1\" class=\"dataframe\">\n  <thead>\n    <tr style=\"text-align: right;\">\n      <th></th>\n      <th>subcategory_id</th>\n      <th>subcategory</th>\n    </tr>\n  </thead>\n  <tbody>\n    <tr>\n      <th>0</th>\n      <td>subcat1</td>\n      <td>food trucks</td>\n    </tr>\n    <tr>\n      <th>1</th>\n      <td>subcat2</td>\n      <td>rock</td>\n    </tr>\n    <tr>\n      <th>2</th>\n      <td>subcat3</td>\n      <td>web</td>\n    </tr>\n    <tr>\n      <th>3</th>\n      <td>subcat4</td>\n      <td>plays</td>\n    </tr>\n    <tr>\n      <th>4</th>\n      <td>subcat5</td>\n      <td>documentary</td>\n    </tr>\n    <tr>\n      <th>5</th>\n      <td>subcat6</td>\n      <td>electric music</td>\n    </tr>\n    <tr>\n      <th>6</th>\n      <td>subcat7</td>\n      <td>drama</td>\n    </tr>\n    <tr>\n      <th>7</th>\n      <td>subcat8</td>\n      <td>indie rock</td>\n    </tr>\n    <tr>\n      <th>8</th>\n      <td>subcat9</td>\n      <td>wearables</td>\n    </tr>\n    <tr>\n      <th>9</th>\n      <td>subcat10</td>\n      <td>nonfiction</td>\n    </tr>\n    <tr>\n      <th>10</th>\n      <td>subcat11</td>\n      <td>animation</td>\n    </tr>\n    <tr>\n      <th>11</th>\n      <td>subcat12</td>\n      <td>video games</td>\n    </tr>\n    <tr>\n      <th>12</th>\n      <td>subcat13</td>\n      <td>shorts</td>\n    </tr>\n    <tr>\n      <th>13</th>\n      <td>subcat14</td>\n      <td>fiction</td>\n    </tr>\n    <tr>\n      <th>14</th>\n      <td>subcat15</td>\n      <td>photography books</td>\n    </tr>\n    <tr>\n      <th>15</th>\n      <td>subcat16</td>\n      <td>radio &amp; podcasts</td>\n    </tr>\n    <tr>\n      <th>16</th>\n      <td>subcat17</td>\n      <td>metal</td>\n    </tr>\n    <tr>\n      <th>17</th>\n      <td>subcat18</td>\n      <td>jazz</td>\n    </tr>\n    <tr>\n      <th>18</th>\n      <td>subcat19</td>\n      <td>translations</td>\n    </tr>\n    <tr>\n      <th>19</th>\n      <td>subcat20</td>\n      <td>television</td>\n    </tr>\n    <tr>\n      <th>20</th>\n      <td>subcat21</td>\n      <td>mobile games</td>\n    </tr>\n    <tr>\n      <th>21</th>\n      <td>subcat22</td>\n      <td>world music</td>\n    </tr>\n    <tr>\n      <th>22</th>\n      <td>subcat23</td>\n      <td>science fiction</td>\n    </tr>\n    <tr>\n      <th>23</th>\n      <td>subcat24</td>\n      <td>audio</td>\n    </tr>\n  </tbody>\n</table>\n</div>"
     },
     "execution_count": 12,
     "metadata": {},
     "output_type": "execute_result"
    }
   ],
   "source": [
    "subcategory_df"
   ]
  },
  {
   "cell_type": "code",
   "execution_count": 13,
   "metadata": {
    "tags": [],
    "ExecuteTime": {
     "end_time": "2023-10-15T04:02:24.645899600Z",
     "start_time": "2023-10-15T04:02:24.579185600Z"
    }
   },
   "outputs": [],
   "source": [
    "# Export categories_df and subcategories_df as CSV files.\n",
    "category_df.to_csv(\"Resources/category.csv\", index=False)\n",
    "\n",
    "subcategory_df.to_csv(\"Resources/subcategory.csv\", index=False)"
   ]
  },
  {
   "cell_type": "markdown",
   "metadata": {},
   "source": [
    "### Campaign DataFrame\n",
    "----\n",
    "**Create a Campaign DataFrame that has the following columns:**\n",
    "- The \"cf_id\" column.\n",
    "- The \"contact_id\" column.\n",
    "- The “company_name” column.\n",
    "- The \"blurb\" column is renamed as \"description.\"\n",
    "- The \"goal\" column.\n",
    "- The \"goal\" column is converted to a `float` datatype.\n",
    "- The \"pledged\" column is converted to a `float` datatype. \n",
    "- The \"backers_count\" column. \n",
    "- The \"country\" column.\n",
    "- The \"currency\" column.\n",
    "- The \"launched_at\" column is renamed as \"launch_date\" and converted to a datetime format. \n",
    "- The \"deadline\" column is renamed as \"end_date\" and converted to a datetime format.\n",
    "- The \"category_id\" with the unique number matching the “category_id” from the category DataFrame. \n",
    "- The \"subcategory_id\" with the unique number matching the “subcategory_id” from the subcategory DataFrame.\n",
    "- And, create a column that contains the unique four-digit contact ID number from the `contact.xlsx` file.\n",
    " \n",
    "\n",
    "Then export the DataFrame as a `campaign.csv` CSV file.\n"
   ]
  },
  {
   "cell_type": "code",
   "execution_count": 14,
   "metadata": {
    "tags": [],
    "ExecuteTime": {
     "end_time": "2023-10-15T04:02:24.646971600Z",
     "start_time": "2023-10-15T04:02:24.586997300Z"
    }
   },
   "outputs": [
    {
     "data": {
      "text/plain": "   cf_id  contact_id                 company_name  \\\n0    147        4661   Baldwin, Riley and Jackson   \n1   1621        3765                     Odom Inc   \n2   1812        4187   Melton, Robinson and Fritz   \n3   2156        4941  Mcdonald, Gonzalez and Ross   \n4   1365        2199                Larson-Little   \n\n                                           blurb    goal  pledged     outcome  \\\n0           Pre-emptive tertiary standardization     100        0      failed   \n1               Managed bottom-line architecture    1400    14560  successful   \n2   Function-based leadingedge pricing structure  108400   142523  successful   \n3  Vision-oriented fresh-thinking conglomeration    4200     2477      failed   \n4                      Proactive foreground core    7600     5265      failed   \n\n   backers_count country currency  launched_at    deadline  staff_pick  \\\n0              0      CA      CAD   1581573600  1614578400       False   \n1            158      US      USD   1611554400  1621918800       False   \n2           1425      AU      AUD   1608184800  1640844000       False   \n3             24      US      USD   1634792400  1642399200       False   \n4             53      US      USD   1608530400  1629694800       False   \n\n   spotlight category & sub-category    category  subcategory  \n0      False        food/food trucks        food  food trucks  \n1       True              music/rock       music         rock  \n2      False          technology/web  technology          web  \n3      False              music/rock       music         rock  \n4      False           theater/plays     theater        plays  ",
      "text/html": "<div>\n<style scoped>\n    .dataframe tbody tr th:only-of-type {\n        vertical-align: middle;\n    }\n\n    .dataframe tbody tr th {\n        vertical-align: top;\n    }\n\n    .dataframe thead th {\n        text-align: right;\n    }\n</style>\n<table border=\"1\" class=\"dataframe\">\n  <thead>\n    <tr style=\"text-align: right;\">\n      <th></th>\n      <th>cf_id</th>\n      <th>contact_id</th>\n      <th>company_name</th>\n      <th>blurb</th>\n      <th>goal</th>\n      <th>pledged</th>\n      <th>outcome</th>\n      <th>backers_count</th>\n      <th>country</th>\n      <th>currency</th>\n      <th>launched_at</th>\n      <th>deadline</th>\n      <th>staff_pick</th>\n      <th>spotlight</th>\n      <th>category &amp; sub-category</th>\n      <th>category</th>\n      <th>subcategory</th>\n    </tr>\n  </thead>\n  <tbody>\n    <tr>\n      <th>0</th>\n      <td>147</td>\n      <td>4661</td>\n      <td>Baldwin, Riley and Jackson</td>\n      <td>Pre-emptive tertiary standardization</td>\n      <td>100</td>\n      <td>0</td>\n      <td>failed</td>\n      <td>0</td>\n      <td>CA</td>\n      <td>CAD</td>\n      <td>1581573600</td>\n      <td>1614578400</td>\n      <td>False</td>\n      <td>False</td>\n      <td>food/food trucks</td>\n      <td>food</td>\n      <td>food trucks</td>\n    </tr>\n    <tr>\n      <th>1</th>\n      <td>1621</td>\n      <td>3765</td>\n      <td>Odom Inc</td>\n      <td>Managed bottom-line architecture</td>\n      <td>1400</td>\n      <td>14560</td>\n      <td>successful</td>\n      <td>158</td>\n      <td>US</td>\n      <td>USD</td>\n      <td>1611554400</td>\n      <td>1621918800</td>\n      <td>False</td>\n      <td>True</td>\n      <td>music/rock</td>\n      <td>music</td>\n      <td>rock</td>\n    </tr>\n    <tr>\n      <th>2</th>\n      <td>1812</td>\n      <td>4187</td>\n      <td>Melton, Robinson and Fritz</td>\n      <td>Function-based leadingedge pricing structure</td>\n      <td>108400</td>\n      <td>142523</td>\n      <td>successful</td>\n      <td>1425</td>\n      <td>AU</td>\n      <td>AUD</td>\n      <td>1608184800</td>\n      <td>1640844000</td>\n      <td>False</td>\n      <td>False</td>\n      <td>technology/web</td>\n      <td>technology</td>\n      <td>web</td>\n    </tr>\n    <tr>\n      <th>3</th>\n      <td>2156</td>\n      <td>4941</td>\n      <td>Mcdonald, Gonzalez and Ross</td>\n      <td>Vision-oriented fresh-thinking conglomeration</td>\n      <td>4200</td>\n      <td>2477</td>\n      <td>failed</td>\n      <td>24</td>\n      <td>US</td>\n      <td>USD</td>\n      <td>1634792400</td>\n      <td>1642399200</td>\n      <td>False</td>\n      <td>False</td>\n      <td>music/rock</td>\n      <td>music</td>\n      <td>rock</td>\n    </tr>\n    <tr>\n      <th>4</th>\n      <td>1365</td>\n      <td>2199</td>\n      <td>Larson-Little</td>\n      <td>Proactive foreground core</td>\n      <td>7600</td>\n      <td>5265</td>\n      <td>failed</td>\n      <td>53</td>\n      <td>US</td>\n      <td>USD</td>\n      <td>1608530400</td>\n      <td>1629694800</td>\n      <td>False</td>\n      <td>False</td>\n      <td>theater/plays</td>\n      <td>theater</td>\n      <td>plays</td>\n    </tr>\n  </tbody>\n</table>\n</div>"
     },
     "execution_count": 14,
     "metadata": {},
     "output_type": "execute_result"
    }
   ],
   "source": [
    "# Create a copy of the crowdfunding_info_df DataFrame name campaign_df. \n",
    "campaign_df = crowdfunding_info_df.copy()\n",
    "campaign_df.head()"
   ]
  },
  {
   "cell_type": "code",
   "execution_count": 15,
   "metadata": {
    "tags": [],
    "ExecuteTime": {
     "end_time": "2023-10-15T04:02:24.722098800Z",
     "start_time": "2023-10-15T04:02:24.596272400Z"
    }
   },
   "outputs": [
    {
     "data": {
      "text/plain": "   cf_id  contact_id                 company_name  \\\n0    147        4661   Baldwin, Riley and Jackson   \n1   1621        3765                     Odom Inc   \n2   1812        4187   Melton, Robinson and Fritz   \n3   2156        4941  Mcdonald, Gonzalez and Ross   \n4   1365        2199                Larson-Little   \n\n                                     description    goal  pledged     outcome  \\\n0           Pre-emptive tertiary standardization     100        0      failed   \n1               Managed bottom-line architecture    1400    14560  successful   \n2   Function-based leadingedge pricing structure  108400   142523  successful   \n3  Vision-oriented fresh-thinking conglomeration    4200     2477      failed   \n4                      Proactive foreground core    7600     5265      failed   \n\n   backers_count country currency  launch_date    end_date  staff_pick  \\\n0              0      CA      CAD   1581573600  1614578400       False   \n1            158      US      USD   1611554400  1621918800       False   \n2           1425      AU      AUD   1608184800  1640844000       False   \n3             24      US      USD   1634792400  1642399200       False   \n4             53      US      USD   1608530400  1629694800       False   \n\n   spotlight category & sub-category    category  subcategory  \n0      False        food/food trucks        food  food trucks  \n1       True              music/rock       music         rock  \n2      False          technology/web  technology          web  \n3      False              music/rock       music         rock  \n4      False           theater/plays     theater        plays  ",
      "text/html": "<div>\n<style scoped>\n    .dataframe tbody tr th:only-of-type {\n        vertical-align: middle;\n    }\n\n    .dataframe tbody tr th {\n        vertical-align: top;\n    }\n\n    .dataframe thead th {\n        text-align: right;\n    }\n</style>\n<table border=\"1\" class=\"dataframe\">\n  <thead>\n    <tr style=\"text-align: right;\">\n      <th></th>\n      <th>cf_id</th>\n      <th>contact_id</th>\n      <th>company_name</th>\n      <th>description</th>\n      <th>goal</th>\n      <th>pledged</th>\n      <th>outcome</th>\n      <th>backers_count</th>\n      <th>country</th>\n      <th>currency</th>\n      <th>launch_date</th>\n      <th>end_date</th>\n      <th>staff_pick</th>\n      <th>spotlight</th>\n      <th>category &amp; sub-category</th>\n      <th>category</th>\n      <th>subcategory</th>\n    </tr>\n  </thead>\n  <tbody>\n    <tr>\n      <th>0</th>\n      <td>147</td>\n      <td>4661</td>\n      <td>Baldwin, Riley and Jackson</td>\n      <td>Pre-emptive tertiary standardization</td>\n      <td>100</td>\n      <td>0</td>\n      <td>failed</td>\n      <td>0</td>\n      <td>CA</td>\n      <td>CAD</td>\n      <td>1581573600</td>\n      <td>1614578400</td>\n      <td>False</td>\n      <td>False</td>\n      <td>food/food trucks</td>\n      <td>food</td>\n      <td>food trucks</td>\n    </tr>\n    <tr>\n      <th>1</th>\n      <td>1621</td>\n      <td>3765</td>\n      <td>Odom Inc</td>\n      <td>Managed bottom-line architecture</td>\n      <td>1400</td>\n      <td>14560</td>\n      <td>successful</td>\n      <td>158</td>\n      <td>US</td>\n      <td>USD</td>\n      <td>1611554400</td>\n      <td>1621918800</td>\n      <td>False</td>\n      <td>True</td>\n      <td>music/rock</td>\n      <td>music</td>\n      <td>rock</td>\n    </tr>\n    <tr>\n      <th>2</th>\n      <td>1812</td>\n      <td>4187</td>\n      <td>Melton, Robinson and Fritz</td>\n      <td>Function-based leadingedge pricing structure</td>\n      <td>108400</td>\n      <td>142523</td>\n      <td>successful</td>\n      <td>1425</td>\n      <td>AU</td>\n      <td>AUD</td>\n      <td>1608184800</td>\n      <td>1640844000</td>\n      <td>False</td>\n      <td>False</td>\n      <td>technology/web</td>\n      <td>technology</td>\n      <td>web</td>\n    </tr>\n    <tr>\n      <th>3</th>\n      <td>2156</td>\n      <td>4941</td>\n      <td>Mcdonald, Gonzalez and Ross</td>\n      <td>Vision-oriented fresh-thinking conglomeration</td>\n      <td>4200</td>\n      <td>2477</td>\n      <td>failed</td>\n      <td>24</td>\n      <td>US</td>\n      <td>USD</td>\n      <td>1634792400</td>\n      <td>1642399200</td>\n      <td>False</td>\n      <td>False</td>\n      <td>music/rock</td>\n      <td>music</td>\n      <td>rock</td>\n    </tr>\n    <tr>\n      <th>4</th>\n      <td>1365</td>\n      <td>2199</td>\n      <td>Larson-Little</td>\n      <td>Proactive foreground core</td>\n      <td>7600</td>\n      <td>5265</td>\n      <td>failed</td>\n      <td>53</td>\n      <td>US</td>\n      <td>USD</td>\n      <td>1608530400</td>\n      <td>1629694800</td>\n      <td>False</td>\n      <td>False</td>\n      <td>theater/plays</td>\n      <td>theater</td>\n      <td>plays</td>\n    </tr>\n  </tbody>\n</table>\n</div>"
     },
     "execution_count": 15,
     "metadata": {},
     "output_type": "execute_result"
    }
   ],
   "source": [
    "# Rename the blurb, launched_at, and deadline columns.\n",
    "campaign_df = campaign_df.rename(columns={\"blurb\": \"description\",\n",
    "                                          \"launched_at\": \"launch_date\",\n",
    "                                          \"deadline\": \"end_date\"\n",
    "                                          }, errors=\"raise\")\n",
    "                                        \n",
    "campaign_df.head()"
   ]
  },
  {
   "cell_type": "code",
   "execution_count": 16,
   "metadata": {
    "tags": [],
    "ExecuteTime": {
     "end_time": "2023-10-15T04:02:24.741864500Z",
     "start_time": "2023-10-15T04:02:24.612807700Z"
    }
   },
   "outputs": [
    {
     "data": {
      "text/plain": "   cf_id  contact_id                 company_name  \\\n0    147        4661   Baldwin, Riley and Jackson   \n1   1621        3765                     Odom Inc   \n2   1812        4187   Melton, Robinson and Fritz   \n3   2156        4941  Mcdonald, Gonzalez and Ross   \n4   1365        2199                Larson-Little   \n\n                                     description      goal   pledged  \\\n0           Pre-emptive tertiary standardization     100.0       0.0   \n1               Managed bottom-line architecture    1400.0   14560.0   \n2   Function-based leadingedge pricing structure  108400.0  142523.0   \n3  Vision-oriented fresh-thinking conglomeration    4200.0    2477.0   \n4                      Proactive foreground core    7600.0    5265.0   \n\n      outcome  backers_count country currency  launch_date    end_date  \\\n0      failed              0      CA      CAD   1581573600  1614578400   \n1  successful            158      US      USD   1611554400  1621918800   \n2  successful           1425      AU      AUD   1608184800  1640844000   \n3      failed             24      US      USD   1634792400  1642399200   \n4      failed             53      US      USD   1608530400  1629694800   \n\n   staff_pick  spotlight category & sub-category    category  subcategory  \n0       False      False        food/food trucks        food  food trucks  \n1       False       True              music/rock       music         rock  \n2       False      False          technology/web  technology          web  \n3       False      False              music/rock       music         rock  \n4       False      False           theater/plays     theater        plays  ",
      "text/html": "<div>\n<style scoped>\n    .dataframe tbody tr th:only-of-type {\n        vertical-align: middle;\n    }\n\n    .dataframe tbody tr th {\n        vertical-align: top;\n    }\n\n    .dataframe thead th {\n        text-align: right;\n    }\n</style>\n<table border=\"1\" class=\"dataframe\">\n  <thead>\n    <tr style=\"text-align: right;\">\n      <th></th>\n      <th>cf_id</th>\n      <th>contact_id</th>\n      <th>company_name</th>\n      <th>description</th>\n      <th>goal</th>\n      <th>pledged</th>\n      <th>outcome</th>\n      <th>backers_count</th>\n      <th>country</th>\n      <th>currency</th>\n      <th>launch_date</th>\n      <th>end_date</th>\n      <th>staff_pick</th>\n      <th>spotlight</th>\n      <th>category &amp; sub-category</th>\n      <th>category</th>\n      <th>subcategory</th>\n    </tr>\n  </thead>\n  <tbody>\n    <tr>\n      <th>0</th>\n      <td>147</td>\n      <td>4661</td>\n      <td>Baldwin, Riley and Jackson</td>\n      <td>Pre-emptive tertiary standardization</td>\n      <td>100.0</td>\n      <td>0.0</td>\n      <td>failed</td>\n      <td>0</td>\n      <td>CA</td>\n      <td>CAD</td>\n      <td>1581573600</td>\n      <td>1614578400</td>\n      <td>False</td>\n      <td>False</td>\n      <td>food/food trucks</td>\n      <td>food</td>\n      <td>food trucks</td>\n    </tr>\n    <tr>\n      <th>1</th>\n      <td>1621</td>\n      <td>3765</td>\n      <td>Odom Inc</td>\n      <td>Managed bottom-line architecture</td>\n      <td>1400.0</td>\n      <td>14560.0</td>\n      <td>successful</td>\n      <td>158</td>\n      <td>US</td>\n      <td>USD</td>\n      <td>1611554400</td>\n      <td>1621918800</td>\n      <td>False</td>\n      <td>True</td>\n      <td>music/rock</td>\n      <td>music</td>\n      <td>rock</td>\n    </tr>\n    <tr>\n      <th>2</th>\n      <td>1812</td>\n      <td>4187</td>\n      <td>Melton, Robinson and Fritz</td>\n      <td>Function-based leadingedge pricing structure</td>\n      <td>108400.0</td>\n      <td>142523.0</td>\n      <td>successful</td>\n      <td>1425</td>\n      <td>AU</td>\n      <td>AUD</td>\n      <td>1608184800</td>\n      <td>1640844000</td>\n      <td>False</td>\n      <td>False</td>\n      <td>technology/web</td>\n      <td>technology</td>\n      <td>web</td>\n    </tr>\n    <tr>\n      <th>3</th>\n      <td>2156</td>\n      <td>4941</td>\n      <td>Mcdonald, Gonzalez and Ross</td>\n      <td>Vision-oriented fresh-thinking conglomeration</td>\n      <td>4200.0</td>\n      <td>2477.0</td>\n      <td>failed</td>\n      <td>24</td>\n      <td>US</td>\n      <td>USD</td>\n      <td>1634792400</td>\n      <td>1642399200</td>\n      <td>False</td>\n      <td>False</td>\n      <td>music/rock</td>\n      <td>music</td>\n      <td>rock</td>\n    </tr>\n    <tr>\n      <th>4</th>\n      <td>1365</td>\n      <td>2199</td>\n      <td>Larson-Little</td>\n      <td>Proactive foreground core</td>\n      <td>7600.0</td>\n      <td>5265.0</td>\n      <td>failed</td>\n      <td>53</td>\n      <td>US</td>\n      <td>USD</td>\n      <td>1608530400</td>\n      <td>1629694800</td>\n      <td>False</td>\n      <td>False</td>\n      <td>theater/plays</td>\n      <td>theater</td>\n      <td>plays</td>\n    </tr>\n  </tbody>\n</table>\n</div>"
     },
     "execution_count": 16,
     "metadata": {},
     "output_type": "execute_result"
    }
   ],
   "source": [
    "# Convert the goal and pledged columns to a `float` data type.\n",
    "campaign_df['goal'] = campaign_df['goal'].astype(\"float64\", copy=None, errors='raise')\n",
    "campaign_df['pledged'] = campaign_df['pledged'].astype(\"float64\", copy=None, errors='raise')\n",
    "campaign_df.head()"
   ]
  },
  {
   "cell_type": "code",
   "execution_count": 17,
   "metadata": {
    "tags": [],
    "ExecuteTime": {
     "end_time": "2023-10-15T04:02:24.755065800Z",
     "start_time": "2023-10-15T04:02:24.615941Z"
    }
   },
   "outputs": [
    {
     "data": {
      "text/plain": "cf_id                        int64\ncontact_id                   int64\ncompany_name                object\ndescription                 object\ngoal                       float64\npledged                    float64\noutcome                     object\nbackers_count                int64\ncountry                     object\ncurrency                    object\nlaunch_date                  int64\nend_date                     int64\nstaff_pick                    bool\nspotlight                     bool\ncategory & sub-category     object\ncategory                    object\nsubcategory                 object\ndtype: object"
     },
     "execution_count": 17,
     "metadata": {},
     "output_type": "execute_result"
    }
   ],
   "source": [
    "# Check the datatypes\n",
    "campaign_df.dtypes"
   ]
  },
  {
   "cell_type": "code",
   "execution_count": 18,
   "metadata": {
    "tags": [],
    "ExecuteTime": {
     "end_time": "2023-10-15T04:02:24.756063200Z",
     "start_time": "2023-10-15T04:02:24.628315100Z"
    }
   },
   "outputs": [
    {
     "data": {
      "text/plain": "   cf_id  contact_id                 company_name  \\\n0    147        4661   Baldwin, Riley and Jackson   \n1   1621        3765                     Odom Inc   \n2   1812        4187   Melton, Robinson and Fritz   \n3   2156        4941  Mcdonald, Gonzalez and Ross   \n4   1365        2199                Larson-Little   \n\n                                     description      goal   pledged  \\\n0           Pre-emptive tertiary standardization     100.0       0.0   \n1               Managed bottom-line architecture    1400.0   14560.0   \n2   Function-based leadingedge pricing structure  108400.0  142523.0   \n3  Vision-oriented fresh-thinking conglomeration    4200.0    2477.0   \n4                      Proactive foreground core    7600.0    5265.0   \n\n      outcome  backers_count country currency launch_date   end_date  \\\n0      failed              0      CA      CAD  2020-02-13 2021-03-01   \n1  successful            158      US      USD  2021-01-25 2021-05-25   \n2  successful           1425      AU      AUD  2020-12-17 2021-12-30   \n3      failed             24      US      USD  2021-10-21 2022-01-17   \n4      failed             53      US      USD  2020-12-21 2021-08-23   \n\n   staff_pick  spotlight category & sub-category    category  subcategory  \n0       False      False        food/food trucks        food  food trucks  \n1       False       True              music/rock       music         rock  \n2       False      False          technology/web  technology          web  \n3       False      False              music/rock       music         rock  \n4       False      False           theater/plays     theater        plays  ",
      "text/html": "<div>\n<style scoped>\n    .dataframe tbody tr th:only-of-type {\n        vertical-align: middle;\n    }\n\n    .dataframe tbody tr th {\n        vertical-align: top;\n    }\n\n    .dataframe thead th {\n        text-align: right;\n    }\n</style>\n<table border=\"1\" class=\"dataframe\">\n  <thead>\n    <tr style=\"text-align: right;\">\n      <th></th>\n      <th>cf_id</th>\n      <th>contact_id</th>\n      <th>company_name</th>\n      <th>description</th>\n      <th>goal</th>\n      <th>pledged</th>\n      <th>outcome</th>\n      <th>backers_count</th>\n      <th>country</th>\n      <th>currency</th>\n      <th>launch_date</th>\n      <th>end_date</th>\n      <th>staff_pick</th>\n      <th>spotlight</th>\n      <th>category &amp; sub-category</th>\n      <th>category</th>\n      <th>subcategory</th>\n    </tr>\n  </thead>\n  <tbody>\n    <tr>\n      <th>0</th>\n      <td>147</td>\n      <td>4661</td>\n      <td>Baldwin, Riley and Jackson</td>\n      <td>Pre-emptive tertiary standardization</td>\n      <td>100.0</td>\n      <td>0.0</td>\n      <td>failed</td>\n      <td>0</td>\n      <td>CA</td>\n      <td>CAD</td>\n      <td>2020-02-13</td>\n      <td>2021-03-01</td>\n      <td>False</td>\n      <td>False</td>\n      <td>food/food trucks</td>\n      <td>food</td>\n      <td>food trucks</td>\n    </tr>\n    <tr>\n      <th>1</th>\n      <td>1621</td>\n      <td>3765</td>\n      <td>Odom Inc</td>\n      <td>Managed bottom-line architecture</td>\n      <td>1400.0</td>\n      <td>14560.0</td>\n      <td>successful</td>\n      <td>158</td>\n      <td>US</td>\n      <td>USD</td>\n      <td>2021-01-25</td>\n      <td>2021-05-25</td>\n      <td>False</td>\n      <td>True</td>\n      <td>music/rock</td>\n      <td>music</td>\n      <td>rock</td>\n    </tr>\n    <tr>\n      <th>2</th>\n      <td>1812</td>\n      <td>4187</td>\n      <td>Melton, Robinson and Fritz</td>\n      <td>Function-based leadingedge pricing structure</td>\n      <td>108400.0</td>\n      <td>142523.0</td>\n      <td>successful</td>\n      <td>1425</td>\n      <td>AU</td>\n      <td>AUD</td>\n      <td>2020-12-17</td>\n      <td>2021-12-30</td>\n      <td>False</td>\n      <td>False</td>\n      <td>technology/web</td>\n      <td>technology</td>\n      <td>web</td>\n    </tr>\n    <tr>\n      <th>3</th>\n      <td>2156</td>\n      <td>4941</td>\n      <td>Mcdonald, Gonzalez and Ross</td>\n      <td>Vision-oriented fresh-thinking conglomeration</td>\n      <td>4200.0</td>\n      <td>2477.0</td>\n      <td>failed</td>\n      <td>24</td>\n      <td>US</td>\n      <td>USD</td>\n      <td>2021-10-21</td>\n      <td>2022-01-17</td>\n      <td>False</td>\n      <td>False</td>\n      <td>music/rock</td>\n      <td>music</td>\n      <td>rock</td>\n    </tr>\n    <tr>\n      <th>4</th>\n      <td>1365</td>\n      <td>2199</td>\n      <td>Larson-Little</td>\n      <td>Proactive foreground core</td>\n      <td>7600.0</td>\n      <td>5265.0</td>\n      <td>failed</td>\n      <td>53</td>\n      <td>US</td>\n      <td>USD</td>\n      <td>2020-12-21</td>\n      <td>2021-08-23</td>\n      <td>False</td>\n      <td>False</td>\n      <td>theater/plays</td>\n      <td>theater</td>\n      <td>plays</td>\n    </tr>\n  </tbody>\n</table>\n</div>"
     },
     "execution_count": 18,
     "metadata": {},
     "output_type": "execute_result"
    }
   ],
   "source": [
    "# Format the launched_date and end_date columns to datetime format\n",
    "from datetime import datetime as dt\n",
    "from datetime import datetime as dt\n",
    "campaign_df['launch_date'] = pd.to_datetime(campaign_df['launch_date'], unit='s').dt.strftime('%Y-%m-%d')\n",
    "campaign_df['end_date'] = pd.to_datetime(campaign_df['end_date'], unit='s').dt.strftime('%Y-%m-%d')\n",
    "campaign_df['launch_date'] = pd.to_datetime(campaign_df['launch_date'])\n",
    "campaign_df['end_date'] = pd.to_datetime(campaign_df['end_date'])\n",
    "campaign_df.head()"
   ]
  },
  {
   "cell_type": "code",
   "execution_count": 19,
   "metadata": {
    "tags": [],
    "ExecuteTime": {
     "end_time": "2023-10-15T04:02:24.786628Z",
     "start_time": "2023-10-15T04:02:24.636775Z"
    }
   },
   "outputs": [
    {
     "data": {
      "text/plain": "     cf_id  contact_id                 company_name  \\\n990    399        5983       Dixon, Perez and Banks   \n991   1378        2873                 Clements Ltd   \n992    806        2961                   Walter Inc   \n993   1563        3043  Sanders, Farley and Huffman   \n994   1951        6013           Rodriguez-Robinson   \n995    461        3521              Erickson-Rogers   \n996   1095        3565               Young and Sons   \n997   1388        4517              Valenzuela-Cook   \n998   2448        2389                   Little Ltd   \n999    602        2153                  Giles-Smith   \n\n                                   description      goal  pledged     outcome  \\\n990      Re-engineered encompassing definition    8300.0   2111.0      failed   \n991   Persistent bandwidth-monitored framework    3700.0   1343.0      failed   \n992         Streamlined 5thgeneration intranet   10000.0   8142.0      failed   \n993      Cross-group clear-thinking task-force  172000.0  55805.0      failed   \n994                   Ergonomic methodical hub    5900.0   4997.0      failed   \n995       De-engineered even-keeled definition    9800.0   7608.0    canceled   \n996      Innovative disintermediate encryption    2400.0   4596.0  successful   \n997             Total incremental productivity    6700.0   7496.0  successful   \n998  Decentralized bandwidth-monitored ability    6900.0  12155.0  successful   \n999           Right-sized web-enabled intranet    9700.0  11929.0  successful   \n\n     backers_count country currency launch_date   end_date  staff_pick  \\\n990             57      CA      CAD  2021-12-29 2022-01-16       False   \n991             52      US      USD  2020-07-07 2021-07-27       False   \n992            263      AU      AUD  2020-12-20 2021-01-31       False   \n993           1691      US      USD  2021-04-08 2021-12-18        True   \n994            114      IT      EUR  2021-07-23 2021-11-25       False   \n995             75      IT      EUR  2021-07-03 2021-07-08       False   \n996            144      US      USD  2020-11-28 2021-02-28       False   \n997            300      US      USD  2021-01-04 2021-10-04       False   \n998            419      US      USD  2021-01-25 2021-04-18       False   \n999            331      US      USD  2022-02-01 2022-02-16       False   \n\n     spotlight        category & sub-category     category        subcategory  \\\n990      False  photography/photography books  photography  photography books   \n991      False  photography/photography books  photography  photography books   \n992      False  photography/photography books  photography  photography books   \n993      False  photography/photography books  photography  photography books   \n994       True  photography/photography books  photography  photography books   \n995       True  photography/photography books  photography  photography books   \n996      False               journalism/audio   journalism              audio   \n997      False               journalism/audio   journalism              audio   \n998      False               journalism/audio   journalism              audio   \n999      False               journalism/audio   journalism              audio   \n\n    category_id subcategory_id  \n990        cat8       subcat15  \n991        cat8       subcat15  \n992        cat8       subcat15  \n993        cat8       subcat15  \n994        cat8       subcat15  \n995        cat8       subcat15  \n996        cat9       subcat24  \n997        cat9       subcat24  \n998        cat9       subcat24  \n999        cat9       subcat24  ",
      "text/html": "<div>\n<style scoped>\n    .dataframe tbody tr th:only-of-type {\n        vertical-align: middle;\n    }\n\n    .dataframe tbody tr th {\n        vertical-align: top;\n    }\n\n    .dataframe thead th {\n        text-align: right;\n    }\n</style>\n<table border=\"1\" class=\"dataframe\">\n  <thead>\n    <tr style=\"text-align: right;\">\n      <th></th>\n      <th>cf_id</th>\n      <th>contact_id</th>\n      <th>company_name</th>\n      <th>description</th>\n      <th>goal</th>\n      <th>pledged</th>\n      <th>outcome</th>\n      <th>backers_count</th>\n      <th>country</th>\n      <th>currency</th>\n      <th>launch_date</th>\n      <th>end_date</th>\n      <th>staff_pick</th>\n      <th>spotlight</th>\n      <th>category &amp; sub-category</th>\n      <th>category</th>\n      <th>subcategory</th>\n      <th>category_id</th>\n      <th>subcategory_id</th>\n    </tr>\n  </thead>\n  <tbody>\n    <tr>\n      <th>990</th>\n      <td>399</td>\n      <td>5983</td>\n      <td>Dixon, Perez and Banks</td>\n      <td>Re-engineered encompassing definition</td>\n      <td>8300.0</td>\n      <td>2111.0</td>\n      <td>failed</td>\n      <td>57</td>\n      <td>CA</td>\n      <td>CAD</td>\n      <td>2021-12-29</td>\n      <td>2022-01-16</td>\n      <td>False</td>\n      <td>False</td>\n      <td>photography/photography books</td>\n      <td>photography</td>\n      <td>photography books</td>\n      <td>cat8</td>\n      <td>subcat15</td>\n    </tr>\n    <tr>\n      <th>991</th>\n      <td>1378</td>\n      <td>2873</td>\n      <td>Clements Ltd</td>\n      <td>Persistent bandwidth-monitored framework</td>\n      <td>3700.0</td>\n      <td>1343.0</td>\n      <td>failed</td>\n      <td>52</td>\n      <td>US</td>\n      <td>USD</td>\n      <td>2020-07-07</td>\n      <td>2021-07-27</td>\n      <td>False</td>\n      <td>False</td>\n      <td>photography/photography books</td>\n      <td>photography</td>\n      <td>photography books</td>\n      <td>cat8</td>\n      <td>subcat15</td>\n    </tr>\n    <tr>\n      <th>992</th>\n      <td>806</td>\n      <td>2961</td>\n      <td>Walter Inc</td>\n      <td>Streamlined 5thgeneration intranet</td>\n      <td>10000.0</td>\n      <td>8142.0</td>\n      <td>failed</td>\n      <td>263</td>\n      <td>AU</td>\n      <td>AUD</td>\n      <td>2020-12-20</td>\n      <td>2021-01-31</td>\n      <td>False</td>\n      <td>False</td>\n      <td>photography/photography books</td>\n      <td>photography</td>\n      <td>photography books</td>\n      <td>cat8</td>\n      <td>subcat15</td>\n    </tr>\n    <tr>\n      <th>993</th>\n      <td>1563</td>\n      <td>3043</td>\n      <td>Sanders, Farley and Huffman</td>\n      <td>Cross-group clear-thinking task-force</td>\n      <td>172000.0</td>\n      <td>55805.0</td>\n      <td>failed</td>\n      <td>1691</td>\n      <td>US</td>\n      <td>USD</td>\n      <td>2021-04-08</td>\n      <td>2021-12-18</td>\n      <td>True</td>\n      <td>False</td>\n      <td>photography/photography books</td>\n      <td>photography</td>\n      <td>photography books</td>\n      <td>cat8</td>\n      <td>subcat15</td>\n    </tr>\n    <tr>\n      <th>994</th>\n      <td>1951</td>\n      <td>6013</td>\n      <td>Rodriguez-Robinson</td>\n      <td>Ergonomic methodical hub</td>\n      <td>5900.0</td>\n      <td>4997.0</td>\n      <td>failed</td>\n      <td>114</td>\n      <td>IT</td>\n      <td>EUR</td>\n      <td>2021-07-23</td>\n      <td>2021-11-25</td>\n      <td>False</td>\n      <td>True</td>\n      <td>photography/photography books</td>\n      <td>photography</td>\n      <td>photography books</td>\n      <td>cat8</td>\n      <td>subcat15</td>\n    </tr>\n    <tr>\n      <th>995</th>\n      <td>461</td>\n      <td>3521</td>\n      <td>Erickson-Rogers</td>\n      <td>De-engineered even-keeled definition</td>\n      <td>9800.0</td>\n      <td>7608.0</td>\n      <td>canceled</td>\n      <td>75</td>\n      <td>IT</td>\n      <td>EUR</td>\n      <td>2021-07-03</td>\n      <td>2021-07-08</td>\n      <td>False</td>\n      <td>True</td>\n      <td>photography/photography books</td>\n      <td>photography</td>\n      <td>photography books</td>\n      <td>cat8</td>\n      <td>subcat15</td>\n    </tr>\n    <tr>\n      <th>996</th>\n      <td>1095</td>\n      <td>3565</td>\n      <td>Young and Sons</td>\n      <td>Innovative disintermediate encryption</td>\n      <td>2400.0</td>\n      <td>4596.0</td>\n      <td>successful</td>\n      <td>144</td>\n      <td>US</td>\n      <td>USD</td>\n      <td>2020-11-28</td>\n      <td>2021-02-28</td>\n      <td>False</td>\n      <td>False</td>\n      <td>journalism/audio</td>\n      <td>journalism</td>\n      <td>audio</td>\n      <td>cat9</td>\n      <td>subcat24</td>\n    </tr>\n    <tr>\n      <th>997</th>\n      <td>1388</td>\n      <td>4517</td>\n      <td>Valenzuela-Cook</td>\n      <td>Total incremental productivity</td>\n      <td>6700.0</td>\n      <td>7496.0</td>\n      <td>successful</td>\n      <td>300</td>\n      <td>US</td>\n      <td>USD</td>\n      <td>2021-01-04</td>\n      <td>2021-10-04</td>\n      <td>False</td>\n      <td>False</td>\n      <td>journalism/audio</td>\n      <td>journalism</td>\n      <td>audio</td>\n      <td>cat9</td>\n      <td>subcat24</td>\n    </tr>\n    <tr>\n      <th>998</th>\n      <td>2448</td>\n      <td>2389</td>\n      <td>Little Ltd</td>\n      <td>Decentralized bandwidth-monitored ability</td>\n      <td>6900.0</td>\n      <td>12155.0</td>\n      <td>successful</td>\n      <td>419</td>\n      <td>US</td>\n      <td>USD</td>\n      <td>2021-01-25</td>\n      <td>2021-04-18</td>\n      <td>False</td>\n      <td>False</td>\n      <td>journalism/audio</td>\n      <td>journalism</td>\n      <td>audio</td>\n      <td>cat9</td>\n      <td>subcat24</td>\n    </tr>\n    <tr>\n      <th>999</th>\n      <td>602</td>\n      <td>2153</td>\n      <td>Giles-Smith</td>\n      <td>Right-sized web-enabled intranet</td>\n      <td>9700.0</td>\n      <td>11929.0</td>\n      <td>successful</td>\n      <td>331</td>\n      <td>US</td>\n      <td>USD</td>\n      <td>2022-02-01</td>\n      <td>2022-02-16</td>\n      <td>False</td>\n      <td>False</td>\n      <td>journalism/audio</td>\n      <td>journalism</td>\n      <td>audio</td>\n      <td>cat9</td>\n      <td>subcat24</td>\n    </tr>\n  </tbody>\n</table>\n</div>"
     },
     "execution_count": 19,
     "metadata": {},
     "output_type": "execute_result"
    }
   ],
   "source": [
    "# Merge the campaign_df with the category_df on the \"category\" column and \n",
    "# the subcategory_df on the \"subcategory\" column.\n",
    "campaign_merged_df = pd.merge(campaign_df, category_df, on = \"category\")\n",
    "campaign_merged_df = pd.merge(campaign_merged_df, subcategory_df, on = \"subcategory\")\n",
    "\n",
    "campaign_merged_df.tail(10)"
   ]
  },
  {
   "cell_type": "code",
   "execution_count": 20,
   "metadata": {
    "tags": [],
    "ExecuteTime": {
     "end_time": "2023-10-15T04:02:24.787136Z",
     "start_time": "2023-10-15T04:02:24.655520100Z"
    }
   },
   "outputs": [
    {
     "data": {
      "text/plain": "   cf_id  contact_id                company_name  \\\n0    147        4661  Baldwin, Riley and Jackson   \n1   1175        2288               Werner-Bryant   \n2    873        2067                 Stewart LLC   \n3   2568        5989              Castillo-Carey   \n4   1211        3307      Wright, Hartman and Yu   \n\n                                            description      goal  pledged  \\\n0                  Pre-emptive tertiary standardization     100.0      0.0   \n1                                 Virtual uniform frame    1800.0   7991.0   \n2                    Cloned bi-directional architecture    1300.0  12047.0   \n3  Cross-platform solution-oriented process improvement  142400.0  21307.0   \n4                          User-friendly tertiary array    3300.0  12437.0   \n\n      outcome  backers_count country currency launch_date   end_date  \\\n0      failed              0      CA      CAD  2020-02-13 2021-03-01   \n1  successful            222      US      USD  2020-06-20 2021-01-30   \n2  successful            113      US      USD  2020-11-29 2021-06-11   \n3      failed            296      US      USD  2020-05-05 2021-05-30   \n4  successful            131      US      USD  2021-01-29 2021-02-13   \n\n  category_id subcategory_id  \n0        cat1        subcat1  \n1        cat1        subcat1  \n2        cat1        subcat1  \n3        cat1        subcat1  \n4        cat1        subcat1  ",
      "text/html": "<div>\n<style scoped>\n    .dataframe tbody tr th:only-of-type {\n        vertical-align: middle;\n    }\n\n    .dataframe tbody tr th {\n        vertical-align: top;\n    }\n\n    .dataframe thead th {\n        text-align: right;\n    }\n</style>\n<table border=\"1\" class=\"dataframe\">\n  <thead>\n    <tr style=\"text-align: right;\">\n      <th></th>\n      <th>cf_id</th>\n      <th>contact_id</th>\n      <th>company_name</th>\n      <th>description</th>\n      <th>goal</th>\n      <th>pledged</th>\n      <th>outcome</th>\n      <th>backers_count</th>\n      <th>country</th>\n      <th>currency</th>\n      <th>launch_date</th>\n      <th>end_date</th>\n      <th>category_id</th>\n      <th>subcategory_id</th>\n    </tr>\n  </thead>\n  <tbody>\n    <tr>\n      <th>0</th>\n      <td>147</td>\n      <td>4661</td>\n      <td>Baldwin, Riley and Jackson</td>\n      <td>Pre-emptive tertiary standardization</td>\n      <td>100.0</td>\n      <td>0.0</td>\n      <td>failed</td>\n      <td>0</td>\n      <td>CA</td>\n      <td>CAD</td>\n      <td>2020-02-13</td>\n      <td>2021-03-01</td>\n      <td>cat1</td>\n      <td>subcat1</td>\n    </tr>\n    <tr>\n      <th>1</th>\n      <td>1175</td>\n      <td>2288</td>\n      <td>Werner-Bryant</td>\n      <td>Virtual uniform frame</td>\n      <td>1800.0</td>\n      <td>7991.0</td>\n      <td>successful</td>\n      <td>222</td>\n      <td>US</td>\n      <td>USD</td>\n      <td>2020-06-20</td>\n      <td>2021-01-30</td>\n      <td>cat1</td>\n      <td>subcat1</td>\n    </tr>\n    <tr>\n      <th>2</th>\n      <td>873</td>\n      <td>2067</td>\n      <td>Stewart LLC</td>\n      <td>Cloned bi-directional architecture</td>\n      <td>1300.0</td>\n      <td>12047.0</td>\n      <td>successful</td>\n      <td>113</td>\n      <td>US</td>\n      <td>USD</td>\n      <td>2020-11-29</td>\n      <td>2021-06-11</td>\n      <td>cat1</td>\n      <td>subcat1</td>\n    </tr>\n    <tr>\n      <th>3</th>\n      <td>2568</td>\n      <td>5989</td>\n      <td>Castillo-Carey</td>\n      <td>Cross-platform solution-oriented process improvement</td>\n      <td>142400.0</td>\n      <td>21307.0</td>\n      <td>failed</td>\n      <td>296</td>\n      <td>US</td>\n      <td>USD</td>\n      <td>2020-05-05</td>\n      <td>2021-05-30</td>\n      <td>cat1</td>\n      <td>subcat1</td>\n    </tr>\n    <tr>\n      <th>4</th>\n      <td>1211</td>\n      <td>3307</td>\n      <td>Wright, Hartman and Yu</td>\n      <td>User-friendly tertiary array</td>\n      <td>3300.0</td>\n      <td>12437.0</td>\n      <td>successful</td>\n      <td>131</td>\n      <td>US</td>\n      <td>USD</td>\n      <td>2021-01-29</td>\n      <td>2021-02-13</td>\n      <td>cat1</td>\n      <td>subcat1</td>\n    </tr>\n  </tbody>\n</table>\n</div>"
     },
     "execution_count": 20,
     "metadata": {},
     "output_type": "execute_result"
    }
   ],
   "source": [
    "# Drop unwanted columns\n",
    "campaign_cleaned = campaign_merged_df.drop(['staff_pick', 'spotlight', 'category & sub-category','category', 'subcategory'],axis=1)\n",
    "campaign_cleaned.head()"
   ]
  },
  {
   "cell_type": "code",
   "execution_count": 21,
   "metadata": {
    "tags": [],
    "ExecuteTime": {
     "end_time": "2023-10-15T04:02:24.787136Z",
     "start_time": "2023-10-15T04:02:24.665938800Z"
    }
   },
   "outputs": [],
   "source": [
    "# Export the DataFrame as a CSV file. \n",
    "campaign_cleaned.to_csv(\"Resources/campaign.csv\", index=False)"
   ]
  },
  {
   "cell_type": "markdown",
   "metadata": {},
   "source": [
    "### Extract the contacts.xlsx Data."
   ]
  },
  {
   "cell_type": "code",
   "execution_count": 22,
   "metadata": {
    "tags": [],
    "ExecuteTime": {
     "end_time": "2023-10-15T04:02:24.890731400Z",
     "start_time": "2023-10-15T04:02:24.675228Z"
    }
   },
   "outputs": [
    {
     "data": {
      "text/plain": "                                                                                            \n0                                                                               contact_info\n1   {\"contact_id\": 4661, \"name\": \"Cecilia Velasco\", \"email\": \"cecilia.velasco@rodrigues.fr\"}\n2          {\"contact_id\": 3765, \"name\": \"Mariana Ellis\", \"email\": \"mariana.ellis@rossi.org\"}\n3            {\"contact_id\": 4187, \"name\": \"Sofie Woods\", \"email\": \"sofie.woods@riviere.com\"}\n4  {\"contact_id\": 4941, \"name\": \"Jeanette Iannotti\", \"email\": \"jeanette.iannotti@yahoo.com\"}",
      "text/html": "<div>\n<style scoped>\n    .dataframe tbody tr th:only-of-type {\n        vertical-align: middle;\n    }\n\n    .dataframe tbody tr th {\n        vertical-align: top;\n    }\n\n    .dataframe thead th {\n        text-align: right;\n    }\n</style>\n<table border=\"1\" class=\"dataframe\">\n  <thead>\n    <tr style=\"text-align: right;\">\n      <th></th>\n      <th></th>\n    </tr>\n  </thead>\n  <tbody>\n    <tr>\n      <th>0</th>\n      <td>contact_info</td>\n    </tr>\n    <tr>\n      <th>1</th>\n      <td>{\"contact_id\": 4661, \"name\": \"Cecilia Velasco\", \"email\": \"cecilia.velasco@rodrigues.fr\"}</td>\n    </tr>\n    <tr>\n      <th>2</th>\n      <td>{\"contact_id\": 3765, \"name\": \"Mariana Ellis\", \"email\": \"mariana.ellis@rossi.org\"}</td>\n    </tr>\n    <tr>\n      <th>3</th>\n      <td>{\"contact_id\": 4187, \"name\": \"Sofie Woods\", \"email\": \"sofie.woods@riviere.com\"}</td>\n    </tr>\n    <tr>\n      <th>4</th>\n      <td>{\"contact_id\": 4941, \"name\": \"Jeanette Iannotti\", \"email\": \"jeanette.iannotti@yahoo.com\"}</td>\n    </tr>\n  </tbody>\n</table>\n</div>"
     },
     "execution_count": 22,
     "metadata": {},
     "output_type": "execute_result"
    }
   ],
   "source": [
    "# Read the data into a Pandas DataFrame. Use the `header=2` parameter when reading in the data.\n",
    "contact_info_df = pd.read_excel('Resources/contacts.xlsx', header=2)\n",
    "contact_info_df.head()"
   ]
  },
  {
   "cell_type": "markdown",
   "metadata": {},
   "source": [
    "### Create the Contacts DataFrame \n",
    "---\n",
    "**Create a Contacts DataFrame that has the following columns:**\n",
    "- A column named \"contact_id\"  that contains the unique number of the contact person.\n",
    "- A column named \"first_name\" that contains the first name of the contact person.\n",
    "- A column named \"last_name\" that contains the first name of the contact person.\n",
    "- A column named \"email\" that contains the email address of the contact person\n",
    "\n",
    "Then export the DataFrame as a `contacts.csv` CSV file."
   ]
  },
  {
   "cell_type": "markdown",
   "metadata": {},
   "source": [
    "### Option 1: Use Pandas to create the contacts DataFrame."
   ]
  },
  {
   "cell_type": "code",
   "execution_count": 23,
   "metadata": {
    "tags": [],
    "ExecuteTime": {
     "end_time": "2023-10-15T04:02:24.890731400Z",
     "start_time": "2023-10-15T04:02:24.705443500Z"
    }
   },
   "outputs": [
    {
     "name": "stdout",
     "output_type": "stream",
     "text": [
      "Index(['   '], dtype='object')\n"
     ]
    }
   ],
   "source": [
    "column_names = contact_info_df.columns\n",
    "print(column_names)"
   ]
  },
  {
   "cell_type": "code",
   "execution_count": 24,
   "metadata": {
    "tags": [],
    "ExecuteTime": {
     "end_time": "2023-10-15T04:02:24.890731400Z",
     "start_time": "2023-10-15T04:02:24.707812700Z"
    }
   },
   "outputs": [],
   "source": [
    "contact_info_df.columns = ['contact_info']"
   ]
  },
  {
   "cell_type": "code",
   "execution_count": 25,
   "metadata": {
    "tags": [],
    "ExecuteTime": {
     "end_time": "2023-10-15T04:02:24.891844100Z",
     "start_time": "2023-10-15T04:02:24.714692500Z"
    }
   },
   "outputs": [
    {
     "data": {
      "text/plain": "                                                                                contact_info\n0                                                                               contact_info\n1   {\"contact_id\": 4661, \"name\": \"Cecilia Velasco\", \"email\": \"cecilia.velasco@rodrigues.fr\"}\n2          {\"contact_id\": 3765, \"name\": \"Mariana Ellis\", \"email\": \"mariana.ellis@rossi.org\"}\n3            {\"contact_id\": 4187, \"name\": \"Sofie Woods\", \"email\": \"sofie.woods@riviere.com\"}\n4  {\"contact_id\": 4941, \"name\": \"Jeanette Iannotti\", \"email\": \"jeanette.iannotti@yahoo.com\"}",
      "text/html": "<div>\n<style scoped>\n    .dataframe tbody tr th:only-of-type {\n        vertical-align: middle;\n    }\n\n    .dataframe tbody tr th {\n        vertical-align: top;\n    }\n\n    .dataframe thead th {\n        text-align: right;\n    }\n</style>\n<table border=\"1\" class=\"dataframe\">\n  <thead>\n    <tr style=\"text-align: right;\">\n      <th></th>\n      <th>contact_info</th>\n    </tr>\n  </thead>\n  <tbody>\n    <tr>\n      <th>0</th>\n      <td>contact_info</td>\n    </tr>\n    <tr>\n      <th>1</th>\n      <td>{\"contact_id\": 4661, \"name\": \"Cecilia Velasco\", \"email\": \"cecilia.velasco@rodrigues.fr\"}</td>\n    </tr>\n    <tr>\n      <th>2</th>\n      <td>{\"contact_id\": 3765, \"name\": \"Mariana Ellis\", \"email\": \"mariana.ellis@rossi.org\"}</td>\n    </tr>\n    <tr>\n      <th>3</th>\n      <td>{\"contact_id\": 4187, \"name\": \"Sofie Woods\", \"email\": \"sofie.woods@riviere.com\"}</td>\n    </tr>\n    <tr>\n      <th>4</th>\n      <td>{\"contact_id\": 4941, \"name\": \"Jeanette Iannotti\", \"email\": \"jeanette.iannotti@yahoo.com\"}</td>\n    </tr>\n  </tbody>\n</table>\n</div>"
     },
     "execution_count": 25,
     "metadata": {},
     "output_type": "execute_result"
    }
   ],
   "source": [
    "contact_info_df.head()"
   ]
  },
  {
   "cell_type": "code",
   "execution_count": 26,
   "metadata": {
    "tags": [],
    "ExecuteTime": {
     "end_time": "2023-10-15T04:02:24.891844100Z",
     "start_time": "2023-10-15T04:02:24.715723100Z"
    }
   },
   "outputs": [],
   "source": [
    "contact_info_df = contact_info_df.drop(0)"
   ]
  },
  {
   "cell_type": "code",
   "execution_count": 27,
   "metadata": {
    "tags": [],
    "ExecuteTime": {
     "end_time": "2023-10-15T04:02:24.894854100Z",
     "start_time": "2023-10-15T04:02:24.721091500Z"
    }
   },
   "outputs": [
    {
     "data": {
      "text/plain": "                                                                                contact_info\n1   {\"contact_id\": 4661, \"name\": \"Cecilia Velasco\", \"email\": \"cecilia.velasco@rodrigues.fr\"}\n2          {\"contact_id\": 3765, \"name\": \"Mariana Ellis\", \"email\": \"mariana.ellis@rossi.org\"}\n3            {\"contact_id\": 4187, \"name\": \"Sofie Woods\", \"email\": \"sofie.woods@riviere.com\"}\n4  {\"contact_id\": 4941, \"name\": \"Jeanette Iannotti\", \"email\": \"jeanette.iannotti@yahoo.com\"}\n5        {\"contact_id\": 2199, \"name\": \"Samuel Sorgatz\", \"email\": \"samuel.sorgatz@gmail.com\"}",
      "text/html": "<div>\n<style scoped>\n    .dataframe tbody tr th:only-of-type {\n        vertical-align: middle;\n    }\n\n    .dataframe tbody tr th {\n        vertical-align: top;\n    }\n\n    .dataframe thead th {\n        text-align: right;\n    }\n</style>\n<table border=\"1\" class=\"dataframe\">\n  <thead>\n    <tr style=\"text-align: right;\">\n      <th></th>\n      <th>contact_info</th>\n    </tr>\n  </thead>\n  <tbody>\n    <tr>\n      <th>1</th>\n      <td>{\"contact_id\": 4661, \"name\": \"Cecilia Velasco\", \"email\": \"cecilia.velasco@rodrigues.fr\"}</td>\n    </tr>\n    <tr>\n      <th>2</th>\n      <td>{\"contact_id\": 3765, \"name\": \"Mariana Ellis\", \"email\": \"mariana.ellis@rossi.org\"}</td>\n    </tr>\n    <tr>\n      <th>3</th>\n      <td>{\"contact_id\": 4187, \"name\": \"Sofie Woods\", \"email\": \"sofie.woods@riviere.com\"}</td>\n    </tr>\n    <tr>\n      <th>4</th>\n      <td>{\"contact_id\": 4941, \"name\": \"Jeanette Iannotti\", \"email\": \"jeanette.iannotti@yahoo.com\"}</td>\n    </tr>\n    <tr>\n      <th>5</th>\n      <td>{\"contact_id\": 2199, \"name\": \"Samuel Sorgatz\", \"email\": \"samuel.sorgatz@gmail.com\"}</td>\n    </tr>\n  </tbody>\n</table>\n</div>"
     },
     "execution_count": 27,
     "metadata": {},
     "output_type": "execute_result"
    }
   ],
   "source": [
    "contact_info_df.head()"
   ]
  },
  {
   "cell_type": "code",
   "execution_count": 28,
   "metadata": {
    "tags": [],
    "ExecuteTime": {
     "end_time": "2023-10-15T04:02:25.064559400Z",
     "start_time": "2023-10-15T04:02:24.724678200Z"
    }
   },
   "outputs": [
    {
     "data": {
      "text/plain": "                                                                                  parsed_data  \\\n1    {'contact_id': 4661, 'name': 'Cecilia Velasco', 'email': 'cecilia.velasco@rodrigues.fr'}   \n2           {'contact_id': 3765, 'name': 'Mariana Ellis', 'email': 'mariana.ellis@rossi.org'}   \n3             {'contact_id': 4187, 'name': 'Sofie Woods', 'email': 'sofie.woods@riviere.com'}   \n4   {'contact_id': 4941, 'name': 'Jeanette Iannotti', 'email': 'jeanette.iannotti@yahoo.com'}   \n5         {'contact_id': 2199, 'name': 'Samuel Sorgatz', 'email': 'samuel.sorgatz@gmail.com'}   \n6           {'contact_id': 5650, 'name': 'Socorro Luna', 'email': 'socorro.luna@hotmail.com'}   \n7      {'contact_id': 5889, 'name': 'Carolina Murray', 'email': 'carolina.murray@knight.com'}   \n8                  {'contact_id': 4842, 'name': 'Kayla Moon', 'email': 'kayla.moon@yahoo.de'}   \n9        {'contact_id': 3280, 'name': 'Ariadna Geisel', 'email': 'ariadna.geisel@rangel.com'}   \n10   {'contact_id': 5468, 'name': 'Danielle Ladeck', 'email': 'danielle.ladeck@scalfaro.net'}   \n\n    contact_id               name                         email  \n1         4661    Cecilia Velasco  cecilia.velasco@rodrigues.fr  \n2         3765      Mariana Ellis       mariana.ellis@rossi.org  \n3         4187        Sofie Woods       sofie.woods@riviere.com  \n4         4941  Jeanette Iannotti   jeanette.iannotti@yahoo.com  \n5         2199     Samuel Sorgatz      samuel.sorgatz@gmail.com  \n6         5650       Socorro Luna      socorro.luna@hotmail.com  \n7         5889    Carolina Murray    carolina.murray@knight.com  \n8         4842         Kayla Moon           kayla.moon@yahoo.de  \n9         3280     Ariadna Geisel     ariadna.geisel@rangel.com  \n10        5468    Danielle Ladeck  danielle.ladeck@scalfaro.net  ",
      "text/html": "<div>\n<style scoped>\n    .dataframe tbody tr th:only-of-type {\n        vertical-align: middle;\n    }\n\n    .dataframe tbody tr th {\n        vertical-align: top;\n    }\n\n    .dataframe thead th {\n        text-align: right;\n    }\n</style>\n<table border=\"1\" class=\"dataframe\">\n  <thead>\n    <tr style=\"text-align: right;\">\n      <th></th>\n      <th>parsed_data</th>\n      <th>contact_id</th>\n      <th>name</th>\n      <th>email</th>\n    </tr>\n  </thead>\n  <tbody>\n    <tr>\n      <th>1</th>\n      <td>{'contact_id': 4661, 'name': 'Cecilia Velasco', 'email': 'cecilia.velasco@rodrigues.fr'}</td>\n      <td>4661</td>\n      <td>Cecilia Velasco</td>\n      <td>cecilia.velasco@rodrigues.fr</td>\n    </tr>\n    <tr>\n      <th>2</th>\n      <td>{'contact_id': 3765, 'name': 'Mariana Ellis', 'email': 'mariana.ellis@rossi.org'}</td>\n      <td>3765</td>\n      <td>Mariana Ellis</td>\n      <td>mariana.ellis@rossi.org</td>\n    </tr>\n    <tr>\n      <th>3</th>\n      <td>{'contact_id': 4187, 'name': 'Sofie Woods', 'email': 'sofie.woods@riviere.com'}</td>\n      <td>4187</td>\n      <td>Sofie Woods</td>\n      <td>sofie.woods@riviere.com</td>\n    </tr>\n    <tr>\n      <th>4</th>\n      <td>{'contact_id': 4941, 'name': 'Jeanette Iannotti', 'email': 'jeanette.iannotti@yahoo.com'}</td>\n      <td>4941</td>\n      <td>Jeanette Iannotti</td>\n      <td>jeanette.iannotti@yahoo.com</td>\n    </tr>\n    <tr>\n      <th>5</th>\n      <td>{'contact_id': 2199, 'name': 'Samuel Sorgatz', 'email': 'samuel.sorgatz@gmail.com'}</td>\n      <td>2199</td>\n      <td>Samuel Sorgatz</td>\n      <td>samuel.sorgatz@gmail.com</td>\n    </tr>\n    <tr>\n      <th>6</th>\n      <td>{'contact_id': 5650, 'name': 'Socorro Luna', 'email': 'socorro.luna@hotmail.com'}</td>\n      <td>5650</td>\n      <td>Socorro Luna</td>\n      <td>socorro.luna@hotmail.com</td>\n    </tr>\n    <tr>\n      <th>7</th>\n      <td>{'contact_id': 5889, 'name': 'Carolina Murray', 'email': 'carolina.murray@knight.com'}</td>\n      <td>5889</td>\n      <td>Carolina Murray</td>\n      <td>carolina.murray@knight.com</td>\n    </tr>\n    <tr>\n      <th>8</th>\n      <td>{'contact_id': 4842, 'name': 'Kayla Moon', 'email': 'kayla.moon@yahoo.de'}</td>\n      <td>4842</td>\n      <td>Kayla Moon</td>\n      <td>kayla.moon@yahoo.de</td>\n    </tr>\n    <tr>\n      <th>9</th>\n      <td>{'contact_id': 3280, 'name': 'Ariadna Geisel', 'email': 'ariadna.geisel@rangel.com'}</td>\n      <td>3280</td>\n      <td>Ariadna Geisel</td>\n      <td>ariadna.geisel@rangel.com</td>\n    </tr>\n    <tr>\n      <th>10</th>\n      <td>{'contact_id': 5468, 'name': 'Danielle Ladeck', 'email': 'danielle.ladeck@scalfaro.net'}</td>\n      <td>5468</td>\n      <td>Danielle Ladeck</td>\n      <td>danielle.ladeck@scalfaro.net</td>\n    </tr>\n  </tbody>\n</table>\n</div>"
     },
     "execution_count": 28,
     "metadata": {},
     "output_type": "execute_result"
    }
   ],
   "source": [
    "# Split the data in the \"column_name\" into separate columns\n",
    "contact_info_df['parsed_data'] = contact_info_df['contact_info'].apply(lambda x: json.loads(x))\n",
    "contact_info_df = pd.concat([contact_info_df.drop(['contact_info'], axis=1), contact_info_df['parsed_data'].apply(pd.Series)], axis=1)\n",
    "\n",
    "# Display the DataFrame\n",
    "contact_info_df.head(10)"
   ]
  },
  {
   "cell_type": "code",
   "execution_count": 29,
   "metadata": {
    "tags": [],
    "ExecuteTime": {
     "end_time": "2023-10-15T04:02:25.064559400Z",
     "start_time": "2023-10-15T04:02:24.871496700Z"
    }
   },
   "outputs": [
    {
     "data": {
      "text/plain": "                                                                                  parsed_data  \\\n1    {'contact_id': 4661, 'name': 'Cecilia Velasco', 'email': 'cecilia.velasco@rodrigues.fr'}   \n2           {'contact_id': 3765, 'name': 'Mariana Ellis', 'email': 'mariana.ellis@rossi.org'}   \n3             {'contact_id': 4187, 'name': 'Sofie Woods', 'email': 'sofie.woods@riviere.com'}   \n4   {'contact_id': 4941, 'name': 'Jeanette Iannotti', 'email': 'jeanette.iannotti@yahoo.com'}   \n5         {'contact_id': 2199, 'name': 'Samuel Sorgatz', 'email': 'samuel.sorgatz@gmail.com'}   \n6           {'contact_id': 5650, 'name': 'Socorro Luna', 'email': 'socorro.luna@hotmail.com'}   \n7      {'contact_id': 5889, 'name': 'Carolina Murray', 'email': 'carolina.murray@knight.com'}   \n8                  {'contact_id': 4842, 'name': 'Kayla Moon', 'email': 'kayla.moon@yahoo.de'}   \n9        {'contact_id': 3280, 'name': 'Ariadna Geisel', 'email': 'ariadna.geisel@rangel.com'}   \n10   {'contact_id': 5468, 'name': 'Danielle Ladeck', 'email': 'danielle.ladeck@scalfaro.net'}   \n\n    contact_id               name                         email first_name  \\\n1         4661    Cecilia Velasco  cecilia.velasco@rodrigues.fr    Cecilia   \n2         3765      Mariana Ellis       mariana.ellis@rossi.org    Mariana   \n3         4187        Sofie Woods       sofie.woods@riviere.com      Sofie   \n4         4941  Jeanette Iannotti   jeanette.iannotti@yahoo.com   Jeanette   \n5         2199     Samuel Sorgatz      samuel.sorgatz@gmail.com     Samuel   \n6         5650       Socorro Luna      socorro.luna@hotmail.com    Socorro   \n7         5889    Carolina Murray    carolina.murray@knight.com   Carolina   \n8         4842         Kayla Moon           kayla.moon@yahoo.de      Kayla   \n9         3280     Ariadna Geisel     ariadna.geisel@rangel.com    Ariadna   \n10        5468    Danielle Ladeck  danielle.ladeck@scalfaro.net   Danielle   \n\n   last_name  \n1    Velasco  \n2      Ellis  \n3      Woods  \n4   Iannotti  \n5    Sorgatz  \n6       Luna  \n7     Murray  \n8       Moon  \n9     Geisel  \n10    Ladeck  ",
      "text/html": "<div>\n<style scoped>\n    .dataframe tbody tr th:only-of-type {\n        vertical-align: middle;\n    }\n\n    .dataframe tbody tr th {\n        vertical-align: top;\n    }\n\n    .dataframe thead th {\n        text-align: right;\n    }\n</style>\n<table border=\"1\" class=\"dataframe\">\n  <thead>\n    <tr style=\"text-align: right;\">\n      <th></th>\n      <th>parsed_data</th>\n      <th>contact_id</th>\n      <th>name</th>\n      <th>email</th>\n      <th>first_name</th>\n      <th>last_name</th>\n    </tr>\n  </thead>\n  <tbody>\n    <tr>\n      <th>1</th>\n      <td>{'contact_id': 4661, 'name': 'Cecilia Velasco', 'email': 'cecilia.velasco@rodrigues.fr'}</td>\n      <td>4661</td>\n      <td>Cecilia Velasco</td>\n      <td>cecilia.velasco@rodrigues.fr</td>\n      <td>Cecilia</td>\n      <td>Velasco</td>\n    </tr>\n    <tr>\n      <th>2</th>\n      <td>{'contact_id': 3765, 'name': 'Mariana Ellis', 'email': 'mariana.ellis@rossi.org'}</td>\n      <td>3765</td>\n      <td>Mariana Ellis</td>\n      <td>mariana.ellis@rossi.org</td>\n      <td>Mariana</td>\n      <td>Ellis</td>\n    </tr>\n    <tr>\n      <th>3</th>\n      <td>{'contact_id': 4187, 'name': 'Sofie Woods', 'email': 'sofie.woods@riviere.com'}</td>\n      <td>4187</td>\n      <td>Sofie Woods</td>\n      <td>sofie.woods@riviere.com</td>\n      <td>Sofie</td>\n      <td>Woods</td>\n    </tr>\n    <tr>\n      <th>4</th>\n      <td>{'contact_id': 4941, 'name': 'Jeanette Iannotti', 'email': 'jeanette.iannotti@yahoo.com'}</td>\n      <td>4941</td>\n      <td>Jeanette Iannotti</td>\n      <td>jeanette.iannotti@yahoo.com</td>\n      <td>Jeanette</td>\n      <td>Iannotti</td>\n    </tr>\n    <tr>\n      <th>5</th>\n      <td>{'contact_id': 2199, 'name': 'Samuel Sorgatz', 'email': 'samuel.sorgatz@gmail.com'}</td>\n      <td>2199</td>\n      <td>Samuel Sorgatz</td>\n      <td>samuel.sorgatz@gmail.com</td>\n      <td>Samuel</td>\n      <td>Sorgatz</td>\n    </tr>\n    <tr>\n      <th>6</th>\n      <td>{'contact_id': 5650, 'name': 'Socorro Luna', 'email': 'socorro.luna@hotmail.com'}</td>\n      <td>5650</td>\n      <td>Socorro Luna</td>\n      <td>socorro.luna@hotmail.com</td>\n      <td>Socorro</td>\n      <td>Luna</td>\n    </tr>\n    <tr>\n      <th>7</th>\n      <td>{'contact_id': 5889, 'name': 'Carolina Murray', 'email': 'carolina.murray@knight.com'}</td>\n      <td>5889</td>\n      <td>Carolina Murray</td>\n      <td>carolina.murray@knight.com</td>\n      <td>Carolina</td>\n      <td>Murray</td>\n    </tr>\n    <tr>\n      <th>8</th>\n      <td>{'contact_id': 4842, 'name': 'Kayla Moon', 'email': 'kayla.moon@yahoo.de'}</td>\n      <td>4842</td>\n      <td>Kayla Moon</td>\n      <td>kayla.moon@yahoo.de</td>\n      <td>Kayla</td>\n      <td>Moon</td>\n    </tr>\n    <tr>\n      <th>9</th>\n      <td>{'contact_id': 3280, 'name': 'Ariadna Geisel', 'email': 'ariadna.geisel@rangel.com'}</td>\n      <td>3280</td>\n      <td>Ariadna Geisel</td>\n      <td>ariadna.geisel@rangel.com</td>\n      <td>Ariadna</td>\n      <td>Geisel</td>\n    </tr>\n    <tr>\n      <th>10</th>\n      <td>{'contact_id': 5468, 'name': 'Danielle Ladeck', 'email': 'danielle.ladeck@scalfaro.net'}</td>\n      <td>5468</td>\n      <td>Danielle Ladeck</td>\n      <td>danielle.ladeck@scalfaro.net</td>\n      <td>Danielle</td>\n      <td>Ladeck</td>\n    </tr>\n  </tbody>\n</table>\n</div>"
     },
     "execution_count": 29,
     "metadata": {},
     "output_type": "execute_result"
    }
   ],
   "source": [
    "# Split \"name\" into \"first_name\" and \"last_name\"\n",
    "contact_info_df[['first_name', 'last_name']] = contact_info_df['name'].str.split(' ', n=1, expand=True)\n",
    "contact_info_df.head(10)"
   ]
  },
  {
   "cell_type": "code",
   "execution_count": 30,
   "metadata": {
    "tags": [],
    "ExecuteTime": {
     "end_time": "2023-10-15T04:02:25.066700Z",
     "start_time": "2023-10-15T04:02:24.879388100Z"
    }
   },
   "outputs": [
    {
     "data": {
      "text/plain": "                                                                                  parsed_data  \\\n1    {'contact_id': 4661, 'name': 'Cecilia Velasco', 'email': 'cecilia.velasco@rodrigues.fr'}   \n2           {'contact_id': 3765, 'name': 'Mariana Ellis', 'email': 'mariana.ellis@rossi.org'}   \n3             {'contact_id': 4187, 'name': 'Sofie Woods', 'email': 'sofie.woods@riviere.com'}   \n4   {'contact_id': 4941, 'name': 'Jeanette Iannotti', 'email': 'jeanette.iannotti@yahoo.com'}   \n5         {'contact_id': 2199, 'name': 'Samuel Sorgatz', 'email': 'samuel.sorgatz@gmail.com'}   \n6           {'contact_id': 5650, 'name': 'Socorro Luna', 'email': 'socorro.luna@hotmail.com'}   \n7      {'contact_id': 5889, 'name': 'Carolina Murray', 'email': 'carolina.murray@knight.com'}   \n8                  {'contact_id': 4842, 'name': 'Kayla Moon', 'email': 'kayla.moon@yahoo.de'}   \n9        {'contact_id': 3280, 'name': 'Ariadna Geisel', 'email': 'ariadna.geisel@rangel.com'}   \n10   {'contact_id': 5468, 'name': 'Danielle Ladeck', 'email': 'danielle.ladeck@scalfaro.net'}   \n\n    contact_id                         email first_name last_name  \n1         4661  cecilia.velasco@rodrigues.fr    Cecilia   Velasco  \n2         3765       mariana.ellis@rossi.org    Mariana     Ellis  \n3         4187       sofie.woods@riviere.com      Sofie     Woods  \n4         4941   jeanette.iannotti@yahoo.com   Jeanette  Iannotti  \n5         2199      samuel.sorgatz@gmail.com     Samuel   Sorgatz  \n6         5650      socorro.luna@hotmail.com    Socorro      Luna  \n7         5889    carolina.murray@knight.com   Carolina    Murray  \n8         4842           kayla.moon@yahoo.de      Kayla      Moon  \n9         3280     ariadna.geisel@rangel.com    Ariadna    Geisel  \n10        5468  danielle.ladeck@scalfaro.net   Danielle    Ladeck  ",
      "text/html": "<div>\n<style scoped>\n    .dataframe tbody tr th:only-of-type {\n        vertical-align: middle;\n    }\n\n    .dataframe tbody tr th {\n        vertical-align: top;\n    }\n\n    .dataframe thead th {\n        text-align: right;\n    }\n</style>\n<table border=\"1\" class=\"dataframe\">\n  <thead>\n    <tr style=\"text-align: right;\">\n      <th></th>\n      <th>parsed_data</th>\n      <th>contact_id</th>\n      <th>email</th>\n      <th>first_name</th>\n      <th>last_name</th>\n    </tr>\n  </thead>\n  <tbody>\n    <tr>\n      <th>1</th>\n      <td>{'contact_id': 4661, 'name': 'Cecilia Velasco', 'email': 'cecilia.velasco@rodrigues.fr'}</td>\n      <td>4661</td>\n      <td>cecilia.velasco@rodrigues.fr</td>\n      <td>Cecilia</td>\n      <td>Velasco</td>\n    </tr>\n    <tr>\n      <th>2</th>\n      <td>{'contact_id': 3765, 'name': 'Mariana Ellis', 'email': 'mariana.ellis@rossi.org'}</td>\n      <td>3765</td>\n      <td>mariana.ellis@rossi.org</td>\n      <td>Mariana</td>\n      <td>Ellis</td>\n    </tr>\n    <tr>\n      <th>3</th>\n      <td>{'contact_id': 4187, 'name': 'Sofie Woods', 'email': 'sofie.woods@riviere.com'}</td>\n      <td>4187</td>\n      <td>sofie.woods@riviere.com</td>\n      <td>Sofie</td>\n      <td>Woods</td>\n    </tr>\n    <tr>\n      <th>4</th>\n      <td>{'contact_id': 4941, 'name': 'Jeanette Iannotti', 'email': 'jeanette.iannotti@yahoo.com'}</td>\n      <td>4941</td>\n      <td>jeanette.iannotti@yahoo.com</td>\n      <td>Jeanette</td>\n      <td>Iannotti</td>\n    </tr>\n    <tr>\n      <th>5</th>\n      <td>{'contact_id': 2199, 'name': 'Samuel Sorgatz', 'email': 'samuel.sorgatz@gmail.com'}</td>\n      <td>2199</td>\n      <td>samuel.sorgatz@gmail.com</td>\n      <td>Samuel</td>\n      <td>Sorgatz</td>\n    </tr>\n    <tr>\n      <th>6</th>\n      <td>{'contact_id': 5650, 'name': 'Socorro Luna', 'email': 'socorro.luna@hotmail.com'}</td>\n      <td>5650</td>\n      <td>socorro.luna@hotmail.com</td>\n      <td>Socorro</td>\n      <td>Luna</td>\n    </tr>\n    <tr>\n      <th>7</th>\n      <td>{'contact_id': 5889, 'name': 'Carolina Murray', 'email': 'carolina.murray@knight.com'}</td>\n      <td>5889</td>\n      <td>carolina.murray@knight.com</td>\n      <td>Carolina</td>\n      <td>Murray</td>\n    </tr>\n    <tr>\n      <th>8</th>\n      <td>{'contact_id': 4842, 'name': 'Kayla Moon', 'email': 'kayla.moon@yahoo.de'}</td>\n      <td>4842</td>\n      <td>kayla.moon@yahoo.de</td>\n      <td>Kayla</td>\n      <td>Moon</td>\n    </tr>\n    <tr>\n      <th>9</th>\n      <td>{'contact_id': 3280, 'name': 'Ariadna Geisel', 'email': 'ariadna.geisel@rangel.com'}</td>\n      <td>3280</td>\n      <td>ariadna.geisel@rangel.com</td>\n      <td>Ariadna</td>\n      <td>Geisel</td>\n    </tr>\n    <tr>\n      <th>10</th>\n      <td>{'contact_id': 5468, 'name': 'Danielle Ladeck', 'email': 'danielle.ladeck@scalfaro.net'}</td>\n      <td>5468</td>\n      <td>danielle.ladeck@scalfaro.net</td>\n      <td>Danielle</td>\n      <td>Ladeck</td>\n    </tr>\n  </tbody>\n</table>\n</div>"
     },
     "execution_count": 30,
     "metadata": {},
     "output_type": "execute_result"
    }
   ],
   "source": [
    "contact_info_df = contact_info_df.drop('name', axis=1)\n",
    "contact_info_df.head(10)"
   ]
  },
  {
   "cell_type": "code",
   "execution_count": 31,
   "metadata": {
    "tags": [],
    "ExecuteTime": {
     "end_time": "2023-10-15T04:02:25.248342600Z",
     "start_time": "2023-10-15T04:02:24.887724600Z"
    }
   },
   "outputs": [
    {
     "name": "stdout",
     "output_type": "stream",
     "text": [
      "[{'Contact ID': 4661, 'First Name': 'Cecilia', 'Last Name': 'Velasco', 'Email': 'cecilia.velasco@rodrigues.fr'}, {'Contact ID': 3765, 'First Name': 'Mariana', 'Last Name': 'Ellis', 'Email': 'mariana.ellis@rossi.org'}, {'Contact ID': 4187, 'First Name': 'Sofie', 'Last Name': 'Woods', 'Email': 'sofie.woods@riviere.com'}, {'Contact ID': 4941, 'First Name': 'Jeanette', 'Last Name': 'Iannotti', 'Email': 'jeanette.iannotti@yahoo.com'}, {'Contact ID': 2199, 'First Name': 'Samuel', 'Last Name': 'Sorgatz', 'Email': 'samuel.sorgatz@gmail.com'}, {'Contact ID': 5650, 'First Name': 'Socorro', 'Last Name': 'Luna', 'Email': 'socorro.luna@hotmail.com'}, {'Contact ID': 5889, 'First Name': 'Carolina', 'Last Name': 'Murray', 'Email': 'carolina.murray@knight.com'}, {'Contact ID': 4842, 'First Name': 'Kayla', 'Last Name': 'Moon', 'Email': 'kayla.moon@yahoo.de'}, {'Contact ID': 3280, 'First Name': 'Ariadna', 'Last Name': 'Geisel', 'Email': 'ariadna.geisel@rangel.com'}, {'Contact ID': 5468, 'First Name': 'Danielle', 'Last Name': 'Ladeck', 'Email': 'danielle.ladeck@scalfaro.net'}, {'Contact ID': 3064, 'First Name': 'Tatiana', 'Last Name': 'Thompson', 'Email': 'tatiana.thompson@hunt.net'}, {'Contact ID': 4904, 'First Name': 'Caleb', 'Last Name': 'Benavides', 'Email': 'caleb.benavides@rubio.com'}, {'Contact ID': 1299, 'First Name': 'Sandra', 'Last Name': 'Hardy', 'Email': 'sandra.hardy@web.de'}, {'Contact ID': 5602, 'First Name': 'Lotti', 'Last Name': 'Morris', 'Email': 'lotti.morris@yahoo.co.uk'}, {'Contact ID': 5753, 'First Name': 'Reinhilde', 'Last Name': 'White', 'Email': 'reinhilde.white@voila.fr'}, {'Contact ID': 4495, 'First Name': 'Kerry', 'Last Name': 'Patel', 'Email': 'kerry.patel@hutchinson.com'}, {'Contact ID': 4269, 'First Name': 'Sophie', 'Last Name': 'Antoine', 'Email': 'sophie.antoine@andersen.com'}, {'Contact ID': 2226, 'First Name': 'Martha', 'Last Name': 'Girard', 'Email': 'martha.girard@web.de'}, {'Contact ID': 1558, 'First Name': 'Stephanie', 'Last Name': 'King', 'Email': 'stephanie.king@cervantes.com'}, {'Contact ID': 2307, 'First Name': 'Amanda', 'Last Name': 'Palmer', 'Email': 'amanda.palmer@didier.fr'}, {'Contact ID': 2900, 'First Name': 'Lina', 'Last Name': 'Alcala', 'Email': 'lina.alcala@vespa.net'}, {'Contact ID': 5695, 'First Name': 'Itzel', 'Last Name': 'Murphy', 'Email': 'itzel.murphy@muelichen.de'}, {'Contact ID': 5708, 'First Name': 'Filippo', 'Last Name': 'Parry', 'Email': 'filippo.parry@live.com'}, {'Contact ID': 1663, 'First Name': 'Katelyn', 'Last Name': 'Cole', 'Email': 'katelyn.cole@fiebig.com'}, {'Contact ID': 3605, 'First Name': 'Brian', 'Last Name': 'Novak', 'Email': 'brian.novak@ford.net'}, {'Contact ID': 4678, 'First Name': 'Cilly', 'Last Name': 'Gay', 'Email': 'cilly.gay@callegaro.it'}, {'Contact ID': 2251, 'First Name': 'Yolanda', 'Last Name': 'Snyder', 'Email': 'yolanda.snyder@gmx.de'}, {'Contact ID': 6202, 'First Name': 'Evelin', 'Last Name': 'Odonnell', 'Email': 'evelin.odonnell@ibarra.net'}, {'Contact ID': 3715, 'First Name': 'Ingeborg', 'Last Name': 'Alba', 'Email': 'ingeborg.alba@hotmail.com'}, {'Contact ID': 4242, 'First Name': 'Marina', 'Last Name': 'Madrid', 'Email': 'marina.madrid@galarza-alba.com'}, {'Contact ID': 4326, 'First Name': 'Sheila', 'Last Name': 'Goodwin', 'Email': 'sheila.goodwin@yahoo.com'}, {'Contact ID': 5560, 'First Name': 'Valeria', 'Last Name': 'Rich', 'Email': 'valeria.rich@turchetta-mondadori.it'}, {'Contact ID': 4002, 'First Name': 'Dustin', 'Last Name': 'Camacho', 'Email': 'dustin.camacho@rhodes.org.au'}, {'Contact ID': 3813, 'First Name': 'Amalia', 'Last Name': 'Marenzio', 'Email': 'amalia.marenzio@grupo.com'}, {'Contact ID': 5336, 'First Name': 'Gian', 'Last Name': 'Long', 'Email': 'gian.long@hotmail.com'}, {'Contact ID': 4994, 'First Name': 'Stewart', 'Last Name': 'Hunt', 'Email': 'stewart.hunt@anderson-vargas.biz'}, {'Contact ID': 1471, 'First Name': 'Greca', 'Last Name': 'Ruiz', 'Email': 'greca.ruiz@carr.co.uk'}, {'Contact ID': 4482, 'First Name': 'Gerald', 'Last Name': 'Olivera', 'Email': 'gerald.olivera@outlook.com'}, {'Contact ID': 3241, 'First Name': 'Jaqueline', 'Last Name': 'Wallace', 'Email': 'jaqueline.wallace@gmail.com'}, {'Contact ID': 3477, 'First Name': 'John', 'Last Name': 'Lane', 'Email': 'john.lane@gregoire.fr'}, {'Contact ID': 2265, 'First Name': 'Pero', 'Last Name': 'Joly', 'Email': 'pero.joly@bernard.net'}, {'Contact ID': 5911, 'First Name': 'Chad', 'Last Name': 'Turner', 'Email': 'chad.turner@gmail.com'}, {'Contact ID': 2288, 'First Name': 'Adam', 'Last Name': 'Zavala', 'Email': 'adam.zavala@guichard.fr'}, {'Contact ID': 4064, 'First Name': 'Tyler', 'Last Name': 'Rivera', 'Email': 'tyler.rivera@guajardo-ozuna.com'}, {'Contact ID': 1294, 'First Name': 'Jens', 'Last Name': 'Graham', 'Email': 'jens.graham@jones-buckley.com'}, {'Contact ID': 5008, 'First Name': 'Virginia', 'Last Name': 'Caetani', 'Email': 'virginia.caetani@sosa.biz'}, {'Contact ID': 3604, 'First Name': 'Martino', 'Last Name': 'Wagner', 'Email': 'martino.wagner@laposte.net'}, {'Contact ID': 3263, 'First Name': 'Martin', 'Last Name': 'Meyer', 'Email': 'martin.meyer@davis.co.uk'}, {'Contact ID': 5631, 'First Name': 'Marguerite', 'Last Name': 'Walls', 'Email': 'marguerite.walls@martinez.fr'}, {'Contact ID': 2851, 'First Name': 'Peter', 'Last Name': 'Vogt', 'Email': 'peter.vogt@yahoo.com'}, {'Contact ID': 3714, 'First Name': 'Nicholas', 'Last Name': 'Christian', 'Email': 'nicholas.christian@hotmail.de'}, {'Contact ID': 1664, 'First Name': 'Susi', 'Last Name': 'Steinberg', 'Email': 'susi.steinberg@preiss.com'}, {'Contact ID': 5027, 'First Name': 'Tammy', 'Last Name': 'Ramazzotti', 'Email': 'tammy.ramazzotti@gmail.com'}, {'Contact ID': 3070, 'First Name': 'Abdul', 'Last Name': 'Thomas', 'Email': 'abdul.thomas@vasari.com'}, {'Contact ID': 4248, 'First Name': 'Justin', 'Last Name': 'Luxardo', 'Email': 'justin.luxardo@googlemail.com'}, {'Contact ID': 2034, 'First Name': 'Antonio', 'Last Name': 'Gibson', 'Email': 'antonio.gibson@faust.net'}, {'Contact ID': 4085, 'First Name': 'Jeremy', 'Last Name': 'Gomez', 'Email': 'jeremy.gomez@oconnor.org'}, {'Contact ID': 3569, 'First Name': 'Raymond', 'Last Name': 'Solorzano', 'Email': 'raymond.solorzano@gmail.com'}, {'Contact ID': 3889, 'First Name': 'Flora', 'Last Name': 'Harris', 'Email': 'flora.harris@hotmail.com.au'}, {'Contact ID': 3136, 'First Name': 'Cheryl', 'Last Name': 'Boyd', 'Email': 'cheryl.boyd@segni.it'}, {'Contact ID': 2103, 'First Name': 'Rhys', 'Last Name': 'Leiva', 'Email': 'rhys.leiva@gmx.de'}, {'Contact ID': 2329, 'First Name': 'Mariano', 'Last Name': 'Prieto', 'Email': 'mariano.prieto@vodafone.it'}, {'Contact ID': 3325, 'First Name': 'Laurie', 'Last Name': 'Fibonacci', 'Email': 'laurie.fibonacci@gmail.com'}, {'Contact ID': 3131, 'First Name': 'David', 'Last Name': 'Rudolph', 'Email': 'david.rudolph@nelson.com'}, {'Contact ID': 4995, 'First Name': 'Bryan', 'Last Name': 'Ross', 'Email': 'bryan.ross@yahoo.com'}, {'Contact ID': 3631, 'First Name': 'Ubaldo', 'Last Name': 'Brown', 'Email': 'ubaldo.brown@philippe.com'}, {'Contact ID': 5373, 'First Name': 'Clelia', 'Last Name': 'Faulkner', 'Email': 'clelia.faulkner@hotmail.com'}, {'Contact ID': 3126, 'First Name': 'Sara', 'Last Name': 'Erickson', 'Email': 'sara.erickson@yahoo.de'}, {'Contact ID': 2194, 'First Name': 'Rupert', 'Last Name': 'Valle', 'Email': 'rupert.valle@filogamo.it'}, {'Contact ID': 2906, 'First Name': 'Puccio', 'Last Name': 'Kitzmann', 'Email': 'puccio.kitzmann@yahoo.com'}, {'Contact ID': 2611, 'First Name': 'Thomas', 'Last Name': 'Hutchinson', 'Email': 'thomas.hutchinson@gmx.de'}, {'Contact ID': 2374, 'First Name': 'Abelardo', 'Last Name': 'Castro', 'Email': 'abelardo.castro@gmail.com'}, {'Contact ID': 3254, 'First Name': 'Greco', 'Last Name': 'Walker', 'Email': 'greco.walker@yahoo.com'}, {'Contact ID': 3571, 'First Name': 'Miranda', 'Last Name': 'Lacombe', 'Email': 'miranda.lacombe@longoria-vanegas.net'}, {'Contact ID': 2812, 'First Name': 'Diana', 'Last Name': 'Schuchhardt', 'Email': 'diana.schuchhardt@libero.it'}, {'Contact ID': 3961, 'First Name': 'Stacey', 'Last Name': 'Knox', 'Email': 'stacey.knox@corporacin.com'}, {'Contact ID': 3872, 'First Name': 'Glen', 'Last Name': 'Faivre', 'Email': 'glen.faivre@yahoo.com'}, {'Contact ID': 4736, 'First Name': 'Andrew', 'Last Name': 'Torres', 'Email': 'andrew.torres@ruiz-torres.org'}, {'Contact ID': 5119, 'First Name': 'Denny', 'Last Name': 'Fritz', 'Email': 'denny.fritz@despacho.biz'}, {'Contact ID': 5725, 'First Name': 'Martyn', 'Last Name': 'Caldera', 'Email': 'martyn.caldera@hotmail.co.uk'}, {'Contact ID': 4037, 'First Name': 'Abigail', 'Last Name': 'Foster', 'Email': 'abigail.foster@taylor.net'}, {'Contact ID': 2109, 'First Name': 'Anthony', 'Last Name': 'Hauffer', 'Email': 'anthony.hauffer@tlustek.org'}, {'Contact ID': 3283, 'First Name': 'Roger', 'Last Name': 'Gerlach', 'Email': 'roger.gerlach@may-mitchell.co.uk'}, {'Contact ID': 6181, 'First Name': 'Christopher', 'Last Name': 'Poirier', 'Email': 'christopher.poirier@hotmail.com'}, {'Contact ID': 3251, 'First Name': 'Branka', 'Last Name': 'Traore', 'Email': 'branka.traore@jacobi.com'}, {'Contact ID': 3443, 'First Name': 'Briana', 'Last Name': 'Etienne', 'Email': 'briana.etienne@bishop-coates.com'}, {'Contact ID': 2988, 'First Name': 'Brandon', 'Last Name': 'Olson', 'Email': 'brandon.olson@prince-moreno.net'}, {'Contact ID': 1673, 'First Name': 'Celia', 'Last Name': 'Ungaretti', 'Email': 'celia.ungaretti@fox.com'}, {'Contact ID': 2085, 'First Name': 'Barbara', 'Last Name': 'Guibert', 'Email': 'barbara.guibert@casares-sanches.com'}, {'Contact ID': 1672, 'First Name': 'Daniela', 'Last Name': 'Bell', 'Email': 'daniela.bell@vollbrecht.org'}, {'Contact ID': 4426, 'First Name': 'Phyllis', 'Last Name': 'Gurule', 'Email': 'phyllis.gurule@rodriguez-pham.com'}, {'Contact ID': 3211, 'First Name': 'Alejandra', 'Last Name': 'Joseph', 'Email': 'alejandra.joseph@escalante-abrego.biz'}, {'Contact ID': 3190, 'First Name': 'Giulio', 'Last Name': 'Bohlander', 'Email': 'giulio.bohlander@dbmail.com'}, {'Contact ID': 2081, 'First Name': 'Amber', 'Last Name': 'Weller', 'Email': 'amber.weller@toso.eu'}, {'Contact ID': 3185, 'First Name': 'Mary', 'Last Name': 'Etzold', 'Email': 'mary.etzold@conrad-harrison.com'}, {'Contact ID': 5044, 'First Name': 'Amy', 'Last Name': 'Georges', 'Email': 'amy.georges@raedel.de'}, {'Contact ID': 1883, 'First Name': 'Jennifer', 'Last Name': 'Giraud', 'Email': 'jennifer.giraud@yahoo.com'}, {'Contact ID': 2067, 'First Name': 'Rosie', 'Last Name': 'Peltier', 'Email': 'rosie.peltier@voila.fr'}, {'Contact ID': 4604, 'First Name': 'Oreste', 'Last Name': 'Ward', 'Email': 'oreste.ward@proyectos.com'}, {'Contact ID': 3203, 'First Name': 'Luis', 'Last Name': 'Edwards', 'Email': 'luis.edwards@live.com'}, {'Contact ID': 5758, 'First Name': 'Fiona', 'Last Name': 'Griffiths', 'Email': 'fiona.griffiths@curatoli-verdone.it'}, {'Contact ID': 5755, 'First Name': 'Sally', 'Last Name': 'Raya', 'Email': 'sally.raya@tarchetti.it'}, {'Contact ID': 5150, 'First Name': 'Carolyn', 'Last Name': 'Charpentier', 'Email': 'carolyn.charpentier@hotmail.de'}, {'Contact ID': 4181, 'First Name': 'Nathalie', 'Last Name': 'Alvarez', 'Email': 'nathalie.alvarez@live.com'}, {'Contact ID': 3006, 'First Name': 'Abril', 'Last Name': 'Lowery', 'Email': 'abril.lowery@novak.net'}, {'Contact ID': 4865, 'First Name': 'Ottone', 'Last Name': 'Sullivan', 'Email': 'ottone.sullivan@hussain-kaur.com'}, {'Contact ID': 2862, 'First Name': 'Esmeralda', 'Last Name': 'Sollima', 'Email': 'esmeralda.sollima@visintini.it'}, {'Contact ID': 6070, 'First Name': 'Silvia', 'Last Name': 'Gierschner', 'Email': 'silvia.gierschner@tele2.it'}, {'Contact ID': 5300, 'First Name': 'Kyle', 'Last Name': 'Cunningham', 'Email': 'kyle.cunningham@voila.fr'}, {'Contact ID': 3486, 'First Name': 'Anel', 'Last Name': 'Carpentier', 'Email': 'anel.carpentier@klein-joseph.org'}, {'Contact ID': 5989, 'First Name': 'Sarah', 'Last Name': 'Davis', 'Email': 'sarah.davis@david.com'}, {'Contact ID': 2849, 'First Name': 'Luke', 'Last Name': 'Klein', 'Email': 'luke.klein@hotmail.com'}, {'Contact ID': 1612, 'First Name': 'Gudrun', 'Last Name': 'Mueller', 'Email': 'gudrun.mueller@dillon-fuller.info'}, {'Contact ID': 3307, 'First Name': 'Melissa', 'Last Name': 'Canali', 'Email': 'melissa.canali@libero.it'}, {'Contact ID': 5288, 'First Name': 'Gabrielle', 'Last Name': 'Ayala', 'Email': 'gabrielle.ayala@hotmail.com'}, {'Contact ID': 6026, 'First Name': 'Laura', 'Last Name': 'Buckley', 'Email': 'laura.buckley@ryan.org'}, {'Contact ID': 2212, 'First Name': 'Wilfrido', 'Last Name': 'Lorch', 'Email': 'wilfrido.lorch@leclerc.fr'}, {'Contact ID': 4591, 'First Name': 'Robert', 'Last Name': 'Bruder', 'Email': 'robert.bruder@manzoni.com'}, {'Contact ID': 2771, 'First Name': 'Phillip', 'Last Name': 'Soliz', 'Email': 'phillip.soliz@outlook.com'}, {'Contact ID': 5682, 'First Name': 'Alex', 'Last Name': 'Smith', 'Email': 'alex.smith@fournier.fr'}, {'Contact ID': 5368, 'First Name': 'Jessica', 'Last Name': 'Martinez', 'Email': 'jessica.martinez@salieri.com'}, {'Contact ID': 3706, 'First Name': 'Kelly', 'Last Name': 'Carter', 'Email': 'kelly.carter@hotmail.com.au'}, {'Contact ID': 4034, 'First Name': 'Ahmad', 'Last Name': 'Sosa', 'Email': 'ahmad.sosa@gmail.com'}, {'Contact ID': 3209, 'First Name': 'Toralf', 'Last Name': 'Iglesias', 'Email': 'toralf.iglesias@borrego.com'}, {'Contact ID': 2384, 'First Name': 'Irene', 'Last Name': 'Anichini', 'Email': 'irene.anichini@yahoo.com'}, {'Contact ID': 3074, 'First Name': 'Alicia', 'Last Name': 'Cainero', 'Email': 'alicia.cainero@yahoo.com'}, {'Contact ID': 2031, 'First Name': 'Tracey', 'Last Name': 'Laboy', 'Email': 'tracey.laboy@bell.biz'}, {'Contact ID': 5873, 'First Name': 'Donald', 'Last Name': 'Reynaud', 'Email': 'donald.reynaud@green.edu.au'}, {'Contact ID': 5501, 'First Name': 'Venancio', 'Last Name': 'Stadelmann', 'Email': 'venancio.stadelmann@gmx.de'}, {'Contact ID': 3489, 'First Name': 'Seth', 'Last Name': 'Olivier', 'Email': 'seth.olivier@yahoo.com'}, {'Contact ID': 4210, 'First Name': 'Dennis', 'Last Name': 'Boaga', 'Email': 'dennis.boaga@gmx.de'}, {'Contact ID': 6151, 'First Name': 'Pedro', 'Last Name': 'Wilson', 'Email': 'pedro.wilson@outlook.com'}, {'Contact ID': 6047, 'First Name': 'Roland', 'Last Name': 'Weihmann', 'Email': 'roland.weihmann@gmail.com'}, {'Contact ID': 5445, 'First Name': 'Hector', 'Last Name': 'Morrison', 'Email': 'hector.morrison@web.de'}, {'Contact ID': 5493, 'First Name': 'Evangelos', 'Last Name': 'Peters', 'Email': 'evangelos.peters@sanchez.net'}, {'Contact ID': 6036, 'First Name': 'Gerardo', 'Last Name': 'Hamilton', 'Email': 'gerardo.hamilton@libero.it'}, {'Contact ID': 2368, 'First Name': 'Meta', 'Last Name': 'Cuzzocrea', 'Email': 'meta.cuzzocrea@howard-jensen.org'}, {'Contact ID': 1501, 'First Name': 'Alma', 'Last Name': 'Raymond', 'Email': 'alma.raymond@tin.it'}, {'Contact ID': 4351, 'First Name': 'Kathleen', 'Last Name': 'Solimena', 'Email': 'kathleen.solimena@wallace.biz'}, {'Contact ID': 3096, 'First Name': 'Zacharie', 'Last Name': 'Cordier', 'Email': 'zacharie.cordier@gmail.com'}, {'Contact ID': 6162, 'First Name': 'Riza', 'Last Name': 'Techer', 'Email': 'riza.techer@yahoo.com'}, {'Contact ID': 1433, 'First Name': 'Enrique', 'Last Name': 'Guillen', 'Email': 'enrique.guillen@hotmail.co.uk'}, {'Contact ID': 2720, 'First Name': 'Tristan', 'Last Name': 'Weeks', 'Email': 'tristan.weeks@pena.com'}, {'Contact ID': 5251, 'First Name': 'Natalie', 'Last Name': 'Lerma', 'Email': 'natalie.lerma@boucher.com'}, {'Contact ID': 1797, 'First Name': 'Rodney', 'Last Name': 'Hamon', 'Email': 'rodney.hamon@hotmail.com'}, {'Contact ID': 1656, 'First Name': 'Adalberto', 'Last Name': 'Lombardo', 'Email': 'adalberto.lombardo@sfr.fr'}, {'Contact ID': 1346, 'First Name': 'Florencia', 'Last Name': 'Querini', 'Email': 'florencia.querini@gmail.com'}, {'Contact ID': 2989, 'First Name': 'Liam', 'Last Name': 'Rolland', 'Email': 'liam.rolland@yahoo.fr'}, {'Contact ID': 5629, 'First Name': 'Ian', 'Last Name': 'Kelly', 'Email': 'ian.kelly@reeves.com.au'}, {'Contact ID': 3456, 'First Name': 'Mehdi', 'Last Name': 'Todd', 'Email': 'mehdi.todd@web.de'}, {'Contact ID': 3229, 'First Name': 'Rembrandt', 'Last Name': 'Liguori', 'Email': 'rembrandt.liguori@davis.org'}, {'Contact ID': 2277, 'First Name': 'Irmi', 'Last Name': 'Schweitzer', 'Email': 'irmi.schweitzer@ozuna.com'}, {'Contact ID': 1276, 'First Name': 'Gioffre', 'Last Name': 'Stein', 'Email': 'gioffre.stein@hotmail.com.au'}, {'Contact ID': 3694, 'First Name': 'Frida', 'Last Name': 'Villarreal', 'Email': 'frida.villarreal@hotmail.de'}, {'Contact ID': 2260, 'First Name': 'Steffen', 'Last Name': 'Mangold', 'Email': 'steffen.mangold@paul.net'}, {'Contact ID': 5374, 'First Name': 'Elias', 'Last Name': 'Marin', 'Email': 'elias.marin@herve.net'}, {'Contact ID': 4420, 'First Name': 'Roman', 'Last Name': 'Gonzalez', 'Email': 'roman.gonzalez@anderson.net'}, {'Contact ID': 3849, 'First Name': 'Reina', 'Last Name': 'Middleton', 'Email': 'reina.middleton@hotmail.com'}, {'Contact ID': 1638, 'First Name': 'Sandro', 'Last Name': 'Moran', 'Email': 'sandro.moran@hotmail.de'}, {'Contact ID': 5230, 'First Name': 'Gebhard', 'Last Name': 'Thanel', 'Email': 'gebhard.thanel@gmail.com'}, {'Contact ID': 1763, 'First Name': 'Antonino', 'Last Name': 'Bolander', 'Email': 'antonino.bolander@gmail.com'}, {'Contact ID': 4323, 'First Name': 'Karl', 'Last Name': 'Trevisani', 'Email': 'karl.trevisani@anguissola.it'}, {'Contact ID': 5256, 'First Name': 'Silvester', 'Last Name': 'Brookes', 'Email': 'silvester.brookes@franco.org'}, {'Contact ID': 4836, 'First Name': 'Octavio', 'Last Name': 'Pratt', 'Email': 'octavio.pratt@web.de'}, {'Contact ID': 5981, 'First Name': 'Rebecca', 'Last Name': 'Greer', 'Email': 'rebecca.greer@hotmail.com'}, {'Contact ID': 1463, 'First Name': 'Pierina', 'Last Name': 'Gaggini', 'Email': 'pierina.gaggini@free.fr'}, {'Contact ID': 4577, 'First Name': 'Robin', 'Last Name': 'Schleich', 'Email': 'robin.schleich@rogers-barrera.biz'}, {'Contact ID': 4951, 'First Name': 'Sergio', 'Last Name': 'Abbott', 'Email': 'sergio.abbott@moore.net.au'}, {'Contact ID': 3567, 'First Name': 'Gilberto', 'Last Name': 'Evans', 'Email': 'gilberto.evans@salcedo-archuleta.net'}, {'Contact ID': 5475, 'First Name': 'James', 'Last Name': 'Elliott', 'Email': 'james.elliott@gmail.com'}, {'Contact ID': 2114, 'First Name': 'Timoteo', 'Last Name': 'Bolnbach', 'Email': 'timoteo.bolnbach@laboratorios.com'}, {'Contact ID': 5216, 'First Name': 'Tonino', 'Last Name': 'Stanley', 'Email': 'tonino.stanley@hotmail.com'}, {'Contact ID': 1665, 'First Name': 'Margaretha', 'Last Name': 'Murialdo', 'Email': 'margaretha.murialdo@meunier.com'}, {'Contact ID': 6051, 'First Name': 'Bianca', 'Last Name': 'Drubin', 'Email': 'bianca.drubin@libero.it'}, {'Contact ID': 3983, 'First Name': 'Kaylee', 'Last Name': 'Hoffmann', 'Email': 'kaylee.hoffmann@poulain.com'}, {'Contact ID': 2966, 'First Name': 'Teresa', 'Last Name': 'Vecellio', 'Email': 'teresa.vecellio@yahoo.com'}, {'Contact ID': 4478, 'First Name': 'Emine', 'Last Name': 'Tacchini', 'Email': 'emine.tacchini@dbmail.com'}, {'Contact ID': 4238, 'First Name': 'Dawn', 'Last Name': 'Cortez', 'Email': 'dawn.cortez@gmail.com'}, {'Contact ID': 4404, 'First Name': 'Emily', 'Last Name': 'Cundari', 'Email': 'emily.cundari@clark.com.au'}, {'Contact ID': 5666, 'First Name': 'Eleanor', 'Last Name': 'Hall', 'Email': 'eleanor.hall@hotmail.com'}, {'Contact ID': 3691, 'First Name': 'Monique', 'Last Name': 'Delgadillo', 'Email': 'monique.delgadillo@hotmail.co.uk'}, {'Contact ID': 2703, 'First Name': 'Arnaude', 'Last Name': 'Warner', 'Email': 'arnaude.warner@gmail.com'}, {'Contact ID': 4253, 'First Name': 'Jason', 'Last Name': 'Howell', 'Email': 'jason.howell@gmx.de'}, {'Contact ID': 5652, 'First Name': 'Nicole', 'Last Name': 'Mccullough', 'Email': 'nicole.mccullough@hall.com'}, {'Contact ID': 3279, 'First Name': 'Rosmarie', 'Last Name': 'Esquibel', 'Email': 'rosmarie.esquibel@bouygtel.fr'}, {'Contact ID': 3233, 'First Name': 'Leonor', 'Last Name': 'Ferreira', 'Email': 'leonor.ferreira@gmail.com'}, {'Contact ID': 3017, 'First Name': 'Brett', 'Last Name': 'Jones', 'Email': 'brett.jones@alice.it'}, {'Contact ID': 3482, 'First Name': 'Nino', 'Last Name': 'Bien', 'Email': 'nino.bien@gmail.com'}, {'Contact ID': 2166, 'First Name': 'Jemma', 'Last Name': 'Tate', 'Email': 'jemma.tate@hotmail.de'}, {'Contact ID': 4146, 'First Name': 'Denis', 'Last Name': 'Rogers', 'Email': 'denis.rogers@poste.it'}, {'Contact ID': 2651, 'First Name': 'Vanesa', 'Last Name': 'Khan', 'Email': 'vanesa.khan@voila.fr'}, {'Contact ID': 1409, 'First Name': 'Victoria', 'Last Name': 'Ojeda', 'Email': 'victoria.ojeda@doehn.com'}, {'Contact ID': 3717, 'First Name': 'Eugenio', 'Last Name': 'Martin', 'Email': 'eugenio.martin@yahoo.de'}, {'Contact ID': 3963, 'First Name': 'Nancy', 'Last Name': 'Hayes', 'Email': 'nancy.hayes@hotmail.com'}, {'Contact ID': 2152, 'First Name': 'Lara', 'Last Name': 'Jacob', 'Email': 'lara.jacob@buckley.org'}, {'Contact ID': 2974, 'First Name': 'Gino', 'Last Name': 'Hernandez', 'Email': 'gino.hernandez@covarrubias.com'}, {'Contact ID': 1268, 'First Name': 'Vicente', 'Last Name': 'Tijerina', 'Email': 'vicente.tijerina@montanariello.com'}, {'Contact ID': 1822, 'First Name': 'Michele', 'Last Name': 'Brambilla', 'Email': 'michele.brambilla@yahoo.com'}, {'Contact ID': 5066, 'First Name': 'Dana', 'Last Name': 'Ritacca', 'Email': 'dana.ritacca@gmail.com'}, {'Contact ID': 5075, 'First Name': 'Mitchell', 'Last Name': 'Bachmann', 'Email': 'mitchell.bachmann@suarez-cruz.com'}, {'Contact ID': 3855, 'First Name': 'Vincenza', 'Last Name': 'Key', 'Email': 'vincenza.key@adams.com'}, {'Contact ID': 5923, 'First Name': 'Salvador', 'Last Name': 'Gaillard', 'Email': 'salvador.gaillard@yahoo.de'}, {'Contact ID': 1867, 'First Name': 'Diane', 'Last Name': 'Rogner', 'Email': 'diane.rogner@kelly.co.uk'}, {'Contact ID': 4376, 'First Name': 'Josette', 'Last Name': 'Laine', 'Email': 'josette.laine@saracino-parisi.net'}, {'Contact ID': 2785, 'First Name': 'Courtney', 'Last Name': 'Fiebig', 'Email': 'courtney.fiebig@doerschner.com'}, {'Contact ID': 5884, 'First Name': 'Hugues', 'Last Name': 'Oliver', 'Email': 'hugues.oliver@stiffel.com'}, {'Contact ID': 2441, 'First Name': 'Espartaco', 'Last Name': 'Willis', 'Email': 'espartaco.willis@hotmail.com'}, {'Contact ID': 1243, 'First Name': 'Flavia', 'Last Name': 'Yoder', 'Email': 'flavia.yoder@hotmail.de'}, {'Contact ID': 3411, 'First Name': 'Casey', 'Last Name': 'Flores', 'Email': 'casey.flores@baggio.org'}, {'Contact ID': 2467, 'First Name': 'Calogero', 'Last Name': 'Cross', 'Email': 'calogero.cross@mercantini.it'}, {'Contact ID': 1850, 'First Name': 'Charles', 'Last Name': 'Begum', 'Email': 'charles.begum@laboratorios.info'}, {'Contact ID': 2604, 'First Name': 'Adina', 'Last Name': 'Pollard', 'Email': 'adina.pollard@outlook.com'}, {'Contact ID': 1693, 'First Name': 'Natasha', 'Last Name': 'Lara', 'Email': 'natasha.lara@outlook.com'}, {'Contact ID': 2969, 'First Name': 'Benita', 'Last Name': 'Pottier', 'Email': 'benita.pottier@sfr.fr'}, {'Contact ID': 1544, 'First Name': 'Elizabeth', 'Last Name': 'Valdivia', 'Email': 'elizabeth.valdivia@gmail.com'}, {'Contact ID': 4149, 'First Name': 'Mattia', 'Last Name': 'Huet', 'Email': 'mattia.huet@aol.de'}, {'Contact ID': 3463, 'First Name': 'Geza', 'Last Name': 'Howard', 'Email': 'geza.howard@voila.fr'}, {'Contact ID': 2939, 'First Name': 'Lauren', 'Last Name': 'Guillaume', 'Email': 'lauren.guillaume@sorgatz.org'}, {'Contact ID': 2202, 'First Name': 'Joanna', 'Last Name': 'Baxter', 'Email': 'joanna.baxter@bruce-wright.com'}, {'Contact ID': 1728, 'First Name': 'Tracy', 'Last Name': 'Metz', 'Email': 'tracy.metz@bryant.info'}, {'Contact ID': 5362, 'First Name': 'Birgit', 'Last Name': 'Pena', 'Email': 'birgit.pena@armellini.it'}, {'Contact ID': 4840, 'First Name': 'Elvira', 'Last Name': 'Papafava', 'Email': 'elvira.papafava@ifrance.com'}, {'Contact ID': 2955, 'First Name': 'Ernest', 'Last Name': 'Delorme', 'Email': 'ernest.delorme@dowerg.de'}, {'Contact ID': 5354, 'First Name': 'Christy', 'Last Name': 'Grossi', 'Email': 'christy.grossi@alarcon-tafoya.com'}, {'Contact ID': 3847, 'First Name': 'Hermelinda', 'Last Name': 'Olmos', 'Email': 'hermelinda.olmos@portillo.com'}, {'Contact ID': 3025, 'First Name': 'Herbert', 'Last Name': 'Fraser', 'Email': 'herbert.fraser@holloway.org.au'}, {'Contact ID': 1615, 'First Name': 'Giancarlo', 'Last Name': 'Heydrich', 'Email': 'giancarlo.heydrich@hotmail.com'}, {'Contact ID': 5154, 'First Name': 'Constance', 'Last Name': 'Maldonado', 'Email': 'constance.maldonado@spiess.net'}, {'Contact ID': 5005, 'First Name': 'Giampiero', 'Last Name': 'Carlier', 'Email': 'giampiero.carlier@hotmail.com'}, {'Contact ID': 1349, 'First Name': 'Carlo', 'Last Name': 'Jacquot', 'Email': 'carlo.jacquot@hotmail.com'}, {'Contact ID': 3670, 'First Name': 'Gabriel', 'Last Name': 'Robles', 'Email': 'gabriel.robles@yahoo.com'}, {'Contact ID': 2912, 'First Name': 'Gerd', 'Last Name': 'Gunpf', 'Email': 'gerd.gunpf@gmail.com'}, {'Contact ID': 4336, 'First Name': 'Ashley', 'Last Name': 'Hellwig', 'Email': 'ashley.hellwig@libero.it'}, {'Contact ID': 5576, 'First Name': 'Patrick', 'Last Name': 'Rosas', 'Email': 'patrick.rosas@yahoo.com'}, {'Contact ID': 2736, 'First Name': 'Lilla', 'Last Name': 'Leonard', 'Email': 'lilla.leonard@jungfer.com'}, {'Contact ID': 3321, 'First Name': 'Tony', 'Last Name': 'Nicolas', 'Email': 'tony.nicolas@morrocco-seddio.net'}, {'Contact ID': 3353, 'First Name': 'Allegra', 'Last Name': 'Benedetti', 'Email': 'allegra.benedetti@miller.com'}, {'Contact ID': 2336, 'First Name': 'Camille', 'Last Name': 'Tafuri', 'Email': 'camille.tafuri@aol.de'}, {'Contact ID': 4369, 'First Name': 'Juan', 'Last Name': 'Wheeler', 'Email': 'juan.wheeler@gilmore.net'}, {'Contact ID': 4464, 'First Name': 'Leopoldo', 'Last Name': 'Johnson', 'Email': 'leopoldo.johnson@hotmail.com.au'}, {'Contact ID': 5626, 'First Name': 'Dietmar', 'Last Name': 'Grenier', 'Email': 'dietmar.grenier@tele2.it'}, {'Contact ID': 1669, 'First Name': 'Leonid', 'Last Name': 'Scholl', 'Email': 'leonid.scholl@collin.com'}, {'Contact ID': 5544, 'First Name': 'Olivie', 'Last Name': 'Contarini', 'Email': 'olivie.contarini@marshall-wright.biz'}, {'Contact ID': 6078, 'First Name': 'Jeffery', 'Last Name': 'Lacroix', 'Email': 'jeffery.lacroix@medina.org'}, {'Contact ID': 2580, 'First Name': 'Edeltraud', 'Last Name': 'Chavez', 'Email': 'edeltraud.chavez@hotmail.com.au'}, {'Contact ID': 3592, 'First Name': 'Mesut', 'Last Name': 'Morvan', 'Email': 'mesut.morvan@gmail.com'}, {'Contact ID': 4914, 'First Name': 'Gregory', 'Last Name': 'Jackson', 'Email': 'gregory.jackson@ortiz.com'}, {'Contact ID': 3848, 'First Name': 'Nicola', 'Last Name': 'Rossi', 'Email': 'nicola.rossi@berry.org'}, {'Contact ID': 2619, 'First Name': 'Eddie', 'Last Name': 'Collazo', 'Email': 'eddie.collazo@gmail.com'}, {'Contact ID': 4605, 'First Name': 'Philippe', 'Last Name': 'Gardner', 'Email': 'philippe.gardner@howells-jones.net'}, {'Contact ID': 6147, 'First Name': 'Roy', 'Last Name': 'Fox', 'Email': 'roy.fox@tejeda.com'}, {'Contact ID': 1383, 'First Name': 'Heiderose', 'Last Name': 'Garcia', 'Email': 'heiderose.garcia@noos.fr'}, {'Contact ID': 1757, 'First Name': 'Claudine', 'Last Name': 'Rowley', 'Email': 'claudine.rowley@industrias.com'}, {'Contact ID': 4390, 'First Name': 'Astrid', 'Last Name': 'Roht', 'Email': 'astrid.roht@fastwebnet.it'}, {'Contact ID': 4165, 'First Name': 'Auguste', 'Last Name': 'Burnett', 'Email': 'auguste.burnett@yahoo.fr'}, {'Contact ID': 4529, 'First Name': 'Pellegrino', 'Last Name': 'Allen', 'Email': 'pellegrino.allen@gmail.com'}, {'Contact ID': 6084, 'First Name': 'Angela', 'Last Name': 'Bowers', 'Email': 'angela.bowers@laboratorios.com'}, {'Contact ID': 2916, 'First Name': 'Michael', 'Last Name': 'Descamps', 'Email': 'michael.descamps@gmail.com'}, {'Contact ID': 2005, 'First Name': 'Heidelore', 'Last Name': 'Kennedy', 'Email': 'heidelore.kennedy@guinizzelli.org'}, {'Contact ID': 2261, 'First Name': 'Lucrezia', 'Last Name': 'Koch', 'Email': 'lucrezia.koch@petit.com'}, {'Contact ID': 5342, 'First Name': 'Ivan', 'Last Name': 'Accardo', 'Email': 'ivan.accardo@web.de'}, {'Contact ID': 4087, 'First Name': 'Karen', 'Last Name': 'Avogadro', 'Email': 'karen.avogadro@yahoo.com'}, {'Contact ID': 2761, 'First Name': 'Laetitia', 'Last Name': 'Gallet', 'Email': 'laetitia.gallet@aubry.org'}, {'Contact ID': 2908, 'First Name': 'Amico', 'Last Name': 'Gosselin', 'Email': 'amico.gosselin@shaw.info'}, {'Contact ID': 2155, 'First Name': 'Ilaria', 'Last Name': 'Bowen', 'Email': 'ilaria.bowen@hotmail.it'}, {'Contact ID': 5642, 'First Name': 'Marlen', 'Last Name': 'Coardi', 'Email': 'marlen.coardi@colletti.eu'}, {'Contact ID': 6217, 'First Name': 'Rafael', 'Last Name': 'Alexander', 'Email': 'rafael.alexander@jenkins.com'}, {'Contact ID': 4222, 'First Name': 'Herma', 'Last Name': 'Gabbana', 'Email': 'herma.gabbana@hotmail.com'}, {'Contact ID': 4798, 'First Name': 'Zachary', 'Last Name': 'Vespucci', 'Email': 'zachary.vespucci@industrias.com'}, {'Contact ID': 5660, 'First Name': 'Marisol', 'Last Name': 'Richard', 'Email': 'marisol.richard@gmail.com'}, {'Contact ID': 5000, 'First Name': 'Joseph', 'Last Name': 'Glover', 'Email': 'joseph.glover@laposte.net'}, {'Contact ID': 2809, 'First Name': 'Lauretta', 'Last Name': 'Neal', 'Email': 'lauretta.neal@hotmail.de'}, {'Contact ID': 3349, 'First Name': 'Simone', 'Last Name': 'Sauvage', 'Email': 'simone.sauvage@yahoo.com'}, {'Contact ID': 3647, 'First Name': 'Ramona', 'Last Name': 'Brooks', 'Email': 'ramona.brooks@kensy.de'}, {'Contact ID': 5745, 'First Name': 'Gioele', 'Last Name': 'Schwital', 'Email': 'gioele.schwital@moody.com'}, {'Contact ID': 2583, 'First Name': 'Elena', 'Last Name': 'Jimenez', 'Email': 'elena.jimenez@yahoo.com.au'}, {'Contact ID': 5441, 'First Name': 'Pam', 'Last Name': 'Vargas', 'Email': 'pam.vargas@guillot.net'}, {'Contact ID': 2090, 'First Name': 'Alison', 'Last Name': 'Morales', 'Email': 'alison.morales@lewis.com'}, {'Contact ID': 3386, 'First Name': 'Marc', 'Last Name': 'Aumann', 'Email': 'marc.aumann@holland.com'}, {'Contact ID': 1816, 'First Name': 'Carla', 'Last Name': 'Butler', 'Email': 'carla.butler@yahoo.com'}, {'Contact ID': 4718, 'First Name': 'Dionigi', 'Last Name': 'Bruce', 'Email': 'dionigi.bruce@industrias.com'}, {'Contact ID': 1677, 'First Name': 'Frank', 'Last Name': 'Henry', 'Email': 'frank.henry@yahoo.com'}, {'Contact ID': 4218, 'First Name': 'Brent', 'Last Name': 'Pons', 'Email': 'brent.pons@proyectos.net'}, {'Contact ID': 4548, 'First Name': 'Patricia', 'Last Name': 'Liebelt', 'Email': 'patricia.liebelt@baca.org'}, {'Contact ID': 1431, 'First Name': 'Micheletto', 'Last Name': 'Sykes', 'Email': 'micheletto.sykes@thompson-thompson.com'}, {'Contact ID': 2830, 'First Name': 'Rose', 'Last Name': 'Blanc', 'Email': 'rose.blanc@grupo.com'}, {'Contact ID': 4400, 'First Name': 'Vincent', 'Last Name': 'Singh', 'Email': 'vincent.singh@gmail.com'}, {'Contact ID': 5773, 'First Name': 'Jamie', 'Last Name': 'Peacock', 'Email': 'jamie.peacock@interiano-nordio.com'}, {'Contact ID': 4161, 'First Name': 'Giorgia', 'Last Name': 'Dijoux', 'Email': 'giorgia.dijoux@paul.com'}, {'Contact ID': 2062, 'First Name': 'Serena', 'Last Name': 'Piacentini', 'Email': 'serena.piacentini@yahoo.de'}, {'Contact ID': 3458, 'First Name': 'Dimitri', 'Last Name': 'Posada', 'Email': 'dimitri.posada@gmail.com'}, {'Contact ID': 3174, 'First Name': 'Alexa', 'Last Name': 'Barillaro', 'Email': 'alexa.barillaro@ramos.net'}, {'Contact ID': 5565, 'First Name': 'Megan', 'Last Name': 'Kuhl', 'Email': 'megan.kuhl@despacho.com'}, {'Contact ID': 1906, 'First Name': 'Kaitlyn', 'Last Name': 'Farinelli', 'Email': 'kaitlyn.farinelli@outlook.com'}, {'Contact ID': 5479, 'First Name': 'Jonathan', 'Last Name': 'Castellitto', 'Email': 'jonathan.castellitto@libero.it'}, {'Contact ID': 4320, 'First Name': 'Lisa', 'Last Name': 'Terragni', 'Email': 'lisa.terragni@proyectos.com'}, {'Contact ID': 4213, 'First Name': 'Olivier', 'Last Name': 'Petrucelli', 'Email': 'olivier.petrucelli@letta-raurica.eu'}, {'Contact ID': 3373, 'First Name': 'Jos', 'Last Name': 'Trobbiani', 'Email': 'jos.trobbiani@samson.com'}, {'Contact ID': 4184, 'First Name': 'Mirjam', 'Last Name': 'Dawson', 'Email': 'mirjam.dawson@yahoo.com'}, {'Contact ID': 5472, 'First Name': 'Javier', 'Last Name': 'Tessier', 'Email': 'javier.tessier@mclaughlin.biz'}, {'Contact ID': 5559, 'First Name': 'Mirjana', 'Last Name': 'Collins', 'Email': 'mirjana.collins@hotmail.com'}, {'Contact ID': 5419, 'First Name': 'Vanessa', 'Last Name': 'Tschentscher', 'Email': 'vanessa.tschentscher@mitchell.com'}, {'Contact ID': 4171, 'First Name': 'Antonina', 'Last Name': 'Cobb', 'Email': 'antonina.cobb@gibson.org'}, {'Contact ID': 1302, 'First Name': 'Bernard', 'Last Name': 'Durand', 'Email': 'bernard.durand@royer.com'}, {'Contact ID': 3520, 'First Name': 'Corey', 'Last Name': 'Greggio', 'Email': 'corey.greggio@johnson.org.au'}, {'Contact ID': 6010, 'First Name': 'Rodolfo', 'Last Name': 'Couturier', 'Email': 'rodolfo.couturier@tim.it'}, {'Contact ID': 4617, 'First Name': 'Pierre', 'Last Name': 'Cardenas', 'Email': 'pierre.cardenas@luzi-bonomo.eu'}, {'Contact ID': 1417, 'First Name': 'Romeo', 'Last Name': 'Surian', 'Email': 'romeo.surian@batista.com'}, {'Contact ID': 4770, 'First Name': 'Ivo', 'Last Name': 'Moreno', 'Email': 'ivo.moreno@hotmail.com'}, {'Contact ID': 4328, 'First Name': 'Federico', 'Last Name': 'Marie', 'Email': 'federico.marie@jourdan.fr'}, {'Contact ID': 5171, 'First Name': 'Maggie', 'Last Name': 'Boito', 'Email': 'maggie.boito@yahoo.com'}, {'Contact ID': 4394, 'First Name': 'Brianna', 'Last Name': 'Hanson', 'Email': 'brianna.hanson@stanley.com'}, {'Contact ID': 1794, 'First Name': 'Heiko', 'Last Name': 'Bourgeois', 'Email': 'heiko.bourgeois@togliatti.com'}, {'Contact ID': 3510, 'First Name': 'Benito', 'Last Name': 'Gritti', 'Email': 'benito.gritti@gmail.com'}, {'Contact ID': 2487, 'First Name': 'Mitzy', 'Last Name': 'Junk', 'Email': 'mitzy.junk@zaragoza.com'}, {'Contact ID': 2215, 'First Name': 'Samantha', 'Last Name': 'Lowe', 'Email': 'samantha.lowe@praga.it'}, {'Contact ID': 4136, 'First Name': 'Ernesto', 'Last Name': 'Nerger', 'Email': 'ernesto.nerger@middleton.co.uk'}, {'Contact ID': 3723, 'First Name': 'Melinda', 'Last Name': 'Canova', 'Email': 'melinda.canova@orange.fr'}, {'Contact ID': 5842, 'First Name': 'Mohammad', 'Last Name': 'Hartung', 'Email': 'mohammad.hartung@hotmail.com'}, {'Contact ID': 3289, 'First Name': 'Ben', 'Last Name': 'Maillot', 'Email': 'ben.maillot@ramos.net'}, {'Contact ID': 1249, 'First Name': 'Isabel', 'Last Name': 'Pruschke', 'Email': 'isabel.pruschke@gmail.com'}, {'Contact ID': 5409, 'First Name': 'Linda', 'Last Name': 'Franceschi', 'Email': 'linda.franceschi@richards.net'}, {'Contact ID': 2951, 'First Name': 'Olivia', 'Last Name': 'Striebitz', 'Email': 'olivia.striebitz@gmail.com'}, {'Contact ID': 3432, 'First Name': 'Penny', 'Last Name': 'Watson', 'Email': 'penny.watson@matthews.net'}, {'Contact ID': 2297, 'First Name': 'Manfred', 'Last Name': 'James', 'Email': 'manfred.james@davies.org'}, {'Contact ID': 6161, 'First Name': 'Hazel', 'Last Name': 'Pierce', 'Email': 'hazel.pierce@outlook.com'}, {'Contact ID': 4603, 'First Name': 'Alf', 'Last Name': 'Bates', 'Email': 'alf.bates@dunn.com'}, {'Contact ID': 5818, 'First Name': 'Scott', 'Last Name': 'Gough', 'Email': 'scott.gough@industrias.com'}, {'Contact ID': 4270, 'First Name': 'Konrad', 'Last Name': 'Briones', 'Email': 'konrad.briones@fierro.com'}, {'Contact ID': 6007, 'First Name': 'Mathilde', 'Last Name': 'Kruschwitz', 'Email': 'mathilde.kruschwitz@yahoo.com'}, {'Contact ID': 4084, 'First Name': 'Irma', 'Last Name': 'Gemito', 'Email': 'irma.gemito@googlemail.com'}, {'Contact ID': 1340, 'First Name': 'Antoine', 'Last Name': 'Guyon', 'Email': 'antoine.guyon@yahoo.com'}, {'Contact ID': 5675, 'First Name': 'William', 'Last Name': 'Gibilisco', 'Email': 'william.gibilisco@gaillard.com'}, {'Contact ID': 2010, 'First Name': 'Judith', 'Last Name': 'Butte', 'Email': 'judith.butte@fischer-vaughn.info'}, {'Contact ID': 6201, 'First Name': 'Joanne', 'Last Name': 'Henderson', 'Email': 'joanne.henderson@gmail.com'}, {'Contact ID': 1791, 'First Name': 'Ludovica', 'Last Name': 'Arellano', 'Email': 'ludovica.arellano@morandi-argento.com'}, {'Contact ID': 3314, 'First Name': 'Catherine', 'Last Name': 'Gray', 'Email': 'catherine.gray@hotmail.com'}, {'Contact ID': 5852, 'First Name': 'Franco', 'Last Name': 'Fioravanti', 'Email': 'franco.fioravanti@barry-gill.com.au'}, {'Contact ID': 4618, 'First Name': 'Heather', 'Last Name': 'Zimmer', 'Email': 'heather.zimmer@bluemel.de'}, {'Contact ID': 2618, 'First Name': 'Hortense', 'Last Name': 'Taylor', 'Email': 'hortense.taylor@chambers.biz'}, {'Contact ID': 4967, 'First Name': 'Livia', 'Last Name': 'Ernst', 'Email': 'livia.ernst@colas.fr'}, {'Contact ID': 4594, 'First Name': 'Toby', 'Last Name': 'Etzler', 'Email': 'toby.etzler@industrias.com'}, {'Contact ID': 2080, 'First Name': 'Ennio', 'Last Name': 'Leoncavallo', 'Email': 'ennio.leoncavallo@sanchez.org'}, {'Contact ID': 2793, 'First Name': 'Philippine', 'Last Name': 'Vaca', 'Email': 'philippine.vaca@hotmail.com'}, {'Contact ID': 4890, 'First Name': 'Rhonda', 'Last Name': 'Phillips', 'Email': 'rhonda.phillips@yahoo.com'}, {'Contact ID': 3528, 'First Name': 'Alphonse', 'Last Name': 'Nitto', 'Email': 'alphonse.nitto@voila.fr'}, {'Contact ID': 5810, 'First Name': 'Karina', 'Last Name': 'Arreola', 'Email': 'karina.arreola@yahoo.com.au'}, {'Contact ID': 5720, 'First Name': 'Denise', 'Last Name': 'Wood', 'Email': 'denise.wood@mantegna.com'}, {'Contact ID': 4593, 'First Name': 'Burghard', 'Last Name': 'Rosenow', 'Email': 'burghard.rosenow@hotmail.com'}, {'Contact ID': 3186, 'First Name': 'Friedl', 'Last Name': 'Powell', 'Email': 'friedl.powell@laposte.net'}, {'Contact ID': 5136, 'First Name': 'Benjamin', 'Last Name': 'Schultz', 'Email': 'benjamin.schultz@rivero-davila.com'}, {'Contact ID': 2646, 'First Name': 'Rachel', 'Last Name': 'Ulibarri', 'Email': 'rachel.ulibarri@schueler.com'}, {'Contact ID': 3460, 'First Name': 'Silvano', 'Last Name': 'Blanchet', 'Email': 'silvano.blanchet@yahoo.com'}, {'Contact ID': 4345, 'First Name': 'Kurt', 'Last Name': 'Sauer', 'Email': 'kurt.sauer@almanza.biz'}, {'Contact ID': 2690, 'First Name': 'Nayeli', 'Last Name': 'Gehringer', 'Email': 'nayeli.gehringer@hotmail.com'}, {'Contact ID': 4025, 'First Name': 'Imelda', 'Last Name': 'Guerin', 'Email': 'imelda.guerin@stumpf.net'}, {'Contact ID': 4524, 'First Name': 'Zbigniew', 'Last Name': 'Holmes', 'Email': 'zbigniew.holmes@stiffel.net'}, {'Contact ID': 3978, 'First Name': 'Adela', 'Last Name': 'Alfonsi', 'Email': 'adela.alfonsi@despacho.com'}, {'Contact ID': 3910, 'First Name': 'Hilary', 'Last Name': 'Clark', 'Email': 'hilary.clark@libero.it'}, {'Contact ID': 5825, 'First Name': 'Kornelius', 'Last Name': 'Molina', 'Email': 'kornelius.molina@heuser.com'}, {'Contact ID': 3564, 'First Name': 'Christian', 'Last Name': 'Anderson', 'Email': 'christian.anderson@tim.it'}, {'Contact ID': 2396, 'First Name': 'Francisco', 'Last Name': 'Dorsey', 'Email': 'francisco.dorsey@tiscali.fr'}, {'Contact ID': 2140, 'First Name': 'Walli', 'Last Name': 'Albert', 'Email': 'walli.albert@dussen.com'}, {'Contact ID': 3079, 'First Name': 'Siegrun', 'Last Name': 'Mota', 'Email': 'siegrun.mota@matthews-montoya.org.au'}, {'Contact ID': 2017, 'First Name': 'Alberico', 'Last Name': 'Herve', 'Email': 'alberico.herve@beer.net'}, {'Contact ID': 5444, 'First Name': 'Serafina', 'Last Name': 'Bonnin', 'Email': 'serafina.bonnin@mendes.com'}, {'Contact ID': 2216, 'First Name': 'Marcelle', 'Last Name': 'Bender', 'Email': 'marcelle.bender@edwards-robinson.info'}, {'Contact ID': 1241, 'First Name': 'Hartmuth', 'Last Name': 'Robertson', 'Email': 'hartmuth.robertson@thomas.edu.au'}, {'Contact ID': 1484, 'First Name': 'Herlinde', 'Last Name': 'George', 'Email': 'herlinde.george@free.fr'}, {'Contact ID': 3475, 'First Name': 'Pamela', 'Last Name': 'Payne', 'Email': 'pamela.payne@yahoo.com'}, {'Contact ID': 4333, 'First Name': 'Gastone', 'Last Name': 'Beyer', 'Email': 'gastone.beyer@stewart-sanchez.edu'}, {'Contact ID': 5657, 'First Name': 'Lydia', 'Last Name': 'Berengario', 'Email': 'lydia.berengario@aol.de'}, {'Contact ID': 2527, 'First Name': 'Lucy', 'Last Name': 'Davidson', 'Email': 'lucy.davidson@tele2.it'}, {'Contact ID': 5967, 'First Name': 'Franck', 'Last Name': 'Wade', 'Email': 'franck.wade@gute.org'}, {'Contact ID': 5698, 'First Name': 'Heidi', 'Last Name': 'Barker', 'Email': 'heidi.barker@gmail.com'}, {'Contact ID': 3331, 'First Name': 'Arnaldo', 'Last Name': 'Ocasio', 'Email': 'arnaldo.ocasio@hotmail.com'}, {'Contact ID': 3841, 'First Name': 'Francis', 'Last Name': 'Bernier', 'Email': 'francis.bernier@rodriguez.com'}, {'Contact ID': 6105, 'First Name': 'Johanne', 'Last Name': 'Strong', 'Email': 'johanne.strong@yahoo.de'}, {'Contact ID': 3895, 'First Name': 'Debra', 'Last Name': 'Langlois', 'Email': 'debra.langlois@schmiedecke.com'}, {'Contact ID': 1891, 'First Name': 'Reingard', 'Last Name': 'Kambs', 'Email': 'reingard.kambs@sagese.eu'}, {'Contact ID': 1281, 'First Name': 'Mauro', 'Last Name': 'Ortiz', 'Email': 'mauro.ortiz@oquendo.net'}, {'Contact ID': 4186, 'First Name': 'Griselda', 'Last Name': 'Carranza', 'Email': 'griselda.carranza@krause.de'}, {'Contact ID': 2511, 'First Name': 'Janet', 'Last Name': 'Madrigal', 'Email': 'janet.madrigal@gmail.com'}, {'Contact ID': 4272, 'First Name': 'Jenna', 'Last Name': 'Day', 'Email': 'jenna.day@reed.com'}, {'Contact ID': 3533, 'First Name': 'Modesto', 'Last Name': 'Wright', 'Email': 'modesto.wright@pareto.com'}, {'Contact ID': 3618, 'First Name': 'Alice', 'Last Name': 'Wall', 'Email': 'alice.wall@zaccardo.it'}, {'Contact ID': 2177, 'First Name': 'Brenda', 'Last Name': 'Sontag', 'Email': 'brenda.sontag@solari.com'}, {'Contact ID': 4102, 'First Name': 'Sergius', 'Last Name': 'Mace', 'Email': 'sergius.mace@palazzo.com'}, {'Contact ID': 6089, 'First Name': 'Antonia', 'Last Name': 'Kline', 'Email': 'antonia.kline@gmail.com'}, {'Contact ID': 4701, 'First Name': 'Maurice', 'Last Name': 'Gumprich', 'Email': 'maurice.gumprich@griffin.net.au'}, {'Contact ID': 5645, 'First Name': 'Daniel', 'Last Name': 'Anders', 'Email': 'daniel.anders@yahoo.com'}, {'Contact ID': 4499, 'First Name': 'Zaira', 'Last Name': 'Cattaneo', 'Email': 'zaira.cattaneo@yahoo.com'}, {'Contact ID': 3365, 'First Name': 'Alessio', 'Last Name': 'Bruneau', 'Email': 'alessio.bruneau@hotmail.co.uk'}, {'Contact ID': 2290, 'First Name': 'Gerdi', 'Last Name': 'Guerrero', 'Email': 'gerdi.guerrero@tele2.fr'}, {'Contact ID': 1890, 'First Name': 'Brigitte', 'Last Name': 'Stiebitz', 'Email': 'brigitte.stiebitz@gmail.com'}, {'Contact ID': 1304, 'First Name': 'June', 'Last Name': 'Sinisi', 'Email': 'june.sinisi@manzoni-giannini.it'}, {'Contact ID': 3799, 'First Name': 'Carl', 'Last Name': 'Macias', 'Email': 'carl.macias@yahoo.com'}, {'Contact ID': 2749, 'First Name': 'Veronica', 'Last Name': 'Trapp', 'Email': 'veronica.trapp@tiscali.it'}, {'Contact ID': 2028, 'First Name': 'Frances', 'Last Name': 'Garnier', 'Email': 'frances.garnier@aporti-guidotti.org'}, {'Contact ID': 2383, 'First Name': 'Terri', 'Last Name': 'Iannelli', 'Email': 'terri.iannelli@hotmail.com'}, {'Contact ID': 5721, 'First Name': 'Odette', 'Last Name': 'Moore', 'Email': 'odette.moore@hall.edu'}, {'Contact ID': 1394, 'First Name': 'Mercedes', 'Last Name': 'Trujillo', 'Email': 'mercedes.trujillo@aol.de'}, {'Contact ID': 3451, 'First Name': 'Babette', 'Last Name': 'Dumas', 'Email': 'babette.dumas@brady.net'}, {'Contact ID': 5512, 'First Name': 'Jerry', 'Last Name': 'Santiago', 'Email': 'jerry.santiago@soprano-ferragni.it'}, {'Contact ID': 2453, 'First Name': 'Ronald', 'Last Name': 'Simpson', 'Email': 'ronald.simpson@ovadia.net'}, {'Contact ID': 6055, 'First Name': 'Emmanuel', 'Last Name': 'Dominguez', 'Email': 'emmanuel.dominguez@gmail.com'}, {'Contact ID': 5704, 'First Name': 'Christiane', 'Last Name': 'Ricciardi', 'Email': 'christiane.ricciardi@zavala.com'}, {'Contact ID': 3707, 'First Name': 'Ingolf', 'Last Name': 'Zamora', 'Email': 'ingolf.zamora@yahoo.com.au'}, {'Contact ID': 2205, 'First Name': 'Rita', 'Last Name': 'Sharp', 'Email': 'rita.sharp@beard-scott.edu.au'}, {'Contact ID': 5976, 'First Name': 'Geraldine', 'Last Name': 'Cabrera', 'Email': 'geraldine.cabrera@green-smith.info'}, {'Contact ID': 3290, 'First Name': 'Chantal', 'Last Name': 'Armas', 'Email': 'chantal.armas@jenkins.net'}, {'Contact ID': 4257, 'First Name': 'Louis', 'Last Name': 'Gilbert', 'Email': 'louis.gilbert@gmail.com'}, {'Contact ID': 4588, 'First Name': 'Michelle', 'Last Name': 'Collier', 'Email': 'michelle.collier@peruzzi.it'}, {'Contact ID': 4785, 'First Name': 'Guillermina', 'Last Name': 'Nicholson', 'Email': 'guillermina.nicholson@grondin.fr'}, {'Contact ID': 3033, 'First Name': 'Bertrand', 'Last Name': 'Hopkins', 'Email': 'bertrand.hopkins@gmail.com'}, {'Contact ID': 2779, 'First Name': 'Alonso', 'Last Name': 'Palomo', 'Email': 'alonso.palomo@gehringer.de'}, {'Contact ID': 2131, 'First Name': 'Tina', 'Last Name': 'Rodriguez', 'Email': 'tina.rodriguez@web.de'}, {'Contact ID': 6229, 'First Name': 'Eva', 'Last Name': 'Francis', 'Email': 'eva.francis@parker.org'}, {'Contact ID': 3429, 'First Name': 'Ottavio', 'Last Name': 'Rust', 'Email': 'ottavio.rust@crespi.com'}, {'Contact ID': 1613, 'First Name': 'Amelia', 'Last Name': 'Olvera', 'Email': 'amelia.olvera@hotmail.com'}, {'Contact ID': 4734, 'First Name': 'Paul', 'Last Name': 'Palladio', 'Email': 'paul.palladio@mclaughlin.net.au'}, {'Contact ID': 4439, 'First Name': 'Bernardo', 'Last Name': 'Wieloch', 'Email': 'bernardo.wieloch@budig.com'}, {'Contact ID': 1441, 'First Name': 'Umberto', 'Last Name': 'Hicks', 'Email': 'umberto.hicks@hill.com'}, {'Contact ID': 5799, 'First Name': 'Janko', 'Last Name': 'Bishop', 'Email': 'janko.bishop@tim.it'}, {'Contact ID': 1419, 'First Name': 'Jessika', 'Last Name': 'Meunier', 'Email': 'jessika.meunier@gmx.de'}, {'Contact ID': 3059, 'First Name': 'Isaac', 'Last Name': 'Benard', 'Email': 'isaac.benard@googlemail.com'}, {'Contact ID': 3224, 'First Name': 'Alexandrie', 'Last Name': 'Lambert', 'Email': 'alexandrie.lambert@yahoo.com'}, {'Contact ID': 3181, 'First Name': 'Roberto', 'Last Name': 'Guyot', 'Email': 'roberto.guyot@bennett.com'}, {'Contact ID': 6061, 'First Name': 'Giulietta', 'Last Name': 'Lucas', 'Email': 'giulietta.lucas@club.com'}, {'Contact ID': 4466, 'First Name': 'Damaris', 'Last Name': 'Pininfarina', 'Email': 'damaris.pininfarina@gmail.com'}, {'Contact ID': 6081, 'First Name': 'Fabrizia', 'Last Name': 'Renard', 'Email': 'fabrizia.renard@higgins-marks.com'}, {'Contact ID': 2159, 'First Name': 'Camillo', 'Last Name': 'Dehmel', 'Email': 'camillo.dehmel@brown-campbell.com'}, {'Contact ID': 3324, 'First Name': 'Ruggero', 'Last Name': 'Parpinel', 'Email': 'ruggero.parpinel@gmail.com'}, {'Contact ID': 3176, 'First Name': 'Stephen', 'Last Name': 'Pratesi', 'Email': 'stephen.pratesi@hotmail.com'}, {'Contact ID': 5874, 'First Name': 'Ludger', 'Last Name': 'Naccari', 'Email': 'ludger.naccari@ingram.biz'}, {'Contact ID': 5110, 'First Name': 'Meryem', 'Last Name': 'Tapia', 'Email': 'meryem.tapia@yahoo.com'}, {'Contact ID': 5490, 'First Name': 'Jasmine', 'Last Name': 'Juvara', 'Email': 'jasmine.juvara@yahoo.com.au'}, {'Contact ID': 1922, 'First Name': 'Victoire', 'Last Name': 'Travaglia', 'Email': 'victoire.travaglia@zacchia.com'}, {'Contact ID': 4398, 'First Name': 'Adrian', 'Last Name': 'Noel', 'Email': 'adrian.noel@perrin.com'}, {'Contact ID': 4754, 'First Name': 'Marvin', 'Last Name': 'Howe', 'Email': 'marvin.howe@gmail.com'}, {'Contact ID': 3309, 'First Name': 'Hanne', 'Last Name': 'Kidd', 'Email': 'hanne.kidd@yahoo.com'}, {'Contact ID': 1244, 'First Name': 'Donatello', 'Last Name': 'Millet', 'Email': 'donatello.millet@fritsch.net'}, {'Contact ID': 2892, 'First Name': 'Eloisa', 'Last Name': 'Pascarella', 'Email': 'eloisa.pascarella@gmail.com'}, {'Contact ID': 2777, 'First Name': 'Erica', 'Last Name': 'Zambrano', 'Email': 'erica.zambrano@gmail.com'}, {'Contact ID': 4952, 'First Name': 'Paula', 'Last Name': 'Canales', 'Email': 'paula.canales@gilmore-guerrero.com'}, {'Contact ID': 5144, 'First Name': 'Claudia', 'Last Name': 'Bernard', 'Email': 'claudia.bernard@mazzanti.it'}, {'Contact ID': 5487, 'First Name': 'Paulina', 'Last Name': 'Miller', 'Email': 'paulina.miller@lewis-barker.com'}, {'Contact ID': 1932, 'First Name': 'Kathrin', 'Last Name': 'Godfrey', 'Email': 'kathrin.godfrey@tele2.fr'}, {'Contact ID': 3364, 'First Name': 'Pina', 'Last Name': 'Passalacqua', 'Email': 'pina.passalacqua@yahoo.co.uk'}, {'Contact ID': 5165, 'First Name': 'Julien', 'Last Name': 'Miles', 'Email': 'julien.miles@stevens-rose.com'}, {'Contact ID': 3858, 'First Name': 'Suzanne', 'Last Name': 'Benigni', 'Email': 'suzanne.benigni@mennea-morlacchi.com'}, {'Contact ID': 4666, 'First Name': 'Annalisa', 'Last Name': 'Pugh', 'Email': 'annalisa.pugh@hotmail.fr'}, {'Contact ID': 2896, 'First Name': 'Mathew', 'Last Name': 'Maestas', 'Email': 'mathew.maestas@casas-garrido.com'}, {'Contact ID': 4520, 'First Name': 'Laszlo', 'Last Name': 'Vallee', 'Email': 'laszlo.vallee@verdier.com'}, {'Contact ID': 5726, 'First Name': 'Helen', 'Last Name': 'Polanco', 'Email': 'helen.polanco@hotmail.com'}, {'Contact ID': 5661, 'First Name': 'Mateo', 'Last Name': 'Sorrentino', 'Email': 'mateo.sorrentino@calderon.com'}, {'Contact ID': 4765, 'First Name': 'Eric', 'Last Name': 'Barnes', 'Email': 'eric.barnes@barrett-winter.com'}, {'Contact ID': 3710, 'First Name': 'Dragica', 'Last Name': 'West', 'Email': 'dragica.west@yahoo.com.au'}, {'Contact ID': 4925, 'First Name': 'Antje', 'Last Name': 'Voisin', 'Email': 'antje.voisin@gmail.com'}, {'Contact ID': 1533, 'First Name': 'Stanley', 'Last Name': 'Mills', 'Email': 'stanley.mills@parker-lee.biz'}, {'Contact ID': 5264, 'First Name': 'Brandy', 'Last Name': 'Meraz', 'Email': 'brandy.meraz@yahoo.com'}, {'Contact ID': 4606, 'First Name': 'Conor', 'Last Name': 'Reinhardt', 'Email': 'conor.reinhardt@yahoo.com.au'}, {'Contact ID': 2043, 'First Name': 'Gabino', 'Last Name': 'Blot', 'Email': 'gabino.blot@lewis-russell.org'}, {'Contact ID': 3871, 'First Name': 'Alvaro', 'Last Name': 'Lemus', 'Email': 'alvaro.lemus@yahoo.com'}, {'Contact ID': 6205, 'First Name': 'Patrizia', 'Last Name': 'Wilms', 'Email': 'patrizia.wilms@dbmail.com'}, {'Contact ID': 3193, 'First Name': 'Metin', 'Last Name': 'Coulon', 'Email': 'metin.coulon@ashley.com'}, {'Contact ID': 1810, 'First Name': 'Reece', 'Last Name': 'Valencia', 'Email': 'reece.valencia@laboy-palomo.com'}, {'Contact ID': 4797, 'First Name': 'Troy', 'Last Name': 'Schmiedecke', 'Email': 'troy.schmiedecke@picard.com'}, {'Contact ID': 1487, 'First Name': 'Wendy', 'Last Name': 'Bustos', 'Email': 'wendy.bustos@libero.it'}, {'Contact ID': 3474, 'First Name': 'Guglielmo', 'Last Name': 'Caldwell', 'Email': 'guglielmo.caldwell@loeffler.com'}, {'Contact ID': 5771, 'First Name': 'Travis', 'Last Name': 'Cowan', 'Email': 'travis.cowan@turner.info'}, {'Contact ID': 6074, 'First Name': 'Brandi', 'Last Name': 'Abbagnale', 'Email': 'brandi.abbagnale@tele2.fr'}, {'Contact ID': 1568, 'First Name': 'Hanno', 'Last Name': 'Gollum', 'Email': 'hanno.gollum@smith.com'}, {'Contact ID': 4263, 'First Name': 'Jutta', 'Last Name': 'Burke', 'Email': 'jutta.burke@elliott.com'}, {'Contact ID': 5850, 'First Name': 'Dorothe', 'Last Name': 'Paz', 'Email': 'dorothe.paz@fiebig.de'}, {'Contact ID': 5619, 'First Name': 'Desiree', 'Last Name': 'Huerta', 'Email': 'desiree.huerta@morris.com'}, {'Contact ID': 1904, 'First Name': 'Ilse', 'Last Name': 'Bray', 'Email': 'ilse.bray@venturi.it'}, {'Contact ID': 5388, 'First Name': 'Pierpaolo', 'Last Name': 'Scaduto', 'Email': 'pierpaolo.scaduto@sanders-gibson.com.au'}, {'Contact ID': 2150, 'First Name': 'Amedeo', 'Last Name': 'Bradford', 'Email': 'amedeo.bradford@yahoo.com'}, {'Contact ID': 2653, 'First Name': 'Julia', 'Last Name': 'Ali', 'Email': 'julia.ali@yahoo.com'}, {'Contact ID': 2687, 'First Name': 'Catalina', 'Last Name': 'Pizzetti', 'Email': 'catalina.pizzetti@tim.it'}, {'Contact ID': 3779, 'First Name': 'Dylan', 'Last Name': 'Porzio', 'Email': 'dylan.porzio@yahoo.de'}, {'Contact ID': 1494, 'First Name': 'Iris', 'Last Name': 'Trincavelli', 'Email': 'iris.trincavelli@tiscali.fr'}, {'Contact ID': 4129, 'First Name': 'Johnathan', 'Last Name': 'Guidotti', 'Email': 'johnathan.guidotti@cox-sanchez.net'}, {'Contact ID': 3035, 'First Name': 'Walburga', 'Last Name': 'Vollbrecht', 'Email': 'walburga.vollbrecht@aol.de'}, {'Contact ID': 2069, 'First Name': 'Kendra', 'Last Name': 'David', 'Email': 'kendra.david@allan-morton.com'}, {'Contact ID': 5469, 'First Name': 'Aleksandr', 'Last Name': 'Weiss', 'Email': 'aleksandr.weiss@blanc.org'}, {'Contact ID': 3903, 'First Name': 'Cornelio', 'Last Name': 'Guardado', 'Email': 'cornelio.guardado@gmail.com'}, {'Contact ID': 4083, 'First Name': 'Ferdi', 'Last Name': 'Blackburn', 'Email': 'ferdi.blackburn@christensen.net'}, {'Contact ID': 4003, 'First Name': 'Bill', 'Last Name': 'Gallagher', 'Email': 'bill.gallagher@green.com'}, {'Contact ID': 3565, 'First Name': 'Leonard', 'Last Name': 'Harvey', 'Email': 'leonard.harvey@hotmail.com'}, {'Contact ID': 1640, 'First Name': 'Milan', 'Last Name': 'Montenegro', 'Email': 'milan.montenegro@langern.com'}, {'Contact ID': 4769, 'First Name': 'Philip', 'Last Name': 'Perez', 'Email': 'philip.perez@hotmail.co.uk'}, {'Contact ID': 3398, 'First Name': 'Kathryn', 'Last Name': 'Hentschel', 'Email': 'kathryn.hentschel@shaw.com'}, {'Contact ID': 1865, 'First Name': 'Xavier', 'Last Name': 'Samson', 'Email': 'xavier.samson@baggio.it'}, {'Contact ID': 5690, 'First Name': 'Hartwig', 'Last Name': 'Roberts', 'Email': 'hartwig.roberts@saraceno.net'}, {'Contact ID': 3814, 'First Name': 'Kimberly', 'Last Name': 'Chan', 'Email': 'kimberly.chan@gmail.com'}, {'Contact ID': 2942, 'First Name': 'Lorraine', 'Last Name': 'Crawford', 'Email': 'lorraine.crawford@gmail.com'}, {'Contact ID': 5095, 'First Name': 'Maximiliano', 'Last Name': 'Knowles', 'Email': 'maximiliano.knowles@gmail.com'}, {'Contact ID': 2878, 'First Name': 'Gabriella', 'Last Name': 'Avila', 'Email': 'gabriella.avila@gmail.com'}, {'Contact ID': 3697, 'First Name': 'Rico', 'Last Name': 'Mortati', 'Email': 'rico.mortati@faivre.fr'}, {'Contact ID': 4744, 'First Name': 'Gail', 'Last Name': 'Petrocelli', 'Email': 'gail.petrocelli@yahoo.com'}, {'Contact ID': 2104, 'First Name': 'Liberto', 'Last Name': 'Niemeier', 'Email': 'liberto.niemeier@germano-dibiasi.it'}, {'Contact ID': 4883, 'First Name': 'Luciana', 'Last Name': 'Petitjean', 'Email': 'luciana.petitjean@patterson-cole.biz'}, {'Contact ID': 4807, 'First Name': 'Ron', 'Last Name': 'Cavazos', 'Email': 'ron.cavazos@yahoo.com'}, {'Contact ID': 1372, 'First Name': 'Aldo', 'Last Name': 'Cibin', 'Email': 'aldo.cibin@gmx.de'}, {'Contact ID': 3666, 'First Name': 'Alexandre', 'Last Name': 'Serrano', 'Email': 'alexandre.serrano@yahoo.co.uk'}, {'Contact ID': 2066, 'First Name': 'Lori', 'Last Name': 'Fagotto', 'Email': 'lori.fagotto@hill-anderson.com'}, {'Contact ID': 1834, 'First Name': 'Perla', 'Last Name': 'Figueroa', 'Email': 'perla.figueroa@live.com'}, {'Contact ID': 5853, 'First Name': 'Reginald', 'Last Name': 'Hughes', 'Email': 'reginald.hughes@gmail.com'}, {'Contact ID': 2219, 'First Name': 'Uriel', 'Last Name': 'Holt', 'Email': 'uriel.holt@gmail.com'}, {'Contact ID': 4148, 'First Name': 'Stefano', 'Last Name': 'Lemonnier', 'Email': 'stefano.lemonnier@binner.com'}, {'Contact ID': 4477, 'First Name': 'Madeleine', 'Last Name': 'Cooper', 'Email': 'madeleine.cooper@poste.it'}, {'Contact ID': 1786, 'First Name': 'Alban', 'Last Name': 'Barbier', 'Email': 'alban.barbier@ortiz.org'}, {'Contact ID': 3455, 'First Name': 'Alfonso', 'Last Name': 'Finetti', 'Email': 'alfonso.finetti@quiroz.com'}, {'Contact ID': 5707, 'First Name': 'Ryan', 'Last Name': 'Kim', 'Email': 'ryan.kim@noos.fr'}, {'Contact ID': 5470, 'First Name': 'Augustin', 'Last Name': 'Wohlgemut', 'Email': 'augustin.wohlgemut@watson.info'}, {'Contact ID': 3274, 'First Name': 'Rolando', 'Last Name': 'Bibi', 'Email': 'rolando.bibi@tin.it'}, {'Contact ID': 4613, 'First Name': 'Berthold', 'Last Name': 'Randall', 'Email': 'berthold.randall@mcdonald.com'}, {'Contact ID': 4465, 'First Name': 'Genaro', 'Last Name': 'Briand', 'Email': 'genaro.briand@sfr.fr'}, {'Contact ID': 1652, 'First Name': 'Rudolf', 'Last Name': 'Jenkins', 'Email': 'rudolf.jenkins@hotmail.com'}, {'Contact ID': 2100, 'First Name': 'Pauline', 'Last Name': 'Ackermann', 'Email': 'pauline.ackermann@arredondo-roque.com'}, {'Contact ID': 4321, 'First Name': 'Folker', 'Last Name': 'Swanson', 'Email': 'folker.swanson@rodrigues.fr'}, {'Contact ID': 4168, 'First Name': 'Ashleigh', 'Last Name': 'Montez', 'Email': 'ashleigh.montez@perry-schneider.com'}, {'Contact ID': 3733, 'First Name': 'Liliana', 'Last Name': 'Barber', 'Email': 'liliana.barber@libero.it'}, {'Contact ID': 2594, 'First Name': 'Caridad', 'Last Name': 'Carr', 'Email': 'caridad.carr@huhn.com'}, {'Contact ID': 3909, 'First Name': 'Lolita', 'Last Name': 'Borrego', 'Email': 'lolita.borrego@gmail.com'}, {'Contact ID': 5179, 'First Name': 'Gunar', 'Last Name': 'Patrick', 'Email': 'gunar.patrick@leroy.com'}, {'Contact ID': 2228, 'First Name': 'Leokadia', 'Last Name': 'Verdier', 'Email': 'leokadia.verdier@hotmail.com.au'}, {'Contact ID': 6222, 'First Name': 'Hanna', 'Last Name': 'Reid', 'Email': 'hanna.reid@salas.org'}, {'Contact ID': 2354, 'First Name': 'Edelgard', 'Last Name': 'Kreusel', 'Email': 'edelgard.kreusel@hotmail.com'}, {'Contact ID': 1725, 'First Name': 'Svenja', 'Last Name': 'Perrin', 'Email': 'svenja.perrin@berger.com'}, {'Contact ID': 2960, 'First Name': 'Pierluigi', 'Last Name': 'Taccola', 'Email': 'pierluigi.taccola@gmx.de'}, {'Contact ID': 2077, 'First Name': 'Cilli', 'Last Name': 'Watts', 'Email': 'cilli.watts@yahoo.com'}, {'Contact ID': 5662, 'First Name': 'Emiliano', 'Last Name': 'Wells', 'Email': 'emiliano.wells@gmx.de'}, {'Contact ID': 3481, 'First Name': 'April', 'Last Name': 'Davids', 'Email': 'april.davids@fisher.info'}, {'Contact ID': 2565, 'First Name': 'Dolores', 'Last Name': 'Didier', 'Email': 'dolores.didier@yahoo.com.au'}, {'Contact ID': 4436, 'First Name': 'Sylvia', 'Last Name': 'Bonomo', 'Email': 'sylvia.bonomo@poulain.com'}, {'Contact ID': 5072, 'First Name': 'Nelly', 'Last Name': 'Marsh', 'Email': 'nelly.marsh@hotmail.it'}, {'Contact ID': 5200, 'First Name': 'Beth', 'Last Name': 'Miniati', 'Email': 'beth.miniati@hudson.net'}, {'Contact ID': 4502, 'First Name': 'Renee', 'Last Name': 'Merino', 'Email': 'renee.merino@gmail.com'}, {'Contact ID': 4945, 'First Name': 'Hailey', 'Last Name': 'Russell', 'Email': 'hailey.russell@jourdan.org'}, {'Contact ID': 3012, 'First Name': 'Raphaela', 'Last Name': 'Gotthard', 'Email': 'raphaela.gotthard@outlook.com'}, {'Contact ID': 6094, 'First Name': 'Pomponio', 'Last Name': 'Comencini', 'Email': 'pomponio.comencini@hotmail.co.uk'}, {'Contact ID': 3815, 'First Name': 'Leone', 'Last Name': 'Richardson', 'Email': 'leone.richardson@yahoo.com'}, {'Contact ID': 4838, 'First Name': 'Valentine', 'Last Name': 'Acosta', 'Email': 'valentine.acosta@peters.net'}, {'Contact ID': 3469, 'First Name': 'Ricciotti', 'Last Name': 'Laureano', 'Email': 'ricciotti.laureano@parsons.com'}, {'Contact ID': 4874, 'First Name': 'Jacques', 'Last Name': 'Heidrich', 'Email': 'jacques.heidrich@zamudio-chapa.com'}, {'Contact ID': 1792, 'First Name': 'Anne', 'Last Name': 'Snow', 'Email': 'anne.snow@gmail.com'}, {'Contact ID': 4356, 'First Name': 'Sonia', 'Last Name': 'Volta', 'Email': 'sonia.volta@gmx.de'}, {'Contact ID': 6196, 'First Name': 'Dale', 'Last Name': 'Leblanc', 'Email': 'dale.leblanc@stewart.com'}, {'Contact ID': 3578, 'First Name': 'Alejandro', 'Last Name': 'Cruz', 'Email': 'alejandro.cruz@hotmail.com'}, {'Contact ID': 4491, 'First Name': 'Elsa', 'Last Name': 'Cugia', 'Email': 'elsa.cugia@yahoo.com'}, {'Contact ID': 3054, 'First Name': 'Geronimo', 'Last Name': 'Pechel', 'Email': 'geronimo.pechel@hotmail.com'}, {'Contact ID': 1968, 'First Name': 'Melania', 'Last Name': 'Klemm', 'Email': 'melania.klemm@seidel.com'}, {'Contact ID': 5869, 'First Name': 'Katherine', 'Last Name': 'Cooley', 'Email': 'katherine.cooley@yahoo.com'}, {'Contact ID': 5858, 'First Name': 'Guillermo', 'Last Name': 'Larsen', 'Email': 'guillermo.larsen@yahoo.com'}, {'Contact ID': 5203, 'First Name': 'Jill', 'Last Name': 'Barrios', 'Email': 'jill.barrios@gmail.com'}, {'Contact ID': 2577, 'First Name': 'Austin', 'Last Name': 'Musatti', 'Email': 'austin.musatti@tin.it'}, {'Contact ID': 3216, 'First Name': 'Jacinto', 'Last Name': 'Rose', 'Email': 'jacinto.rose@yahoo.com'}, {'Contact ID': 2037, 'First Name': 'Lucie', 'Last Name': 'Redi', 'Email': 'lucie.redi@googlemail.com'}, {'Contact ID': 3867, 'First Name': 'Tania', 'Last Name': 'Chapman', 'Email': 'tania.chapman@remy.com'}, {'Contact ID': 5109, 'First Name': 'Alexandria', 'Last Name': 'Best', 'Email': 'alexandria.best@yahoo.co.uk'}, {'Contact ID': 1376, 'First Name': 'Edward', 'Last Name': 'Scott', 'Email': 'edward.scott@yahoo.com'}, {'Contact ID': 5260, 'First Name': 'Jake', 'Last Name': 'Wiley', 'Email': 'jake.wiley@outlook.com'}, {'Contact ID': 2350, 'First Name': 'Claudio', 'Last Name': 'Reuter', 'Email': 'claudio.reuter@morgan-collins.org.au'}, {'Contact ID': 2269, 'First Name': 'Laure', 'Last Name': 'Traetta', 'Email': 'laure.traetta@kay-perkins.co.uk'}, {'Contact ID': 3650, 'First Name': 'Magarete', 'Last Name': 'Valentin', 'Email': 'magarete.valentin@yahoo.com'}, {'Contact ID': 3934, 'First Name': 'Paige', 'Last Name': 'Hill', 'Email': 'paige.hill@jones.org.au'}, {'Contact ID': 4048, 'First Name': 'Fulvio', 'Last Name': 'Curiel', 'Email': 'fulvio.curiel@reynolds.com'}, {'Contact ID': 4266, 'First Name': 'Thibaut', 'Last Name': 'Camarillo', 'Email': 'thibaut.camarillo@hotmail.com'}, {'Contact ID': 3863, 'First Name': 'Romana', 'Last Name': 'Blanchard', 'Email': 'romana.blanchard@googlemail.com'}, {'Contact ID': 4922, 'First Name': 'Thibault', 'Last Name': 'Savorgnan', 'Email': 'thibault.savorgnan@butler.biz'}, {'Contact ID': 4517, 'First Name': 'Alexander', 'Last Name': 'Pausini', 'Email': 'alexander.pausini@gonzalez.info'}, {'Contact ID': 3259, 'First Name': 'Pierangelo', 'Last Name': 'Scholtz', 'Email': 'pierangelo.scholtz@lefevre.com'}, {'Contact ID': 3123, 'First Name': 'Emmanuelle', 'Last Name': 'Keller', 'Email': 'emmanuelle.keller@morton-clarke.com'}, {'Contact ID': 3870, 'First Name': 'Isabella', 'Last Name': 'Deleon', 'Email': 'isabella.deleon@web.de'}, {'Contact ID': 2996, 'First Name': 'Timothy', 'Last Name': 'Weitzel', 'Email': 'timothy.weitzel@gmail.com'}, {'Contact ID': 2993, 'First Name': 'Alfredo', 'Last Name': 'Ingram', 'Email': 'alfredo.ingram@hotmail.com'}, {'Contact ID': 4556, 'First Name': 'Francesca', 'Last Name': 'Kade', 'Email': 'francesca.kade@luna-rael.org'}, {'Contact ID': 2326, 'First Name': 'Tonia', 'Last Name': 'Coleman', 'Email': 'tonia.coleman@hotmail.com'}, {'Contact ID': 4109, 'First Name': 'Gottfried', 'Last Name': 'Barbe', 'Email': 'gottfried.barbe@hotmail.com'}, {'Contact ID': 5739, 'First Name': 'Jeffrey', 'Last Name': 'Trommler', 'Email': 'jeffrey.trommler@yahoo.com'}, {'Contact ID': 5887, 'First Name': 'Giacobbe', 'Last Name': 'Owens', 'Email': 'giacobbe.owens@huet.fr'}, {'Contact ID': 1651, 'First Name': 'Conchita', 'Last Name': 'Pagliaro', 'Email': 'conchita.pagliaro@googlemail.com'}, {'Contact ID': 1628, 'First Name': 'Kevin', 'Last Name': 'Delahaye', 'Email': 'kevin.delahaye@ellis-wilson.com'}, {'Contact ID': 2642, 'First Name': 'Rouven', 'Last Name': 'Ovadia', 'Email': 'rouven.ovadia@gmail.com'}, {'Contact ID': 6020, 'First Name': 'Piermaria', 'Last Name': 'Laporte', 'Email': 'piermaria.laporte@wesack.com'}, {'Contact ID': 4747, 'First Name': 'Karolin', 'Last Name': 'Johann', 'Email': 'karolin.johann@hotmail.com'}, {'Contact ID': 5534, 'First Name': 'Steven', 'Last Name': 'Folliero', 'Email': 'steven.folliero@noos.fr'}, {'Contact ID': 4790, 'First Name': 'Livio', 'Last Name': 'Rosselli', 'Email': 'livio.rosselli@green.co.uk'}, {'Contact ID': 4632, 'First Name': 'Gaetano', 'Last Name': 'Leonardi', 'Email': 'gaetano.leonardi@despacho.com'}, {'Contact ID': 1952, 'First Name': 'Cynthia', 'Last Name': 'Robinson', 'Email': 'cynthia.robinson@gilles.net'}, {'Contact ID': 4388, 'First Name': 'Eleni', 'Last Name': 'Aponte', 'Email': 'eleni.aponte@club-internet.fr'}, {'Contact ID': 5529, 'First Name': 'Noelia', 'Last Name': 'Romo', 'Email': 'noelia.romo@yahoo.com'}, {'Contact ID': 1316, 'First Name': 'Evelyn', 'Last Name': 'Haynes', 'Email': 'evelyn.haynes@clark.info'}, {'Contact ID': 1670, 'First Name': 'Katharine', 'Last Name': 'Zaccagnini', 'Email': 'katharine.zaccagnini@hotmail.com'}, {'Contact ID': 4909, 'First Name': 'Lea', 'Last Name': 'Merle', 'Email': 'lea.merle@stey.de'}, {'Contact ID': 3401, 'First Name': 'Marta', 'Last Name': 'Huynh', 'Email': 'marta.huynh@hernandez.info'}, {'Contact ID': 4619, 'First Name': 'Amador', 'Last Name': 'Riley', 'Email': 'amador.riley@hotmail.com'}, {'Contact ID': 4722, 'First Name': 'Julie', 'Last Name': 'Coles', 'Email': 'julie.coles@hotmail.fr'}, {'Contact ID': 2188, 'First Name': 'Beverley', 'Last Name': 'Telesio', 'Email': 'beverley.telesio@regnier.fr'}, {'Contact ID': 5497, 'First Name': 'Corinne', 'Last Name': 'Mitschke', 'Email': 'corinne.mitschke@hauffer.net'}, {'Contact ID': 5711, 'First Name': 'Valerie', 'Last Name': 'Ortega', 'Email': 'valerie.ortega@tele2.it'}, {'Contact ID': 4076, 'First Name': 'Carlos', 'Last Name': 'Delle', 'Email': 'carlos.delle@hicks.com'}, {'Contact ID': 1847, 'First Name': 'Christina', 'Last Name': 'Besnard', 'Email': 'christina.besnard@delorme.com'}, {'Contact ID': 2816, 'First Name': 'Rosario', 'Last Name': 'Jacques', 'Email': 'rosario.jacques@yahoo.com'}, {'Contact ID': 5019, 'First Name': 'Celal', 'Last Name': 'Fischer', 'Email': 'celal.fischer@aol.de'}, {'Contact ID': 4869, 'First Name': 'Leonardo', 'Last Name': 'Guzman', 'Email': 'leonardo.guzman@andreozzi-abba.com'}, {'Contact ID': 3613, 'First Name': 'Clinton', 'Last Name': 'Mason', 'Email': 'clinton.mason@yahoo.com'}, {'Contact ID': 3069, 'First Name': 'Loretta', 'Last Name': 'Mallet', 'Email': 'loretta.mallet@sansoni-toscani.it'}, {'Contact ID': 2601, 'First Name': 'Lorenzo', 'Last Name': 'Roero', 'Email': 'lorenzo.roero@hotmail.co.uk'}, {'Contact ID': 2133, 'First Name': 'Lando', 'Last Name': 'Gutierrez', 'Email': 'lando.gutierrez@heser.com'}, {'Contact ID': 3164, 'First Name': 'Elaine', 'Last Name': 'Patterson', 'Email': 'elaine.patterson@rose-morris.org'}, {'Contact ID': 3897, 'First Name': 'Marcella', 'Last Name': 'Govoni', 'Email': 'marcella.govoni@barkholz.net'}, {'Contact ID': 5663, 'First Name': 'Ettore', 'Last Name': 'Amaldi', 'Email': 'ettore.amaldi@germain.com'}, {'Contact ID': 3879, 'First Name': 'Rufino', 'Last Name': 'Gallegos', 'Email': 'rufino.gallegos@webster-newton.co.uk'}, {'Contact ID': 5900, 'First Name': 'Georges', 'Last Name': 'Richards', 'Email': 'georges.richards@macdonald.com'}, {'Contact ID': 2272, 'First Name': 'Janice', 'Last Name': 'Infantino', 'Email': 'janice.infantino@hotmail.com'}, {'Contact ID': 5436, 'First Name': 'Svetlana', 'Last Name': 'Montanariello', 'Email': 'svetlana.montanariello@putz.de'}, {'Contact ID': 3676, 'First Name': 'Agnolo', 'Last Name': 'Cedillo', 'Email': 'agnolo.cedillo@laboratorios.biz'}, {'Contact ID': 4676, 'First Name': 'Hannah', 'Last Name': 'Jockel', 'Email': 'hannah.jockel@ceravolo-tonisto.eu'}, {'Contact ID': 1563, 'First Name': 'Yvonne', 'Last Name': 'Stout', 'Email': 'yvonne.stout@sims.edu'}, {'Contact ID': 4349, 'First Name': 'Anouk', 'Last Name': 'Pace', 'Email': 'anouk.pace@gmail.com'}, {'Contact ID': 1658, 'First Name': 'Esteban', 'Last Name': 'Valdez', 'Email': 'esteban.valdez@hotmail.com'}, {'Contact ID': 2552, 'First Name': 'Angelina', 'Last Name': 'Davies', 'Email': 'angelina.davies@hotmail.com'}, {'Contact ID': 4847, 'First Name': 'Anastasie', 'Last Name': 'Cadena', 'Email': 'anastasie.cadena@live.com'}, {'Contact ID': 1553, 'First Name': 'Hansjoachim', 'Last Name': 'Lettiere', 'Email': 'hansjoachim.lettiere@hall-mcdaniel.net'}, {'Contact ID': 2632, 'First Name': 'Yeni', 'Last Name': 'Tejada', 'Email': 'yeni.tejada@olson.edu.au'}, {'Contact ID': 1908, 'First Name': 'Dulce', 'Last Name': 'Adinolfi', 'Email': 'dulce.adinolfi@hotmail.com'}, {'Contact ID': 5801, 'First Name': 'Sean', 'Last Name': 'Mielcarek', 'Email': 'sean.mielcarek@gmail.com'}, {'Contact ID': 1935, 'First Name': 'Omar', 'Last Name': 'Fonseca', 'Email': 'omar.fonseca@grupo.org'}, {'Contact ID': 2609, 'First Name': 'Henry', 'Last Name': 'Gucci', 'Email': 'henry.gucci@leleu.fr'}, {'Contact ID': 2740, 'First Name': 'Samira', 'Last Name': 'Bottaro', 'Email': 'samira.bottaro@vasseur.fr'}, {'Contact ID': 1907, 'First Name': 'Korinna', 'Last Name': 'Arnold', 'Email': 'korinna.arnold@zapata-saenz.biz'}, {'Contact ID': 1831, 'First Name': 'Marcela', 'Last Name': 'Ferrante', 'Email': 'marcela.ferrante@gmx.de'}, {'Contact ID': 5177, 'First Name': 'Douglas', 'Last Name': 'Amaya', 'Email': 'douglas.amaya@favata-brenna.net'}, {'Contact ID': 6179, 'First Name': 'Katherina', 'Last Name': 'Barrientos', 'Email': 'katherina.barrientos@trobbiani.eu'}, {'Contact ID': 2917, 'First Name': 'Brittany', 'Last Name': 'Tran', 'Email': 'brittany.tran@tele2.it'}, {'Contact ID': 1486, 'First Name': 'Caroline', 'Last Name': 'Reeves', 'Email': 'caroline.reeves@yahoo.com'}, {'Contact ID': 3735, 'First Name': 'Joe', 'Last Name': 'Michaud', 'Email': 'joe.michaud@yahoo.fr'}, {'Contact ID': 3838, 'First Name': 'Marco', 'Last Name': 'Vittadello', 'Email': 'marco.vittadello@gmail.com'}, {'Contact ID': 2430, 'First Name': 'Kim', 'Last Name': 'Webb', 'Email': 'kim.webb@yahoo.com.au'}, {'Contact ID': 2480, 'First Name': 'Eugenia', 'Last Name': 'Zichichi', 'Email': 'eugenia.zichichi@yahoo.com'}, {'Contact ID': 3431, 'First Name': 'Aurore', 'Last Name': 'Rosemann', 'Email': 'aurore.rosemann@leoncavallo-rusticucci.com'}, {'Contact ID': 1742, 'First Name': 'Giustino', 'Last Name': 'Luzi', 'Email': 'giustino.luzi@rolland.fr'}, {'Contact ID': 4628, 'First Name': 'Anita', 'Last Name': 'Galindo', 'Email': 'anita.galindo@gmail.com'}, {'Contact ID': 2385, 'First Name': 'Gunhild', 'Last Name': 'Carrillo', 'Email': 'gunhild.carrillo@elliott-gilbert.org'}, {'Contact ID': 2213, 'First Name': 'Rosa', 'Last Name': 'Paul', 'Email': 'rosa.paul@bien.com'}, {'Contact ID': 5188, 'First Name': 'Marliese', 'Last Name': 'Oneal', 'Email': 'marliese.oneal@gmail.com'}, {'Contact ID': 3418, 'First Name': 'Bethany', 'Last Name': 'Hartmann', 'Email': 'bethany.hartmann@yahoo.com'}, {'Contact ID': 5637, 'First Name': 'Irina', 'Last Name': 'Martineau', 'Email': 'irina.martineau@gmail.com'}, {'Contact ID': 3530, 'First Name': 'Beatriz', 'Last Name': 'Moulin', 'Email': 'beatriz.moulin@pinto.com'}, {'Contact ID': 3731, 'First Name': 'Lucas', 'Last Name': 'Austin', 'Email': 'lucas.austin@gmail.com'}, {'Contact ID': 3219, 'First Name': 'Carole', 'Last Name': 'Nohlmans', 'Email': 'carole.nohlmans@yahoo.com'}, {'Contact ID': 2392, 'First Name': 'Bozena', 'Last Name': 'Schmitt', 'Email': 'bozena.schmitt@vallet.com'}, {'Contact ID': 5103, 'First Name': 'Aimee', 'Last Name': 'Foconi', 'Email': 'aimee.foconi@outlook.com'}, {'Contact ID': 3992, 'First Name': 'Marzena', 'Last Name': 'Carrero', 'Email': 'marzena.carrero@roskoth.de'}, {'Contact ID': 2442, 'First Name': 'Raisa', 'Last Name': 'Poulain', 'Email': 'raisa.poulain@fastwebnet.it'}, {'Contact ID': 2913, 'First Name': 'Marcantonio', 'Last Name': 'Bennett', 'Email': 'marcantonio.bennett@hopkins.com.au'}, {'Contact ID': 1631, 'First Name': 'Kenneth', 'Last Name': 'Hurst', 'Email': 'kenneth.hurst@meunier.net'}, {'Contact ID': 4073, 'First Name': 'Marisela', 'Last Name': 'Mende', 'Email': 'marisela.mende@godoy-enriquez.com'}, {'Contact ID': 4568, 'First Name': 'Blanka', 'Last Name': 'Villareal', 'Email': 'blanka.villareal@monduzzi.net'}, {'Contact ID': 1830, 'First Name': 'Tomislav', 'Last Name': 'Stoppani', 'Email': 'tomislav.stoppani@corporacin.org'}, {'Contact ID': 2623, 'First Name': 'Krystal', 'Last Name': 'Ammaniti', 'Email': 'krystal.ammaniti@barbier.fr'}, {'Contact ID': 4327, 'First Name': 'Deanna', 'Last Name': 'Aporti', 'Email': 'deanna.aporti@bouygtel.fr'}, {'Contact ID': 3713, 'First Name': 'Donatella', 'Last Name': 'Burns', 'Email': 'donatella.burns@yahoo.de'}, {'Contact ID': 2389, 'First Name': 'Margrit', 'Last Name': 'Hooper', 'Email': 'margrit.hooper@douglas.com'}, {'Contact ID': 5141, 'First Name': 'Baccio', 'Last Name': 'Marcacci', 'Email': 'baccio.marcacci@laposte.net'}, {'Contact ID': 3522, 'First Name': 'Alfio', 'Last Name': 'Roman', 'Email': 'alfio.roman@hotmail.co.uk'}, {'Contact ID': 1334, 'First Name': 'Soledad', 'Last Name': 'Soto', 'Email': 'soledad.soto@hotmail.de'}, {'Contact ID': 4721, 'First Name': 'Josh', 'Last Name': 'Cimarosa', 'Email': 'josh.cimarosa@hotmail.com'}, {'Contact ID': 3768, 'First Name': 'Nath', 'Last Name': 'Rico', 'Email': 'nath.rico@yahoo.com'}, {'Contact ID': 1639, 'First Name': 'Gary', 'Last Name': 'Armani', 'Email': 'gary.armani@web.de'}, {'Contact ID': 5149, 'First Name': 'Miriam', 'Last Name': 'Oquendo', 'Email': 'miriam.oquendo@smith-watson.biz'}, {'Contact ID': 2153, 'First Name': 'Monica', 'Last Name': 'Mohaupt', 'Email': 'monica.mohaupt@live.com'}, {'Contact ID': 2767, 'First Name': 'Alec', 'Last Name': 'Ho', 'Email': 'alec.ho@parra-esparza.com'}, {'Contact ID': 5124, 'First Name': 'Harry', 'Last Name': 'Fouquet', 'Email': 'harry.fouquet@ibarra-cooper.com'}, {'Contact ID': 2097, 'First Name': 'Arcelia', 'Last Name': 'Babati', 'Email': 'arcelia.babati@orange.fr'}, {'Contact ID': 4796, 'First Name': 'Trinidad', 'Last Name': 'Vespa', 'Email': 'trinidad.vespa@gmail.com'}, {'Contact ID': 5849, 'First Name': 'Colette', 'Last Name': 'Ryan', 'Email': 'colette.ryan@hotmail.com'}, {'Contact ID': 1495, 'First Name': 'Richard', 'Last Name': 'Andre', 'Email': 'richard.andre@porras.org'}, {'Contact ID': 2462, 'First Name': 'Ellinor', 'Last Name': 'Leclercq', 'Email': 'ellinor.leclercq@gmail.com'}, {'Contact ID': 2280, 'First Name': 'Patricio', 'Last Name': 'Guillon', 'Email': 'patricio.guillon@web.de'}, {'Contact ID': 1877, 'First Name': 'Kirsten', 'Last Name': 'Chindamo', 'Email': 'kirsten.chindamo@carrillo-wall.com'}, {'Contact ID': 6108, 'First Name': 'Leo', 'Last Name': 'Petruzzi', 'Email': 'leo.petruzzi@yahoo.com'}, {'Contact ID': 4427, 'First Name': 'Margot', 'Last Name': 'Tomaselli', 'Email': 'margot.tomaselli@junck.org'}, {'Contact ID': 2881, 'First Name': 'Ansaldo', 'Last Name': 'Marks', 'Email': 'ansaldo.marks@patel-odonnell.com'}, {'Contact ID': 2339, 'First Name': 'Regina', 'Last Name': 'Morin', 'Email': 'regina.morin@barcaccia.net'}, {'Contact ID': 5156, 'First Name': 'Karla', 'Last Name': 'Medici', 'Email': 'karla.medici@yahoo.com'}, {'Contact ID': 4750, 'First Name': 'Morgan', 'Last Name': 'Irizarry', 'Email': 'morgan.irizarry@williams-harris.biz'}, {'Contact ID': 4852, 'First Name': 'Natividad', 'Last Name': 'Wong', 'Email': 'natividad.wong@hoevel.com'}, {'Contact ID': 5734, 'First Name': 'Anna', 'Last Name': 'Freeman', 'Email': 'anna.freeman@snyder.net'}, {'Contact ID': 3801, 'First Name': 'Emilia', 'Last Name': 'Vivaldi', 'Email': 'emilia.vivaldi@garnier.fr'}, {'Contact ID': 4474, 'First Name': 'Gerda', 'Last Name': 'Cook', 'Email': 'gerda.cook@tin.it'}, {'Contact ID': 1992, 'First Name': 'Andrey', 'Last Name': 'Faure', 'Email': 'andrey.faure@frederick-mitchell.info'}, {'Contact ID': 5796, 'First Name': 'Charlotte', 'Last Name': 'Duke', 'Email': 'charlotte.duke@ochoa.org'}, {'Contact ID': 1373, 'First Name': 'Cindy', 'Last Name': 'Castillo', 'Email': 'cindy.castillo@virgilio.it'}, {'Contact ID': 1879, 'First Name': 'Hiltrud', 'Last Name': 'Thibault', 'Email': 'hiltrud.thibault@barbe.com'}, {'Contact ID': 3072, 'First Name': 'Kasimir', 'Last Name': 'Jaime', 'Email': 'kasimir.jaime@gmail.com'}, {'Contact ID': 4561, 'First Name': 'Sabine', 'Last Name': 'Lachmann', 'Email': 'sabine.lachmann@phillips.org'}, {'Contact ID': 5201, 'First Name': 'Andrea', 'Last Name': 'Arroyo', 'Email': 'andrea.arroyo@yahoo.com.au'}, {'Contact ID': 5871, 'First Name': 'Matthew', 'Last Name': 'Velasquez', 'Email': 'matthew.velasquez@gmail.com'}, {'Contact ID': 3041, 'First Name': 'Severino', 'Last Name': 'Linares', 'Email': 'severino.linares@angeli.com'}, {'Contact ID': 5864, 'First Name': 'Swantje', 'Last Name': 'Lomeli', 'Email': 'swantje.lomeli@gmx.de'}, {'Contact ID': 3999, 'First Name': 'Marcus', 'Last Name': 'Espino', 'Email': 'marcus.espino@comolli.eu'}, {'Contact ID': 4849, 'First Name': 'Allen', 'Last Name': 'Gates', 'Email': 'allen.gates@gmail.com'}, {'Contact ID': 5461, 'First Name': 'Mauricio', 'Last Name': 'Saunders', 'Email': 'mauricio.saunders@hotmail.co.uk'}, {'Contact ID': 5946, 'First Name': 'Gilbert', 'Last Name': 'Cornejo', 'Email': 'gilbert.cornejo@hotmail.com'}, {'Contact ID': 4508, 'First Name': 'Letizia', 'Last Name': 'Gulotta', 'Email': 'letizia.gulotta@howard.biz'}, {'Contact ID': 5096, 'First Name': 'Etta', 'Last Name': 'Gutknecht', 'Email': 'etta.gutknecht@leconte.net'}, {'Contact ID': 5443, 'First Name': 'Shelley', 'Last Name': 'Perry', 'Email': 'shelley.perry@gierschner.de'}, {'Contact ID': 2165, 'First Name': 'Geoffrey', 'Last Name': 'Williams', 'Email': 'geoffrey.williams@poste.it'}, {'Contact ID': 2125, 'First Name': 'Cory', 'Last Name': 'Stewart', 'Email': 'cory.stewart@voila.fr'}, {'Contact ID': 6141, 'First Name': 'Kristy', 'Last Name': 'Bartlett', 'Email': 'kristy.bartlett@outlook.com'}, {'Contact ID': 5245, 'First Name': 'Gianluca', 'Last Name': 'Beck', 'Email': 'gianluca.beck@green.biz'}, {'Contact ID': 2190, 'First Name': 'Guido', 'Last Name': 'Krein', 'Email': 'guido.krein@gmail.com'}, {'Contact ID': 2243, 'First Name': 'Leif', 'Last Name': 'Monnier', 'Email': 'leif.monnier@querini.it'}, {'Contact ID': 3336, 'First Name': 'Jonas', 'Last Name': 'Badoer', 'Email': 'jonas.badoer@kennedy.biz'}, {'Contact ID': 3305, 'First Name': 'Devin', 'Last Name': 'Ebert', 'Email': 'devin.ebert@yahoo.fr'}, {'Contact ID': 6191, 'First Name': 'Slobodan', 'Last Name': 'Camiscione', 'Email': 'slobodan.camiscione@hotmail.com'}, {'Contact ID': 1326, 'First Name': 'Volkmar', 'Last Name': 'Gauthier', 'Email': 'volkmar.gauthier@hotmail.com'}, {'Contact ID': 6159, 'First Name': 'Jordan', 'Last Name': 'Rowe', 'Email': 'jordan.rowe@outlook.com'}, {'Contact ID': 2003, 'First Name': 'Manon', 'Last Name': 'Daugherty', 'Email': 'manon.daugherty@segre.com'}, {'Contact ID': 5881, 'First Name': 'Estela', 'Last Name': 'Segovia', 'Email': 'estela.segovia@vodafone.it'}, {'Contact ID': 1918, 'First Name': 'Giada', 'Last Name': 'Celentano', 'Email': 'giada.celentano@evans.net'}, {'Contact ID': 2157, 'First Name': 'Clayton', 'Last Name': 'Salcedo', 'Email': 'clayton.salcedo@hotmail.co.uk'}, {'Contact ID': 3149, 'First Name': 'Raven', 'Last Name': 'Pinto', 'Email': 'raven.pinto@hotmail.com'}, {'Contact ID': 2444, 'First Name': 'Lewis', 'Last Name': 'Lewis', 'Email': 'lewis.lewis@pisano.net'}, {'Contact ID': 6207, 'First Name': 'Rochus', 'Last Name': 'Rousseau', 'Email': 'rochus.rousseau@nguyen.com'}, {'Contact ID': 5580, 'First Name': 'Belinda', 'Last Name': 'Gamez', 'Email': 'belinda.gamez@leleu.com'}, {'Contact ID': 5942, 'First Name': 'Angelo', 'Last Name': 'Lozano', 'Email': 'angelo.lozano@macias.com'}, {'Contact ID': 1592, 'First Name': 'Jorge', 'Last Name': 'Monti', 'Email': 'jorge.monti@clement.fr'}, {'Contact ID': 2344, 'First Name': 'Ricky', 'Last Name': 'Harrell', 'Email': 'ricky.harrell@martin.edu'}, {'Contact ID': 5995, 'First Name': 'Adriano', 'Last Name': 'Wulf', 'Email': 'adriano.wulf@schmidtke.net'}, {'Contact ID': 5022, 'First Name': 'Pompeo', 'Last Name': 'Bourdon', 'Email': 'pompeo.bourdon@gmail.com'}, {'Contact ID': 5991, 'First Name': 'Kristie', 'Last Name': 'Garrett', 'Email': 'kristie.garrett@wernecke.com'}, {'Contact ID': 4020, 'First Name': 'Lodovico', 'Last Name': 'Conley', 'Email': 'lodovico.conley@yahoo.com'}, {'Contact ID': 6028, 'First Name': 'Jean', 'Last Name': 'Berthelot', 'Email': 'jean.berthelot@oscuro.it'}, {'Contact ID': 2790, 'First Name': 'Tadeusz', 'Last Name': 'Medina', 'Email': 'tadeusz.medina@jackson-clark.net'}, {'Contact ID': 4033, 'First Name': 'Ruby', 'Last Name': 'Carriera', 'Email': 'ruby.carriera@hotmail.it'}, {'Contact ID': 1261, 'First Name': 'Theres', 'Last Name': 'Antonioni', 'Email': 'theres.antonioni@hotmail.com'}, {'Contact ID': 1979, 'First Name': 'Gloria', 'Last Name': 'Morton', 'Email': 'gloria.morton@outlook.com'}, {'Contact ID': 2122, 'First Name': 'Graziano', 'Last Name': 'Jensen', 'Email': 'graziano.jensen@gmail.com'}, {'Contact ID': 4506, 'First Name': 'Gianpaolo', 'Last Name': 'Massey', 'Email': 'gianpaolo.massey@bouvier.com'}, {'Contact ID': 3016, 'First Name': 'Alain', 'Last Name': 'Farmer', 'Email': 'alain.farmer@hotmail.it'}, {'Contact ID': 3272, 'First Name': 'Renato', 'Last Name': 'Murillo', 'Email': 'renato.murillo@club.com'}, {'Contact ID': 1375, 'First Name': 'Edda', 'Last Name': 'Ferraris', 'Email': 'edda.ferraris@libero.it'}, {'Contact ID': 4014, 'First Name': 'Luce', 'Last Name': 'Marty', 'Email': 'luce.marty@waehner.org'}, {'Contact ID': 3199, 'First Name': 'Rotraud', 'Last Name': 'Mitchell', 'Email': 'rotraud.mitchell@laboratorios.com'}, {'Contact ID': 2184, 'First Name': 'Israel', 'Last Name': 'Watkins', 'Email': 'israel.watkins@hotmail.com'}, {'Contact ID': 2170, 'First Name': 'Nathan', 'Last Name': 'Jennings', 'Email': 'nathan.jennings@kim.com'}, {'Contact ID': 1478, 'First Name': 'Gavin', 'Last Name': 'Proietti', 'Email': 'gavin.proietti@gmx.de'}, {'Contact ID': 6163, 'First Name': 'Emma', 'Last Name': 'Rios', 'Email': 'emma.rios@yahoo.com.au'}, {'Contact ID': 1889, 'First Name': 'Todd', 'Last Name': 'Douglas', 'Email': 'todd.douglas@web.de'}, {'Contact ID': 5912, 'First Name': 'Oscar', 'Last Name': 'Holsten', 'Email': 'oscar.holsten@yahoo.com'}, {'Contact ID': 2537, 'First Name': 'Ann', 'Last Name': 'Peron', 'Email': 'ann.peron@grupo.biz'}, {'Contact ID': 2118, 'First Name': 'Senta', 'Last Name': 'Grassi', 'Email': 'senta.grassi@hotmail.com'}, {'Contact ID': 3234, 'First Name': 'Kata', 'Last Name': 'Mena', 'Email': 'kata.mena@gmail.com'}, {'Contact ID': 3842, 'First Name': 'Gianfranco', 'Last Name': 'Hethur', 'Email': 'gianfranco.hethur@stewart-lee.com.au'}, {'Contact ID': 3032, 'First Name': 'Florentine', 'Last Name': 'Saraceno', 'Email': 'florentine.saraceno@gmail.com'}, {'Contact ID': 3238, 'First Name': 'Giuliano', 'Last Name': 'Bolzmann', 'Email': 'giuliano.bolzmann@pacillo.it'}, {'Contact ID': 2059, 'First Name': 'Alwine', 'Last Name': 'Kostolzin', 'Email': 'alwine.kostolzin@holloway.com'}, {'Contact ID': 5238, 'First Name': 'Giacinto', 'Last Name': 'Briggs', 'Email': 'giacinto.briggs@yahoo.co.uk'}, {'Contact ID': 2578, 'First Name': 'Holly', 'Last Name': 'Negrete', 'Email': 'holly.negrete@hotmail.com'}, {'Contact ID': 4789, 'First Name': 'Mark', 'Last Name': 'Trapanese', 'Email': 'mark.trapanese@gmail.com'}, {'Contact ID': 2357, 'First Name': 'Alyssa', 'Last Name': 'Brun', 'Email': 'alyssa.brun@chittolini-spadafora.it'}, {'Contact ID': 1235, 'First Name': 'Cristina', 'Last Name': 'Chevalier', 'Email': 'cristina.chevalier@proyectos.com'}, {'Contact ID': 3558, 'First Name': 'Shannon', 'Last Name': 'Lefevre', 'Email': 'shannon.lefevre@gmail.com'}, {'Contact ID': 1707, 'First Name': 'Logan', 'Last Name': 'Hornich', 'Email': 'logan.hornich@tin.it'}, {'Contact ID': 2842, 'First Name': 'Rosalia', 'Last Name': 'Toro', 'Email': 'rosalia.toro@free.fr'}, {'Contact ID': 5318, 'First Name': 'Reiner', 'Last Name': 'Poerio', 'Email': 'reiner.poerio@yahoo.com'}, {'Contact ID': 1620, 'First Name': 'Valentina', 'Last Name': 'Pages', 'Email': 'valentina.pages@hotmail.de'}, {'Contact ID': 4998, 'First Name': 'Enrico', 'Last Name': 'Fabre', 'Email': 'enrico.fabre@gmail.com'}, {'Contact ID': 3111, 'First Name': 'Sevim', 'Last Name': 'Begue', 'Email': 'sevim.begue@yahoo.com.au'}, {'Contact ID': 1424, 'First Name': 'Sonja', 'Last Name': 'Patberg', 'Email': 'sonja.patberg@hotmail.com'}, {'Contact ID': 3244, 'First Name': 'Christine', 'Last Name': 'Hiller', 'Email': 'christine.hiller@yahoo.com'}, {'Contact ID': 4643, 'First Name': 'Maik', 'Last Name': 'Beasley', 'Email': 'maik.beasley@harper-brooks.biz'}, {'Contact ID': 6132, 'First Name': 'Elliot', 'Last Name': 'Santana', 'Email': 'elliot.santana@gmx.de'}, {'Contact ID': 3790, 'First Name': 'Eloy', 'Last Name': 'Renzi', 'Email': 'eloy.renzi@gmail.com'}, {'Contact ID': 1312, 'First Name': 'Wolf', 'Last Name': 'Lutz', 'Email': 'wolf.lutz@nichols-jackson.com.au'}, {'Contact ID': 5686, 'First Name': 'Giuseppe', 'Last Name': 'Lee', 'Email': 'giuseppe.lee@mahe.org'}, {'Contact ID': 2111, 'First Name': 'Angelica', 'Last Name': 'Cuellar', 'Email': 'angelica.cuellar@zaguri-bellucci.net'}, {'Contact ID': 5685, 'First Name': 'Bekir', 'Last Name': 'Normand', 'Email': 'bekir.normand@yahoo.de'}, {'Contact ID': 1905, 'First Name': 'Carmine', 'Last Name': 'Gonzales', 'Email': 'carmine.gonzales@schleich.net'}, {'Contact ID': 3271, 'First Name': 'Marianne', 'Last Name': 'Hubert', 'Email': 'marianne.hubert@hotmail.com'}, {'Contact ID': 4178, 'First Name': 'Gonzalo', 'Last Name': 'Montes', 'Email': 'gonzalo.montes@hotmail.com'}, {'Contact ID': 3275, 'First Name': 'Shelly', 'Last Name': 'Guichard', 'Email': 'shelly.guichard@gmail.com'}, {'Contact ID': 5713, 'First Name': 'Tobias', 'Last Name': 'Carbajal', 'Email': 'tobias.carbajal@live.com'}, {'Contact ID': 3339, 'First Name': 'Santiago', 'Last Name': 'Berry', 'Email': 'santiago.berry@aol.de'}, {'Contact ID': 5585, 'First Name': 'Emilio', 'Last Name': 'Davenport', 'Email': 'emilio.davenport@zamora-russo.net'}, {'Contact ID': 4407, 'First Name': 'Maurizio', 'Last Name': 'Gute', 'Email': 'maurizio.gute@knight.info'}, {'Contact ID': 1941, 'First Name': 'Nadia', 'Last Name': 'Travaglio', 'Email': 'nadia.travaglio@colletti-broggini.com'}, {'Contact ID': 4690, 'First Name': 'Elisa', 'Last Name': 'Barkholz', 'Email': 'elisa.barkholz@sfr.fr'}, {'Contact ID': 3607, 'First Name': 'Cristal', 'Last Name': 'Mazzini', 'Email': 'cristal.mazzini@gmail.com'}, {'Contact ID': 2670, 'First Name': 'Trevor', 'Last Name': 'Granados', 'Email': 'trevor.granados@gmail.com'}, {'Contact ID': 5261, 'First Name': 'Matthieu', 'Last Name': 'Mcdonald', 'Email': 'matthieu.mcdonald@morrison.org'}, {'Contact ID': 4121, 'First Name': 'Juliette', 'Last Name': 'Preston', 'Email': 'juliette.preston@gmail.com'}, {'Contact ID': 4620, 'First Name': 'Stanislaw', 'Last Name': 'Montalvo', 'Email': 'stanislaw.montalvo@mcpherson-hughes.info'}, {'Contact ID': 4630, 'First Name': 'Lilia', 'Last Name': 'Lollobrigida', 'Email': 'lilia.lollobrigida@le.com'}, {'Contact ID': 3440, 'First Name': 'Brigitta', 'Last Name': 'Shaw', 'Email': 'brigitta.shaw@hotmail.co.uk'}, {'Contact ID': 3572, 'First Name': 'Rebeca', 'Last Name': 'Frey', 'Email': 'rebeca.frey@gerard.fr'}, {'Contact ID': 5306, 'First Name': 'Nicolas', 'Last Name': 'Palacios', 'Email': 'nicolas.palacios@meraz.com'}, {'Contact ID': 5122, 'First Name': 'Susanna', 'Last Name': 'Bonneau', 'Email': 'susanna.bonneau@klingelhoefer.de'}, {'Contact ID': 1368, 'First Name': 'Romina', 'Last Name': 'Valentine', 'Email': 'romina.valentine@hotmail.com'}, {'Contact ID': 5370, 'First Name': 'Erika', 'Last Name': 'Toussaint', 'Email': 'erika.toussaint@sfr.fr'}, {'Contact ID': 5636, 'First Name': 'Lothar', 'Last Name': 'Laurent', 'Email': 'lothar.laurent@garcia.com.au'}, {'Contact ID': 6033, 'First Name': 'Chelsea', 'Last Name': 'Verdugo', 'Email': 'chelsea.verdugo@campbell.com'}, {'Contact ID': 3599, 'First Name': 'Ria', 'Last Name': 'Venier', 'Email': 'ria.venier@murillo-estevez.com'}, {'Contact ID': 5566, 'First Name': 'Carly', 'Last Name': 'Summers', 'Email': 'carly.summers@yahoo.co.uk'}, {'Contact ID': 1873, 'First Name': 'Pasquale', 'Last Name': 'Tomasini', 'Email': 'pasquale.tomasini@hotmail.co.uk'}, {'Contact ID': 3904, 'First Name': 'Stefani', 'Last Name': 'Ughi', 'Email': 'stefani.ughi@hotmail.it'}, {'Contact ID': 4453, 'First Name': 'Jose', 'Last Name': 'Huang', 'Email': 'jose.huang@gmx.de'}, {'Contact ID': 5481, 'First Name': 'Petros', 'Last Name': 'Gaona', 'Email': 'petros.gaona@googlemail.com'}, {'Contact ID': 2987, 'First Name': 'Maximilian', 'Last Name': 'Siering', 'Email': 'maximilian.siering@gaito-fornaciari.org'}, {'Contact ID': 2431, 'First Name': 'Ermenegildo', 'Last Name': 'Holzapfel', 'Email': 'ermenegildo.holzapfel@aol.de'}, {'Contact ID': 4158, 'First Name': 'Damien', 'Last Name': 'Leger', 'Email': 'damien.leger@dixon.biz'}, {'Contact ID': 3753, 'First Name': 'Zeferino', 'Last Name': 'Barrera', 'Email': 'zeferino.barrera@zedillo-velazquez.com'}, {'Contact ID': 4391, 'First Name': 'Alfred', 'Last Name': 'Pohl', 'Email': 'alfred.pohl@fechner.net'}, {'Contact ID': 2026, 'First Name': 'Marissa', 'Last Name': 'Gaito', 'Email': 'marissa.gaito@reed-campbell.edu'}, {'Contact ID': 4547, 'First Name': 'Ariana', 'Last Name': 'Houston', 'Email': 'ariana.houston@hotmail.it'}, {'Contact ID': 2798, 'First Name': 'Victor', 'Last Name': 'Jacobs', 'Email': 'victor.jacobs@young.com'}, {'Contact ID': 4732, 'First Name': 'Henriette', 'Last Name': 'Lang', 'Email': 'henriette.lang@mimun.it'}, {'Contact ID': 5126, 'First Name': 'Wilfriede', 'Last Name': 'Baca', 'Email': 'wilfriede.baca@caraballo.com'}, {'Contact ID': 5151, 'First Name': 'Lucia', 'Last Name': 'Riviere', 'Email': 'lucia.riviere@samaniego.biz'}, {'Contact ID': 2134, 'First Name': 'Gordon', 'Last Name': 'Vigorelli', 'Email': 'gordon.vigorelli@solano.com'}, {'Contact ID': 5786, 'First Name': 'Diethard', 'Last Name': 'Salgado', 'Email': 'diethard.salgado@gmail.com'}, {'Contact ID': 5515, 'First Name': 'Sue', 'Last Name': 'Corrales', 'Email': 'sue.corrales@cardenas-serna.org'}, {'Contact ID': 4530, 'First Name': 'Arthur', 'Last Name': 'Salazar', 'Email': 'arthur.salazar@yahoo.com.au'}, {'Contact ID': 4088, 'First Name': 'Fortunata', 'Last Name': 'Schneider', 'Email': 'fortunata.schneider@tiscali.it'}, {'Contact ID': 3667, 'First Name': 'Gretchen', 'Last Name': 'Serna', 'Email': 'gretchen.serna@pichon.org'}, {'Contact ID': 3286, 'First Name': 'Egon', 'Last Name': 'Caron', 'Email': 'egon.caron@hotmail.com'}, {'Contact ID': 4804, 'First Name': 'Roberta', 'Last Name': 'Finzi', 'Email': 'roberta.finzi@knight-davies.co.uk'}, {'Contact ID': 5768, 'First Name': 'Editha', 'Last Name': 'Savage', 'Email': 'editha.savage@davies.co.uk'}, {'Contact ID': 6098, 'First Name': 'Allan', 'Last Name': 'Emanuelli', 'Email': 'allan.emanuelli@fernandes.org'}, {'Contact ID': 2508, 'First Name': 'Laurence', 'Last Name': 'Lucero', 'Email': 'laurence.lucero@martin.org'}, {'Contact ID': 5779, 'First Name': 'Istvan', 'Last Name': 'Draghi', 'Email': 'istvan.draghi@ifrance.com'}, {'Contact ID': 1717, 'First Name': 'Luigi', 'Last Name': 'Bonnet', 'Email': 'luigi.bonnet@carriera-federico.it'}, {'Contact ID': 3368, 'First Name': 'Yuridia', 'Last Name': 'Fantozzi', 'Email': 'yuridia.fantozzi@mcdonald.com'}, {'Contact ID': 4265, 'First Name': 'Eraldo', 'Last Name': 'Schmiedt', 'Email': 'eraldo.schmiedt@hotmail.de'}, {'Contact ID': 4455, 'First Name': 'Antoinette', 'Last Name': 'Cox', 'Email': 'antoinette.cox@bustamante.com'}, {'Contact ID': 2940, 'First Name': 'Cameron', 'Last Name': 'Ocampo', 'Email': 'cameron.ocampo@hotmail.com.au'}, {'Contact ID': 6144, 'First Name': 'Lynn', 'Last Name': 'Lawson', 'Email': 'lynn.lawson@leclercq.com'}, {'Contact ID': 3657, 'First Name': 'Natalia', 'Last Name': 'Seifert', 'Email': 'natalia.seifert@ifrance.com'}, {'Contact ID': 1537, 'First Name': 'Nuray', 'Last Name': 'Anguillara', 'Email': 'nuray.anguillara@yahoo.co.uk'}, {'Contact ID': 2116, 'First Name': 'Beate', 'Last Name': 'Morgan', 'Email': 'beate.morgan@gmail.com'}, {'Contact ID': 5102, 'First Name': 'Mario', 'Last Name': 'Rees', 'Email': 'mario.rees@gmx.de'}, {'Contact ID': 5815, 'First Name': 'Galasso', 'Last Name': 'Junken', 'Email': 'galasso.junken@yahoo.co.uk'}, {'Contact ID': 4250, 'First Name': 'Luca', 'Last Name': 'Moses', 'Email': 'luca.moses@franke.de'}, {'Contact ID': 4533, 'First Name': 'Aurelio', 'Last Name': 'Gertz', 'Email': 'aurelio.gertz@hewitt.net'}, {'Contact ID': 3329, 'First Name': 'Uberto', 'Last Name': 'Steele', 'Email': 'uberto.steele@outlook.com'}, {'Contact ID': 3606, 'First Name': 'Annie', 'Last Name': 'Hunter', 'Email': 'annie.hunter@allen.co.uk'}, {'Contact ID': 4749, 'First Name': 'Jo', 'Last Name': 'Mccarty', 'Email': 'jo.mccarty@hotmail.com'}, {'Contact ID': 2222, 'First Name': 'Eitel', 'Last Name': 'Lombard', 'Email': 'eitel.lombard@thomas.net'}, {'Contact ID': 1939, 'First Name': 'Susan', 'Last Name': 'Vigliotti', 'Email': 'susan.vigliotti@yahoo.co.uk'}, {'Contact ID': 2456, 'First Name': 'Jacqueline', 'Last Name': 'Germano', 'Email': 'jacqueline.germano@valette.fr'}, {'Contact ID': 2794, 'First Name': 'Fidel', 'Last Name': 'Ruppert', 'Email': 'fidel.ruppert@yahoo.co.uk'}, {'Contact ID': 2648, 'First Name': 'Margaret', 'Last Name': 'Eigenwillig', 'Email': 'margaret.eigenwillig@yahoo.com'}, {'Contact ID': 2545, 'First Name': 'Yvette', 'Last Name': 'Harding', 'Email': 'yvette.harding@yahoo.co.uk'}, {'Contact ID': 3273, 'First Name': 'Federigo', 'Last Name': 'Karge', 'Email': 'federigo.karge@bohlander.com'}, {'Contact ID': 6155, 'First Name': 'Guenther', 'Last Name': 'Armenta', 'Email': 'guenther.armenta@free.fr'}, {'Contact ID': 6064, 'First Name': 'Coriolano', 'Last Name': 'Higgins', 'Email': 'coriolano.higgins@murphy.org.au'}, {'Contact ID': 1729, 'First Name': 'Felix', 'Last Name': 'Rubio', 'Email': 'felix.rubio@ebert.de'}, {'Contact ID': 4969, 'First Name': 'Melanie', 'Last Name': 'Leveque', 'Email': 'melanie.leveque@fleury.net'}, {'Contact ID': 3402, 'First Name': 'Abbie', 'Last Name': 'Galeati', 'Email': 'abbie.galeati@ubaldi.it'}, {'Contact ID': 2810, 'First Name': 'Vittorio', 'Last Name': 'Caccioppoli', 'Email': 'vittorio.caccioppoli@yahoo.com'}, {'Contact ID': 2217, 'First Name': 'Biagio', 'Last Name': 'Valenzuela', 'Email': 'biagio.valenzuela@robinson.info'}, {'Contact ID': 5140, 'First Name': 'Dario', 'Last Name': 'Green', 'Email': 'dario.green@live.com'}, {'Contact ID': 4497, 'First Name': 'Alwina', 'Last Name': 'Textor', 'Email': 'alwina.textor@poste.it'}, {'Contact ID': 5100, 'First Name': 'Diether', 'Last Name': 'Baeza', 'Email': 'diether.baeza@grupo.biz'}, {'Contact ID': 3390, 'First Name': 'Sole', 'Last Name': 'Trevino', 'Email': 'sole.trevino@hotmail.com'}, {'Contact ID': 1926, 'First Name': 'Darren', 'Last Name': 'Bernardi', 'Email': 'darren.bernardi@brooks-martin.com'}, {'Contact ID': 3264, 'First Name': 'Martina', 'Last Name': 'Heser', 'Email': 'martina.heser@morellato.it'}, {'Contact ID': 2573, 'First Name': 'Bethan', 'Last Name': 'Giacometti', 'Email': 'bethan.giacometti@gmail.com'}, {'Contact ID': 3628, 'First Name': 'Ethan', 'Last Name': 'Duhamel', 'Email': 'ethan.duhamel@sfr.fr'}, {'Contact ID': 3826, 'First Name': 'Corrado', 'Last Name': 'Warren', 'Email': 'corrado.warren@hotmail.com.au'}, {'Contact ID': 5983, 'First Name': 'Damian', 'Last Name': 'Pulido', 'Email': 'damian.pulido@yahoo.de'}, {'Contact ID': 5678, 'First Name': 'Dino', 'Last Name': 'Osborne', 'Email': 'dino.osborne@despacho.com'}, {'Contact ID': 2093, 'First Name': 'Nicolaus', 'Last Name': 'Bernetti', 'Email': 'nicolaus.bernetti@aol.de'}, {'Contact ID': 5333, 'First Name': 'Gianna', 'Last Name': 'Carroll', 'Email': 'gianna.carroll@perez.com'}, {'Contact ID': 5139, 'First Name': 'Grit', 'Last Name': 'Knight', 'Email': 'grit.knight@web.de'}, {'Contact ID': 3173, 'First Name': 'Erin', 'Last Name': 'Weinhold', 'Email': 'erin.weinhold@hotmail.fr'}, {'Contact ID': 3333, 'First Name': 'Craig', 'Last Name': 'Jordan', 'Email': 'craig.jordan@gmail.com'}, {'Contact ID': 2262, 'First Name': 'Homero', 'Last Name': 'Respighi', 'Email': 'homero.respighi@gmail.com'}, {'Contact ID': 1531, 'First Name': 'Fanny', 'Last Name': 'Pertile', 'Email': 'fanny.pertile@gmail.com'}, {'Contact ID': 4881, 'First Name': 'Fridolin', 'Last Name': 'Comboni', 'Email': 'fridolin.comboni@graf.com'}, {'Contact ID': 3928, 'First Name': 'Hugh', 'Last Name': 'Cantu', 'Email': 'hugh.cantu@libero.it'}, {'Contact ID': 1803, 'First Name': 'Alphons', 'Last Name': 'Simmons', 'Email': 'alphons.simmons@hotmail.com'}, {'Contact ID': 2321, 'First Name': 'Ludovico', 'Last Name': 'Cafarchia', 'Email': 'ludovico.cafarchia@gmail.com'}, {'Contact ID': 6234, 'First Name': 'Nico', 'Last Name': 'Kaiser', 'Email': 'nico.kaiser@almonte.com'}, {'Contact ID': 1422, 'First Name': 'Kirsty', 'Last Name': 'Lamy', 'Email': 'kirsty.lamy@alonzi.it'}, {'Contact ID': 2660, 'First Name': 'Joshua', 'Last Name': 'Scheibe', 'Email': 'joshua.scheibe@turci.org'}, {'Contact ID': 5361, 'First Name': 'Carin', 'Last Name': 'Pineau', 'Email': 'carin.pineau@yahoo.com'}, {'Contact ID': 3420, 'First Name': 'Ellie', 'Last Name': 'Galarza', 'Email': 'ellie.galarza@pareto-cattaneo.net'}, {'Contact ID': 4337, 'First Name': 'Marion', 'Last Name': 'Lira', 'Email': 'marion.lira@ifrance.com'}, {'Contact ID': 2338, 'First Name': 'Aurelia', 'Last Name': 'Angiolello', 'Email': 'aurelia.angiolello@lord.com'}, {'Contact ID': 4140, 'First Name': 'Maura', 'Last Name': 'Ravaglioli', 'Email': 'maura.ravaglioli@yahoo.com'}, {'Contact ID': 2373, 'First Name': 'Brunhilde', 'Last Name': 'Fletcher', 'Email': 'brunhilde.fletcher@schomber.de'}, {'Contact ID': 1344, 'First Name': 'Ottfried', 'Last Name': 'Marques', 'Email': 'ottfried.marques@tyler-watson.info'}, {'Contact ID': 2141, 'First Name': 'Christelle', 'Last Name': 'Blasi', 'Email': 'christelle.blasi@morris-chan.com'}, {'Contact ID': 3415, 'First Name': 'Augusto', 'Last Name': 'Vercelloni', 'Email': 'augusto.vercelloni@club-internet.fr'}, {'Contact ID': 5696, 'First Name': 'Michela', 'Last Name': 'Pruvost', 'Email': 'michela.pruvost@holt.co.uk'}, {'Contact ID': 1798, 'First Name': 'Guarino', 'Last Name': 'Escalante', 'Email': 'guarino.escalante@hotmail.com'}, {'Contact ID': 1657, 'First Name': 'Gabriela', 'Last Name': 'Padilla', 'Email': 'gabriela.padilla@pearson-russell.com'}, {'Contact ID': 3651, 'First Name': 'Agathe', 'Last Name': 'Dias', 'Email': 'agathe.dias@jackson.com'}, {'Contact ID': 3574, 'First Name': 'Werner', 'Last Name': 'Kallert', 'Email': 'werner.kallert@gmail.com'}, {'Contact ID': 6063, 'First Name': 'Lore', 'Last Name': 'Delaunay', 'Email': 'lore.delaunay@yahoo.com'}, {'Contact ID': 2404, 'First Name': 'Enzio', 'Last Name': 'Campos', 'Email': 'enzio.campos@tim.it'}, {'Contact ID': 2705, 'First Name': 'Walther', 'Last Name': 'Duarte', 'Email': 'walther.duarte@web.de'}, {'Contact ID': 5059, 'First Name': 'Adelgunde', 'Last Name': 'Trevisan', 'Email': 'adelgunde.trevisan@gmail.com'}, {'Contact ID': 5466, 'First Name': 'Thierry', 'Last Name': 'Schwartz', 'Email': 'thierry.schwartz@travaglio.net'}, {'Contact ID': 5821, 'First Name': 'Katie', 'Last Name': 'Andersen', 'Email': 'katie.andersen@haney.com.au'}, {'Contact ID': 5385, 'First Name': 'Kathy', 'Last Name': 'Zamorani', 'Email': 'kathy.zamorani@hotmail.com'}, {'Contact ID': 3506, 'First Name': 'Giuseppina', 'Last Name': 'Tanguy', 'Email': 'giuseppina.tanguy@wanadoo.fr'}, {'Contact ID': 5427, 'First Name': 'Jack', 'Last Name': 'Klapp', 'Email': 'jack.klapp@hotmail.com.au'}, {'Contact ID': 6142, 'First Name': 'Tom', 'Last Name': 'Leconte', 'Email': 'tom.leconte@woods-johnson.com'}, {'Contact ID': 2873, 'First Name': 'Bonnie', 'Last Name': 'Cignaroli', 'Email': 'bonnie.cignaroli@yahoo.com'}, {'Contact ID': 3916, 'First Name': 'Danny', 'Last Name': 'Farrell', 'Email': 'danny.farrell@hotmail.com'}, {'Contact ID': 1687, 'First Name': 'Fiorenzo', 'Last Name': 'Bauer', 'Email': 'fiorenzo.bauer@gmail.com'}, {'Contact ID': 1542, 'First Name': 'Randy', 'Last Name': 'Alfieri', 'Email': 'randy.alfieri@verri.org'}, {'Contact ID': 3087, 'First Name': 'Tim', 'Last Name': 'Bradley', 'Email': 'tim.bradley@schlosser.de'}, {'Contact ID': 3857, 'First Name': 'Yves', 'Last Name': 'Mendez', 'Email': 'yves.mendez@gmail.com'}, {'Contact ID': 5921, 'First Name': 'Raffaella', 'Last Name': 'Esquivel', 'Email': 'raffaella.esquivel@gmail.com'}, {'Contact ID': 3144, 'First Name': 'Lawrence', 'Last Name': 'Vasari', 'Email': 'lawrence.vasari@castillo.edu'}, {'Contact ID': 2676, 'First Name': 'Sam', 'Last Name': 'Adams', 'Email': 'sam.adams@yahoo.com'}, {'Contact ID': 3646, 'First Name': 'Mirco', 'Last Name': 'Nicolini', 'Email': 'mirco.nicolini@blin.net'}, {'Contact ID': 1321, 'First Name': 'Graham', 'Last Name': 'Bajardi', 'Email': 'graham.bajardi@yahoo.com'}, {'Contact ID': 1399, 'First Name': 'Luc', 'Last Name': 'Quinn', 'Email': 'luc.quinn@walker.com'}, {'Contact ID': 3169, 'First Name': 'Stella', 'Last Name': 'Ullrich', 'Email': 'stella.ullrich@hotmail.com.au'}, {'Contact ID': 2058, 'First Name': 'Calcedonio', 'Last Name': 'Remy', 'Email': 'calcedonio.remy@edwards-benton.com'}, {'Contact ID': 1300, 'First Name': 'Nanni', 'Last Name': 'Almaraz', 'Email': 'nanni.almaraz@martin.com'}, {'Contact ID': 2075, 'First Name': 'Pascual', 'Last Name': 'Corradi', 'Email': 'pascual.corradi@lopez.net.au'}, {'Contact ID': 2984, 'First Name': 'Kristi', 'Last Name': 'Grant', 'Email': 'kristi.grant@yahoo.co.uk'}, {'Contact ID': 4768, 'First Name': 'Manuel', 'Last Name': 'Gracia', 'Email': 'manuel.gracia@trussardi.eu'}, {'Contact ID': 3682, 'First Name': 'Gionata', 'Last Name': 'Hussain', 'Email': 'gionata.hussain@yahoo.com'}, {'Contact ID': 5901, 'First Name': 'Maria', 'Last Name': 'Nguyen', 'Email': 'maria.nguyen@hernadez.com'}, {'Contact ID': 3540, 'First Name': 'Leon', 'Last Name': 'Baker', 'Email': 'leon.baker@hotmail.com'}, {'Contact ID': 2225, 'First Name': 'Gianmarco', 'Last Name': 'Alcaraz', 'Email': 'gianmarco.alcaraz@zacchia.net'}, {'Contact ID': 1485, 'First Name': 'Derrick', 'Last Name': 'Little', 'Email': 'derrick.little@small.org'}, {'Contact ID': 5343, 'First Name': 'Terry', 'Last Name': 'Ramirez', 'Email': 'terry.ramirez@hotmail.co.uk'}, {'Contact ID': 5594, 'First Name': 'Katarina', 'Last Name': 'Clarke', 'Email': 'katarina.clarke@hotmail.com.au'}, {'Contact ID': 2482, 'First Name': 'Leila', 'Last Name': 'Washington', 'Email': 'leila.washington@gmail.com'}, {'Contact ID': 2706, 'First Name': 'Mirko', 'Last Name': 'Townsend', 'Email': 'mirko.townsend@schmitt.com'}, {'Contact ID': 4861, 'First Name': 'Randall', 'Last Name': 'Connolly', 'Email': 'randall.connolly@jovinelli-castelli.com'}, {'Contact ID': 2961, 'First Name': 'Pia', 'Last Name': 'Burgess', 'Email': 'pia.burgess@proyectos.org'}, {'Contact ID': 3043, 'First Name': 'Justine', 'Last Name': 'Mancini', 'Email': 'justine.mancini@tiscali.it'}, {'Contact ID': 6103, 'First Name': 'Reynaldo', 'Last Name': 'Wagenknecht', 'Email': 'reynaldo.wagenknecht@faure.com'}, {'Contact ID': 4708, 'First Name': 'Toni', 'Last Name': 'Magrassi', 'Email': 'toni.magrassi@gmail.com'}, {'Contact ID': 4395, 'First Name': 'Patrizio', 'Last Name': 'Cisneros', 'Email': 'patrizio.cisneros@martinez.edu.au'}, {'Contact ID': 4912, 'First Name': 'Durante', 'Last Name': 'Lindner', 'Email': 'durante.lindner@picard.fr'}, {'Contact ID': 2030, 'First Name': 'Rosl', 'Last Name': 'Lamborghini', 'Email': 'rosl.lamborghini@hiller.net'}, {'Contact ID': 5235, 'First Name': 'Ugo', 'Last Name': 'Harrison', 'Email': 'ugo.harrison@morley-chapman.co.uk'}, {'Contact ID': 5001, 'First Name': 'Isidor', 'Last Name': 'Carpenter', 'Email': 'isidor.carpenter@chauvin.com'}, {'Contact ID': 4093, 'First Name': 'Marie', 'Last Name': 'Zoppetto', 'Email': 'marie.zoppetto@kallert.de'}, {'Contact ID': 2576, 'First Name': 'Branko', 'Last Name': 'Chambers', 'Email': 'branko.chambers@ifrance.com'}, {'Contact ID': 6122, 'First Name': 'Alan', 'Last Name': 'Pineda', 'Email': 'alan.pineda@proyectos.info'}, {'Contact ID': 2813, 'First Name': 'Carmen', 'Last Name': 'Oestrovsky', 'Email': 'carmen.oestrovsky@gmail.com'}, {'Contact ID': 3737, 'First Name': 'Shane', 'Last Name': 'Fernandez', 'Email': 'shane.fernandez@hotmail.de'}, {'Contact ID': 2803, 'First Name': 'Debbie', 'Last Name': 'Guilbert', 'Email': 'debbie.guilbert@berg.edu'}, {'Contact ID': 5508, 'First Name': 'Vito', 'Last Name': 'Dossi', 'Email': 'vito.dossi@hotmail.co.uk'}, {'Contact ID': 3850, 'First Name': 'Evan', 'Last Name': 'Schacht', 'Email': 'evan.schacht@price.com'}, {'Contact ID': 4220, 'First Name': 'Mandy', 'Last Name': 'Weston', 'Email': 'mandy.weston@free.fr'}, {'Contact ID': 4532, 'First Name': 'Paulo', 'Last Name': 'Zito', 'Email': 'paulo.zito@nelson.biz'}, {'Contact ID': 6013, 'First Name': 'Alberto', 'Last Name': 'Girschner', 'Email': 'alberto.girschner@laboratorios.com'}, {'Contact ID': 3396, 'First Name': 'Giacomo', 'Last Name': 'Bouvet', 'Email': 'giacomo.bouvet@gmail.com'}, {'Contact ID': 4401, 'First Name': 'Ehrentraud', 'Last Name': 'Puga', 'Email': 'ehrentraud.puga@laboratorios.com'}, {'Contact ID': 2981, 'First Name': 'Cristian', 'Last Name': 'Hale', 'Email': 'cristian.hale@hotmail.co.uk'}, {'Contact ID': 4467, 'First Name': 'Lilija', 'Last Name': 'Charles', 'Email': 'lilija.charles@gmail.com'}, {'Contact ID': 1377, 'First Name': 'Albert', 'Last Name': 'Legendre', 'Email': 'albert.legendre@lee.com'}, {'Contact ID': 5036, 'First Name': 'Marisa', 'Last Name': 'Renaud', 'Email': 'marisa.renaud@smith.org'}, {'Contact ID': 5761, 'First Name': 'Sharon', 'Last Name': 'Diallo', 'Email': 'sharon.diallo@gmail.com'}, {'Contact ID': 3699, 'First Name': 'Eduardo', 'Last Name': 'Delattre', 'Email': 'eduardo.delattre@lynch.net.au'}, {'Contact ID': 4519, 'First Name': 'Bernadette', 'Last Name': 'Wang', 'Email': 'bernadette.wang@gmail.com'}, {'Contact ID': 5395, 'First Name': 'Dina', 'Last Name': 'Gibbons', 'Email': 'dina.gibbons@brewer.net'}, {'Contact ID': 3057, 'First Name': 'Clara', 'Last Name': 'Armstrong', 'Email': 'clara.armstrong@vodafone.it'}, {'Contact ID': 2741, 'First Name': 'Elliott', 'Last Name': 'Herrmann', 'Email': 'elliott.herrmann@hotmail.com.au'}, {'Contact ID': 1675, 'First Name': 'Graziella', 'Last Name': 'Vidal', 'Email': 'graziella.vidal@hotmail.com'}, {'Contact ID': 2712, 'First Name': 'Francisca', 'Last Name': 'Becerra', 'Email': 'francisca.becerra@young.com.au'}, {'Contact ID': 4527, 'First Name': 'Edeltrud', 'Last Name': 'Boyer', 'Email': 'edeltrud.boyer@outlook.com'}, {'Contact ID': 1722, 'First Name': 'Julian', 'Last Name': 'Noble', 'Email': 'julian.noble@hill.org.au'}, {'Contact ID': 4330, 'First Name': 'Christophe', 'Last Name': 'Bohnbach', 'Email': 'christophe.bohnbach@ifrance.com'}, {'Contact ID': 5219, 'First Name': 'Ippazio', 'Last Name': 'Angulo', 'Email': 'ippazio.angulo@yahoo.com'}, {'Contact ID': 4997, 'First Name': 'Grace', 'Last Name': 'Kroker', 'Email': 'grace.kroker@hotmail.com'}, {'Contact ID': 2239, 'First Name': 'Jared', 'Last Name': 'Ferguson', 'Email': 'jared.ferguson@roberts.com'}, {'Contact ID': 4587, 'First Name': 'Virginie', 'Last Name': 'McLean', 'Email': 'virginie.mclean@yahoo.com'}, {'Contact ID': 4113, 'First Name': 'Mason', 'Last Name': 'Potter', 'Email': 'mason.potter@gmail.com'}, {'Contact ID': 4762, 'First Name': 'Aaron', 'Last Name': 'Anaya', 'Email': 'aaron.anaya@hotmail.com.au'}, {'Contact ID': 5242, 'First Name': 'Leah', 'Last Name': 'Ornelas', 'Email': 'leah.ornelas@gmail.com'}, {'Contact ID': 5765, 'First Name': 'Harald', 'Last Name': 'Roy', 'Email': 'harald.roy@web.de'}, {'Contact ID': 2185, 'First Name': 'Micaela', 'Last Name': 'Martel', 'Email': 'micaela.martel@hotmail.com'}, {'Contact ID': 5500, 'First Name': 'Vincentio', 'Last Name': 'Sanders', 'Email': 'vincentio.sanders@voila.fr'}, {'Contact ID': 3494, 'First Name': 'Bettina', 'Last Name': 'Norbiato', 'Email': 'bettina.norbiato@allen-lutz.org'}, {'Contact ID': 3924, 'First Name': 'Julio', 'Last Name': 'Renner', 'Email': 'julio.renner@industrias.net'}, {'Contact ID': 3521, 'First Name': 'Jelena', 'Last Name': 'Stiffel', 'Email': 'jelena.stiffel@trupp.de'}, {'Contact ID': 5262, 'First Name': 'Guadalupe', 'Last Name': 'Munoz', 'Email': 'guadalupe.munoz@murray-hamilton.com.au'}, {'Contact ID': 3684, 'First Name': 'Whitney', 'Last Name': 'Noack', 'Email': 'whitney.noack@laboratorios.org'}, {'Contact ID': 5784, 'First Name': 'Gelsomina', 'Last Name': 'Migliaccio', 'Email': 'gelsomina.migliaccio@junk.com'}, {'Contact ID': 1498, 'First Name': 'Evangelista', 'Last Name': 'Pereira', 'Email': 'evangelista.pereira@thompson-peterson.biz'}, {'Contact ID': 6073, 'First Name': 'Gareth', 'Last Name': 'Comolli', 'Email': 'gareth.comolli@tiscali.fr'}, {'Contact ID': 4939, 'First Name': 'Michelangelo', 'Last Name': 'Hess', 'Email': 'michelangelo.hess@bouygtel.fr'}]\n"
     ]
    }
   ],
   "source": [
    "# Iterate through the contact_info_df and convert each row to a dictionary.\n",
    "import json\n",
    "dict_values = []\n",
    "\n",
    "for index, row in contact_info_df.iterrows():\n",
    "    contact_dict = {\n",
    "        \"Contact ID\": row[\"contact_id\"],\n",
    "        \"First Name\": row[\"first_name\"],\n",
    "        \"Last Name\": row[\"last_name\"],\n",
    "        \"Email\": row[\"email\"]\n",
    "    }\n",
    "    dict_values.append(contact_dict)\n",
    "\n",
    "# Print out the list of values for each row.\n",
    "print(dict_values)"
   ]
  },
  {
   "cell_type": "code",
   "execution_count": 32,
   "metadata": {
    "tags": [],
    "ExecuteTime": {
     "end_time": "2023-10-15T04:02:25.248849300Z",
     "start_time": "2023-10-15T04:02:24.930326100Z"
    }
   },
   "outputs": [
    {
     "name": "stdout",
     "output_type": "stream",
     "text": [
      "parsed_data    object\n",
      "contact_id      int64\n",
      "email          object\n",
      "first_name     object\n",
      "last_name      object\n",
      "dtype: object\n"
     ]
    }
   ],
   "source": [
    "# Check the datatypes.\n",
    "data_types = contact_info_df.dtypes\n",
    "print(data_types)"
   ]
  },
  {
   "cell_type": "code",
   "execution_count": 33,
   "metadata": {
    "tags": [],
    "ExecuteTime": {
     "end_time": "2023-10-15T04:02:25.274801100Z",
     "start_time": "2023-10-15T04:02:24.935385100Z"
    }
   },
   "outputs": [
    {
     "data": {
      "text/plain": "    contact_id first_name last_name                         email\n1         4661    Cecilia   Velasco  cecilia.velasco@rodrigues.fr\n2         3765    Mariana     Ellis       mariana.ellis@rossi.org\n3         4187      Sofie     Woods       sofie.woods@riviere.com\n4         4941   Jeanette  Iannotti   jeanette.iannotti@yahoo.com\n5         2199     Samuel   Sorgatz      samuel.sorgatz@gmail.com\n6         5650    Socorro      Luna      socorro.luna@hotmail.com\n7         5889   Carolina    Murray    carolina.murray@knight.com\n8         4842      Kayla      Moon           kayla.moon@yahoo.de\n9         3280    Ariadna    Geisel     ariadna.geisel@rangel.com\n10        5468   Danielle    Ladeck  danielle.ladeck@scalfaro.net",
      "text/html": "<div>\n<style scoped>\n    .dataframe tbody tr th:only-of-type {\n        vertical-align: middle;\n    }\n\n    .dataframe tbody tr th {\n        vertical-align: top;\n    }\n\n    .dataframe thead th {\n        text-align: right;\n    }\n</style>\n<table border=\"1\" class=\"dataframe\">\n  <thead>\n    <tr style=\"text-align: right;\">\n      <th></th>\n      <th>contact_id</th>\n      <th>first_name</th>\n      <th>last_name</th>\n      <th>email</th>\n    </tr>\n  </thead>\n  <tbody>\n    <tr>\n      <th>1</th>\n      <td>4661</td>\n      <td>Cecilia</td>\n      <td>Velasco</td>\n      <td>cecilia.velasco@rodrigues.fr</td>\n    </tr>\n    <tr>\n      <th>2</th>\n      <td>3765</td>\n      <td>Mariana</td>\n      <td>Ellis</td>\n      <td>mariana.ellis@rossi.org</td>\n    </tr>\n    <tr>\n      <th>3</th>\n      <td>4187</td>\n      <td>Sofie</td>\n      <td>Woods</td>\n      <td>sofie.woods@riviere.com</td>\n    </tr>\n    <tr>\n      <th>4</th>\n      <td>4941</td>\n      <td>Jeanette</td>\n      <td>Iannotti</td>\n      <td>jeanette.iannotti@yahoo.com</td>\n    </tr>\n    <tr>\n      <th>5</th>\n      <td>2199</td>\n      <td>Samuel</td>\n      <td>Sorgatz</td>\n      <td>samuel.sorgatz@gmail.com</td>\n    </tr>\n    <tr>\n      <th>6</th>\n      <td>5650</td>\n      <td>Socorro</td>\n      <td>Luna</td>\n      <td>socorro.luna@hotmail.com</td>\n    </tr>\n    <tr>\n      <th>7</th>\n      <td>5889</td>\n      <td>Carolina</td>\n      <td>Murray</td>\n      <td>carolina.murray@knight.com</td>\n    </tr>\n    <tr>\n      <th>8</th>\n      <td>4842</td>\n      <td>Kayla</td>\n      <td>Moon</td>\n      <td>kayla.moon@yahoo.de</td>\n    </tr>\n    <tr>\n      <th>9</th>\n      <td>3280</td>\n      <td>Ariadna</td>\n      <td>Geisel</td>\n      <td>ariadna.geisel@rangel.com</td>\n    </tr>\n    <tr>\n      <th>10</th>\n      <td>5468</td>\n      <td>Danielle</td>\n      <td>Ladeck</td>\n      <td>danielle.ladeck@scalfaro.net</td>\n    </tr>\n  </tbody>\n</table>\n</div>"
     },
     "execution_count": 33,
     "metadata": {},
     "output_type": "execute_result"
    }
   ],
   "source": [
    "# Reorder the columns\n",
    "contacts_df_clean = contact_info_df[['contact_id', 'first_name', 'last_name', 'email']]\n",
    "contacts_df_clean.head(10)"
   ]
  },
  {
   "cell_type": "code",
   "execution_count": 34,
   "metadata": {
    "tags": [],
    "ExecuteTime": {
     "end_time": "2023-10-15T04:02:25.297793Z",
     "start_time": "2023-10-15T04:02:24.942886500Z"
    }
   },
   "outputs": [
    {
     "name": "stdout",
     "output_type": "stream",
     "text": [
      "contact_id     int64\n",
      "first_name    object\n",
      "last_name     object\n",
      "email         object\n",
      "dtype: object\n"
     ]
    }
   ],
   "source": [
    "# Check the datatypes one more time before exporting as CSV file.\n",
    "data_types = contacts_df_clean.dtypes\n",
    "print(data_types)"
   ]
  },
  {
   "cell_type": "code",
   "execution_count": 35,
   "metadata": {
    "tags": [],
    "ExecuteTime": {
     "end_time": "2023-10-15T04:02:25.297793Z",
     "start_time": "2023-10-15T04:02:24.946768600Z"
    }
   },
   "outputs": [],
   "source": [
    "# Export the DataFrame as a CSV file. \n",
    "contacts_df_clean.to_csv(\"Resources/contacts.csv\", encoding='utf8', index=False)"
   ]
  },
  {
   "cell_type": "markdown",
   "metadata": {},
   "source": [
    "### Option 2: Use regex to create the contacts DataFrame."
   ]
  },
  {
   "cell_type": "code",
   "execution_count": 36,
   "metadata": {
    "tags": [],
    "ExecuteTime": {
     "end_time": "2023-10-15T04:02:25.298792500Z",
     "start_time": "2023-10-15T04:02:24.951172800Z"
    }
   },
   "outputs": [
    {
     "data": {
      "text/plain": "                                                                                            \n0                                                                               contact_info\n1   {\"contact_id\": 4661, \"name\": \"Cecilia Velasco\", \"email\": \"cecilia.velasco@rodrigues.fr\"}\n2          {\"contact_id\": 3765, \"name\": \"Mariana Ellis\", \"email\": \"mariana.ellis@rossi.org\"}\n3            {\"contact_id\": 4187, \"name\": \"Sofie Woods\", \"email\": \"sofie.woods@riviere.com\"}\n4  {\"contact_id\": 4941, \"name\": \"Jeanette Iannotti\", \"email\": \"jeanette.iannotti@yahoo.com\"}",
      "text/html": "<div>\n<style scoped>\n    .dataframe tbody tr th:only-of-type {\n        vertical-align: middle;\n    }\n\n    .dataframe tbody tr th {\n        vertical-align: top;\n    }\n\n    .dataframe thead th {\n        text-align: right;\n    }\n</style>\n<table border=\"1\" class=\"dataframe\">\n  <thead>\n    <tr style=\"text-align: right;\">\n      <th></th>\n      <th></th>\n    </tr>\n  </thead>\n  <tbody>\n    <tr>\n      <th>0</th>\n      <td>contact_info</td>\n    </tr>\n    <tr>\n      <th>1</th>\n      <td>{\"contact_id\": 4661, \"name\": \"Cecilia Velasco\", \"email\": \"cecilia.velasco@rodrigues.fr\"}</td>\n    </tr>\n    <tr>\n      <th>2</th>\n      <td>{\"contact_id\": 3765, \"name\": \"Mariana Ellis\", \"email\": \"mariana.ellis@rossi.org\"}</td>\n    </tr>\n    <tr>\n      <th>3</th>\n      <td>{\"contact_id\": 4187, \"name\": \"Sofie Woods\", \"email\": \"sofie.woods@riviere.com\"}</td>\n    </tr>\n    <tr>\n      <th>4</th>\n      <td>{\"contact_id\": 4941, \"name\": \"Jeanette Iannotti\", \"email\": \"jeanette.iannotti@yahoo.com\"}</td>\n    </tr>\n  </tbody>\n</table>\n</div>"
     },
     "execution_count": 36,
     "metadata": {},
     "output_type": "execute_result"
    }
   ],
   "source": [
    "contact_info_df_copy = pd.read_excel('Resources/contacts.xlsx', header=2)\n",
    "contact_info_df_copy.head()"
   ]
  },
  {
   "cell_type": "code",
   "execution_count": 37,
   "metadata": {
    "ExecuteTime": {
     "end_time": "2023-10-15T04:02:25.298792500Z",
     "start_time": "2023-10-15T04:02:24.979605800Z"
    }
   },
   "outputs": [
    {
     "name": "stderr",
     "output_type": "stream",
     "text": [
      "<>:3: SyntaxWarning: invalid escape sequence '\\d'\n",
      "<>:3: SyntaxWarning: invalid escape sequence '\\d'\n",
      "C:\\Users\\DeePra\\AppData\\Local\\Temp\\ipykernel_6008\\2776036932.py:3: SyntaxWarning: invalid escape sequence '\\d'\n",
      "  contact_info_df_copy['contact_id'] = contact_info_df_copy['   '].iloc[1:].str.extract(pat = '(\\d{4})')[0]\n"
     ]
    },
    {
     "data": {
      "text/plain": "                                                                                              \\\n1   {\"contact_id\": 4661, \"name\": \"Cecilia Velasco\", \"email\": \"cecilia.velasco@rodrigues.fr\"}   \n2          {\"contact_id\": 3765, \"name\": \"Mariana Ellis\", \"email\": \"mariana.ellis@rossi.org\"}   \n3            {\"contact_id\": 4187, \"name\": \"Sofie Woods\", \"email\": \"sofie.woods@riviere.com\"}   \n4  {\"contact_id\": 4941, \"name\": \"Jeanette Iannotti\", \"email\": \"jeanette.iannotti@yahoo.com\"}   \n5        {\"contact_id\": 2199, \"name\": \"Samuel Sorgatz\", \"email\": \"samuel.sorgatz@gmail.com\"}   \n\n  contact_id  \n1       4661  \n2       3765  \n3       4187  \n4       4941  \n5       2199  ",
      "text/html": "<div>\n<style scoped>\n    .dataframe tbody tr th:only-of-type {\n        vertical-align: middle;\n    }\n\n    .dataframe tbody tr th {\n        vertical-align: top;\n    }\n\n    .dataframe thead th {\n        text-align: right;\n    }\n</style>\n<table border=\"1\" class=\"dataframe\">\n  <thead>\n    <tr style=\"text-align: right;\">\n      <th></th>\n      <th></th>\n      <th>contact_id</th>\n    </tr>\n  </thead>\n  <tbody>\n    <tr>\n      <th>1</th>\n      <td>{\"contact_id\": 4661, \"name\": \"Cecilia Velasco\", \"email\": \"cecilia.velasco@rodrigues.fr\"}</td>\n      <td>4661</td>\n    </tr>\n    <tr>\n      <th>2</th>\n      <td>{\"contact_id\": 3765, \"name\": \"Mariana Ellis\", \"email\": \"mariana.ellis@rossi.org\"}</td>\n      <td>3765</td>\n    </tr>\n    <tr>\n      <th>3</th>\n      <td>{\"contact_id\": 4187, \"name\": \"Sofie Woods\", \"email\": \"sofie.woods@riviere.com\"}</td>\n      <td>4187</td>\n    </tr>\n    <tr>\n      <th>4</th>\n      <td>{\"contact_id\": 4941, \"name\": \"Jeanette Iannotti\", \"email\": \"jeanette.iannotti@yahoo.com\"}</td>\n      <td>4941</td>\n    </tr>\n    <tr>\n      <th>5</th>\n      <td>{\"contact_id\": 2199, \"name\": \"Samuel Sorgatz\", \"email\": \"samuel.sorgatz@gmail.com\"}</td>\n      <td>2199</td>\n    </tr>\n  </tbody>\n</table>\n</div>"
     },
     "execution_count": 37,
     "metadata": {},
     "output_type": "execute_result"
    }
   ],
   "source": [
    "# Extract the four-digit contact ID number.\n",
    "contact_info_df_copy.column = \"contact_info\"\n",
    "contact_info_df_copy['contact_id'] = contact_info_df_copy['   '].iloc[1:].str.extract(pat = '(\\d{4})')[0]\n",
    "contact_info_df_copy = contact_info_df_copy[1:]\n",
    "contact_info_df_copy.head()"
   ]
  },
  {
   "cell_type": "code",
   "execution_count": 38,
   "metadata": {
    "ExecuteTime": {
     "end_time": "2023-10-15T04:02:25.299791900Z",
     "start_time": "2023-10-15T04:02:24.989812900Z"
    }
   },
   "outputs": [
    {
     "name": "stdout",
     "output_type": "stream",
     "text": [
      "<class 'pandas.core.frame.DataFrame'>\n",
      "RangeIndex: 1000 entries, 1 to 1000\n",
      "Data columns (total 2 columns):\n",
      " #   Column        Non-Null Count  Dtype \n",
      "---  ------        --------------  ----- \n",
      " 0   contact_info  1000 non-null   object\n",
      " 1   contact_id    1000 non-null   object\n",
      "dtypes: object(2)\n",
      "memory usage: 15.8+ KB\n"
     ]
    }
   ],
   "source": [
    "# Check the datatypes.\n",
    "contact_info_df_copy.columns = [\"contact_info\", \"contact_id\"]\n",
    "contact_info_df_copy.info()"
   ]
  },
  {
   "cell_type": "code",
   "execution_count": 39,
   "metadata": {
    "ExecuteTime": {
     "end_time": "2023-10-15T04:02:25.299791900Z",
     "start_time": "2023-10-15T04:02:24.995937200Z"
    }
   },
   "outputs": [
    {
     "name": "stdout",
     "output_type": "stream",
     "text": [
      "<class 'pandas.core.frame.DataFrame'>\n",
      "RangeIndex: 1000 entries, 1 to 1000\n",
      "Data columns (total 2 columns):\n",
      " #   Column        Non-Null Count  Dtype \n",
      "---  ------        --------------  ----- \n",
      " 0   contact_info  1000 non-null   object\n",
      " 1   contact_id    1000 non-null   int64 \n",
      "dtypes: int64(1), object(1)\n",
      "memory usage: 15.8+ KB\n"
     ]
    }
   ],
   "source": [
    "# Convert the \"contact_id\" column to an int64 data type.\n",
    "contact_info_df_copy['contact_id'] = contact_info_df_copy['contact_id'].astype('int64', copy=None, errors='raise')\n",
    "contact_info_df_copy.info()"
   ]
  },
  {
   "cell_type": "code",
   "execution_count": 40,
   "metadata": {
    "ExecuteTime": {
     "end_time": "2023-10-15T04:02:25.299791900Z",
     "start_time": "2023-10-15T04:02:25.001330400Z"
    }
   },
   "outputs": [
    {
     "name": "stderr",
     "output_type": "stream",
     "text": [
      "<>:2: SyntaxWarning: invalid escape sequence '\\s'\n",
      "<>:2: SyntaxWarning: invalid escape sequence '\\s'\n",
      "C:\\Users\\DeePra\\AppData\\Local\\Temp\\ipykernel_6008\\4119258418.py:2: SyntaxWarning: invalid escape sequence '\\s'\n",
      "  contact_info_df_copy['name'] = contact_info_df_copy['contact_info'].str.extract(pat = '([^name\"\\s][A-Za-z]+\\s+[A-Za-z]+)')\n"
     ]
    },
    {
     "data": {
      "text/plain": "                                                                                 contact_info  \\\n1    {\"contact_id\": 4661, \"name\": \"Cecilia Velasco\", \"email\": \"cecilia.velasco@rodrigues.fr\"}   \n2           {\"contact_id\": 3765, \"name\": \"Mariana Ellis\", \"email\": \"mariana.ellis@rossi.org\"}   \n3             {\"contact_id\": 4187, \"name\": \"Sofie Woods\", \"email\": \"sofie.woods@riviere.com\"}   \n4   {\"contact_id\": 4941, \"name\": \"Jeanette Iannotti\", \"email\": \"jeanette.iannotti@yahoo.com\"}   \n5         {\"contact_id\": 2199, \"name\": \"Samuel Sorgatz\", \"email\": \"samuel.sorgatz@gmail.com\"}   \n6           {\"contact_id\": 5650, \"name\": \"Socorro Luna\", \"email\": \"socorro.luna@hotmail.com\"}   \n7      {\"contact_id\": 5889, \"name\": \"Carolina Murray\", \"email\": \"carolina.murray@knight.com\"}   \n8                  {\"contact_id\": 4842, \"name\": \"Kayla Moon\", \"email\": \"kayla.moon@yahoo.de\"}   \n9        {\"contact_id\": 3280, \"name\": \"Ariadna Geisel\", \"email\": \"ariadna.geisel@rangel.com\"}   \n10   {\"contact_id\": 5468, \"name\": \"Danielle Ladeck\", \"email\": \"danielle.ladeck@scalfaro.net\"}   \n\n    contact_id               name  \n1         4661    Cecilia Velasco  \n2         3765      Mariana Ellis  \n3         4187        Sofie Woods  \n4         4941  Jeanette Iannotti  \n5         2199     Samuel Sorgatz  \n6         5650       Socorro Luna  \n7         5889    Carolina Murray  \n8         4842         Kayla Moon  \n9         3280     Ariadna Geisel  \n10        5468    Danielle Ladeck  ",
      "text/html": "<div>\n<style scoped>\n    .dataframe tbody tr th:only-of-type {\n        vertical-align: middle;\n    }\n\n    .dataframe tbody tr th {\n        vertical-align: top;\n    }\n\n    .dataframe thead th {\n        text-align: right;\n    }\n</style>\n<table border=\"1\" class=\"dataframe\">\n  <thead>\n    <tr style=\"text-align: right;\">\n      <th></th>\n      <th>contact_info</th>\n      <th>contact_id</th>\n      <th>name</th>\n    </tr>\n  </thead>\n  <tbody>\n    <tr>\n      <th>1</th>\n      <td>{\"contact_id\": 4661, \"name\": \"Cecilia Velasco\", \"email\": \"cecilia.velasco@rodrigues.fr\"}</td>\n      <td>4661</td>\n      <td>Cecilia Velasco</td>\n    </tr>\n    <tr>\n      <th>2</th>\n      <td>{\"contact_id\": 3765, \"name\": \"Mariana Ellis\", \"email\": \"mariana.ellis@rossi.org\"}</td>\n      <td>3765</td>\n      <td>Mariana Ellis</td>\n    </tr>\n    <tr>\n      <th>3</th>\n      <td>{\"contact_id\": 4187, \"name\": \"Sofie Woods\", \"email\": \"sofie.woods@riviere.com\"}</td>\n      <td>4187</td>\n      <td>Sofie Woods</td>\n    </tr>\n    <tr>\n      <th>4</th>\n      <td>{\"contact_id\": 4941, \"name\": \"Jeanette Iannotti\", \"email\": \"jeanette.iannotti@yahoo.com\"}</td>\n      <td>4941</td>\n      <td>Jeanette Iannotti</td>\n    </tr>\n    <tr>\n      <th>5</th>\n      <td>{\"contact_id\": 2199, \"name\": \"Samuel Sorgatz\", \"email\": \"samuel.sorgatz@gmail.com\"}</td>\n      <td>2199</td>\n      <td>Samuel Sorgatz</td>\n    </tr>\n    <tr>\n      <th>6</th>\n      <td>{\"contact_id\": 5650, \"name\": \"Socorro Luna\", \"email\": \"socorro.luna@hotmail.com\"}</td>\n      <td>5650</td>\n      <td>Socorro Luna</td>\n    </tr>\n    <tr>\n      <th>7</th>\n      <td>{\"contact_id\": 5889, \"name\": \"Carolina Murray\", \"email\": \"carolina.murray@knight.com\"}</td>\n      <td>5889</td>\n      <td>Carolina Murray</td>\n    </tr>\n    <tr>\n      <th>8</th>\n      <td>{\"contact_id\": 4842, \"name\": \"Kayla Moon\", \"email\": \"kayla.moon@yahoo.de\"}</td>\n      <td>4842</td>\n      <td>Kayla Moon</td>\n    </tr>\n    <tr>\n      <th>9</th>\n      <td>{\"contact_id\": 3280, \"name\": \"Ariadna Geisel\", \"email\": \"ariadna.geisel@rangel.com\"}</td>\n      <td>3280</td>\n      <td>Ariadna Geisel</td>\n    </tr>\n    <tr>\n      <th>10</th>\n      <td>{\"contact_id\": 5468, \"name\": \"Danielle Ladeck\", \"email\": \"danielle.ladeck@scalfaro.net\"}</td>\n      <td>5468</td>\n      <td>Danielle Ladeck</td>\n    </tr>\n  </tbody>\n</table>\n</div>"
     },
     "execution_count": 40,
     "metadata": {},
     "output_type": "execute_result"
    }
   ],
   "source": [
    "# Extract the name of the contact and add it to a new column.\n",
    "contact_info_df_copy['name'] = contact_info_df_copy['contact_info'].str.extract(pat = '([^name\"\\s][A-Za-z]+\\s+[A-Za-z]+)')\n",
    "contact_info_df_copy.head(10)"
   ]
  },
  {
   "cell_type": "code",
   "execution_count": 41,
   "metadata": {
    "ExecuteTime": {
     "end_time": "2023-10-15T04:02:25.299791900Z",
     "start_time": "2023-10-15T04:02:25.012391Z"
    }
   },
   "outputs": [
    {
     "name": "stderr",
     "output_type": "stream",
     "text": [
      "<>:2: SyntaxWarning: invalid escape sequence '\\S'\n",
      "<>:2: SyntaxWarning: invalid escape sequence '\\S'\n",
      "C:\\Users\\DeePra\\AppData\\Local\\Temp\\ipykernel_6008\\1013646873.py:2: SyntaxWarning: invalid escape sequence '\\S'\n",
      "  contact_info_df_copy['email'] = contact_info_df_copy['contact_info'].str.extract(pat = '\"(\\S+@\\S+)\"')\n"
     ]
    },
    {
     "data": {
      "text/plain": "                                                                                 contact_info  \\\n1    {\"contact_id\": 4661, \"name\": \"Cecilia Velasco\", \"email\": \"cecilia.velasco@rodrigues.fr\"}   \n2           {\"contact_id\": 3765, \"name\": \"Mariana Ellis\", \"email\": \"mariana.ellis@rossi.org\"}   \n3             {\"contact_id\": 4187, \"name\": \"Sofie Woods\", \"email\": \"sofie.woods@riviere.com\"}   \n4   {\"contact_id\": 4941, \"name\": \"Jeanette Iannotti\", \"email\": \"jeanette.iannotti@yahoo.com\"}   \n5         {\"contact_id\": 2199, \"name\": \"Samuel Sorgatz\", \"email\": \"samuel.sorgatz@gmail.com\"}   \n6           {\"contact_id\": 5650, \"name\": \"Socorro Luna\", \"email\": \"socorro.luna@hotmail.com\"}   \n7      {\"contact_id\": 5889, \"name\": \"Carolina Murray\", \"email\": \"carolina.murray@knight.com\"}   \n8                  {\"contact_id\": 4842, \"name\": \"Kayla Moon\", \"email\": \"kayla.moon@yahoo.de\"}   \n9        {\"contact_id\": 3280, \"name\": \"Ariadna Geisel\", \"email\": \"ariadna.geisel@rangel.com\"}   \n10   {\"contact_id\": 5468, \"name\": \"Danielle Ladeck\", \"email\": \"danielle.ladeck@scalfaro.net\"}   \n\n    contact_id               name                         email  \n1         4661    Cecilia Velasco  cecilia.velasco@rodrigues.fr  \n2         3765      Mariana Ellis       mariana.ellis@rossi.org  \n3         4187        Sofie Woods       sofie.woods@riviere.com  \n4         4941  Jeanette Iannotti   jeanette.iannotti@yahoo.com  \n5         2199     Samuel Sorgatz      samuel.sorgatz@gmail.com  \n6         5650       Socorro Luna      socorro.luna@hotmail.com  \n7         5889    Carolina Murray    carolina.murray@knight.com  \n8         4842         Kayla Moon           kayla.moon@yahoo.de  \n9         3280     Ariadna Geisel     ariadna.geisel@rangel.com  \n10        5468    Danielle Ladeck  danielle.ladeck@scalfaro.net  ",
      "text/html": "<div>\n<style scoped>\n    .dataframe tbody tr th:only-of-type {\n        vertical-align: middle;\n    }\n\n    .dataframe tbody tr th {\n        vertical-align: top;\n    }\n\n    .dataframe thead th {\n        text-align: right;\n    }\n</style>\n<table border=\"1\" class=\"dataframe\">\n  <thead>\n    <tr style=\"text-align: right;\">\n      <th></th>\n      <th>contact_info</th>\n      <th>contact_id</th>\n      <th>name</th>\n      <th>email</th>\n    </tr>\n  </thead>\n  <tbody>\n    <tr>\n      <th>1</th>\n      <td>{\"contact_id\": 4661, \"name\": \"Cecilia Velasco\", \"email\": \"cecilia.velasco@rodrigues.fr\"}</td>\n      <td>4661</td>\n      <td>Cecilia Velasco</td>\n      <td>cecilia.velasco@rodrigues.fr</td>\n    </tr>\n    <tr>\n      <th>2</th>\n      <td>{\"contact_id\": 3765, \"name\": \"Mariana Ellis\", \"email\": \"mariana.ellis@rossi.org\"}</td>\n      <td>3765</td>\n      <td>Mariana Ellis</td>\n      <td>mariana.ellis@rossi.org</td>\n    </tr>\n    <tr>\n      <th>3</th>\n      <td>{\"contact_id\": 4187, \"name\": \"Sofie Woods\", \"email\": \"sofie.woods@riviere.com\"}</td>\n      <td>4187</td>\n      <td>Sofie Woods</td>\n      <td>sofie.woods@riviere.com</td>\n    </tr>\n    <tr>\n      <th>4</th>\n      <td>{\"contact_id\": 4941, \"name\": \"Jeanette Iannotti\", \"email\": \"jeanette.iannotti@yahoo.com\"}</td>\n      <td>4941</td>\n      <td>Jeanette Iannotti</td>\n      <td>jeanette.iannotti@yahoo.com</td>\n    </tr>\n    <tr>\n      <th>5</th>\n      <td>{\"contact_id\": 2199, \"name\": \"Samuel Sorgatz\", \"email\": \"samuel.sorgatz@gmail.com\"}</td>\n      <td>2199</td>\n      <td>Samuel Sorgatz</td>\n      <td>samuel.sorgatz@gmail.com</td>\n    </tr>\n    <tr>\n      <th>6</th>\n      <td>{\"contact_id\": 5650, \"name\": \"Socorro Luna\", \"email\": \"socorro.luna@hotmail.com\"}</td>\n      <td>5650</td>\n      <td>Socorro Luna</td>\n      <td>socorro.luna@hotmail.com</td>\n    </tr>\n    <tr>\n      <th>7</th>\n      <td>{\"contact_id\": 5889, \"name\": \"Carolina Murray\", \"email\": \"carolina.murray@knight.com\"}</td>\n      <td>5889</td>\n      <td>Carolina Murray</td>\n      <td>carolina.murray@knight.com</td>\n    </tr>\n    <tr>\n      <th>8</th>\n      <td>{\"contact_id\": 4842, \"name\": \"Kayla Moon\", \"email\": \"kayla.moon@yahoo.de\"}</td>\n      <td>4842</td>\n      <td>Kayla Moon</td>\n      <td>kayla.moon@yahoo.de</td>\n    </tr>\n    <tr>\n      <th>9</th>\n      <td>{\"contact_id\": 3280, \"name\": \"Ariadna Geisel\", \"email\": \"ariadna.geisel@rangel.com\"}</td>\n      <td>3280</td>\n      <td>Ariadna Geisel</td>\n      <td>ariadna.geisel@rangel.com</td>\n    </tr>\n    <tr>\n      <th>10</th>\n      <td>{\"contact_id\": 5468, \"name\": \"Danielle Ladeck\", \"email\": \"danielle.ladeck@scalfaro.net\"}</td>\n      <td>5468</td>\n      <td>Danielle Ladeck</td>\n      <td>danielle.ladeck@scalfaro.net</td>\n    </tr>\n  </tbody>\n</table>\n</div>"
     },
     "execution_count": 41,
     "metadata": {},
     "output_type": "execute_result"
    }
   ],
   "source": [
    "# Extract the email from the contacts and add the values to a new column.\n",
    "contact_info_df_copy['email'] = contact_info_df_copy['contact_info'].str.extract(pat = '\"(\\S+@\\S+)\"')\n",
    "contact_info_df_copy.head(10)"
   ]
  },
  {
   "cell_type": "code",
   "execution_count": 42,
   "metadata": {
    "ExecuteTime": {
     "end_time": "2023-10-15T04:02:25.299791900Z",
     "start_time": "2023-10-15T04:02:25.021839Z"
    }
   },
   "outputs": [
    {
     "data": {
      "text/plain": "    contact_id               name                         email\n1         4661    Cecilia Velasco  cecilia.velasco@rodrigues.fr\n2         3765      Mariana Ellis       mariana.ellis@rossi.org\n3         4187        Sofie Woods       sofie.woods@riviere.com\n4         4941  Jeanette Iannotti   jeanette.iannotti@yahoo.com\n5         2199     Samuel Sorgatz      samuel.sorgatz@gmail.com\n6         5650       Socorro Luna      socorro.luna@hotmail.com\n7         5889    Carolina Murray    carolina.murray@knight.com\n8         4842         Kayla Moon           kayla.moon@yahoo.de\n9         3280     Ariadna Geisel     ariadna.geisel@rangel.com\n10        5468    Danielle Ladeck  danielle.ladeck@scalfaro.net",
      "text/html": "<div>\n<style scoped>\n    .dataframe tbody tr th:only-of-type {\n        vertical-align: middle;\n    }\n\n    .dataframe tbody tr th {\n        vertical-align: top;\n    }\n\n    .dataframe thead th {\n        text-align: right;\n    }\n</style>\n<table border=\"1\" class=\"dataframe\">\n  <thead>\n    <tr style=\"text-align: right;\">\n      <th></th>\n      <th>contact_id</th>\n      <th>name</th>\n      <th>email</th>\n    </tr>\n  </thead>\n  <tbody>\n    <tr>\n      <th>1</th>\n      <td>4661</td>\n      <td>Cecilia Velasco</td>\n      <td>cecilia.velasco@rodrigues.fr</td>\n    </tr>\n    <tr>\n      <th>2</th>\n      <td>3765</td>\n      <td>Mariana Ellis</td>\n      <td>mariana.ellis@rossi.org</td>\n    </tr>\n    <tr>\n      <th>3</th>\n      <td>4187</td>\n      <td>Sofie Woods</td>\n      <td>sofie.woods@riviere.com</td>\n    </tr>\n    <tr>\n      <th>4</th>\n      <td>4941</td>\n      <td>Jeanette Iannotti</td>\n      <td>jeanette.iannotti@yahoo.com</td>\n    </tr>\n    <tr>\n      <th>5</th>\n      <td>2199</td>\n      <td>Samuel Sorgatz</td>\n      <td>samuel.sorgatz@gmail.com</td>\n    </tr>\n    <tr>\n      <th>6</th>\n      <td>5650</td>\n      <td>Socorro Luna</td>\n      <td>socorro.luna@hotmail.com</td>\n    </tr>\n    <tr>\n      <th>7</th>\n      <td>5889</td>\n      <td>Carolina Murray</td>\n      <td>carolina.murray@knight.com</td>\n    </tr>\n    <tr>\n      <th>8</th>\n      <td>4842</td>\n      <td>Kayla Moon</td>\n      <td>kayla.moon@yahoo.de</td>\n    </tr>\n    <tr>\n      <th>9</th>\n      <td>3280</td>\n      <td>Ariadna Geisel</td>\n      <td>ariadna.geisel@rangel.com</td>\n    </tr>\n    <tr>\n      <th>10</th>\n      <td>5468</td>\n      <td>Danielle Ladeck</td>\n      <td>danielle.ladeck@scalfaro.net</td>\n    </tr>\n  </tbody>\n</table>\n</div>"
     },
     "execution_count": 42,
     "metadata": {},
     "output_type": "execute_result"
    }
   ],
   "source": [
    "# Create a copy of the contact_info_df with the 'contact_id', 'name', 'email' columns.\n",
    "contact_info_df_v02 = contact_info_df_copy[['contact_id', 'name', 'email']]\n",
    "contact_info_df_v02.head(10)"
   ]
  },
  {
   "cell_type": "code",
   "execution_count": 43,
   "metadata": {
    "ExecuteTime": {
     "end_time": "2023-10-15T04:02:25.301191700Z",
     "start_time": "2023-10-15T04:02:25.028435600Z"
    }
   },
   "outputs": [
    {
     "data": {
      "text/plain": "    contact_id                         email first_name last_name\n1         4661  cecilia.velasco@rodrigues.fr    Cecilia   Velasco\n2         3765       mariana.ellis@rossi.org    Mariana     Ellis\n3         4187       sofie.woods@riviere.com      Sofie     Woods\n4         4941   jeanette.iannotti@yahoo.com   Jeanette  Iannotti\n5         2199      samuel.sorgatz@gmail.com     Samuel   Sorgatz\n6         5650      socorro.luna@hotmail.com    Socorro      Luna\n7         5889    carolina.murray@knight.com   Carolina    Murray\n8         4842           kayla.moon@yahoo.de      Kayla      Moon\n9         3280     ariadna.geisel@rangel.com    Ariadna    Geisel\n10        5468  danielle.ladeck@scalfaro.net   Danielle    Ladeck",
      "text/html": "<div>\n<style scoped>\n    .dataframe tbody tr th:only-of-type {\n        vertical-align: middle;\n    }\n\n    .dataframe tbody tr th {\n        vertical-align: top;\n    }\n\n    .dataframe thead th {\n        text-align: right;\n    }\n</style>\n<table border=\"1\" class=\"dataframe\">\n  <thead>\n    <tr style=\"text-align: right;\">\n      <th></th>\n      <th>contact_id</th>\n      <th>email</th>\n      <th>first_name</th>\n      <th>last_name</th>\n    </tr>\n  </thead>\n  <tbody>\n    <tr>\n      <th>1</th>\n      <td>4661</td>\n      <td>cecilia.velasco@rodrigues.fr</td>\n      <td>Cecilia</td>\n      <td>Velasco</td>\n    </tr>\n    <tr>\n      <th>2</th>\n      <td>3765</td>\n      <td>mariana.ellis@rossi.org</td>\n      <td>Mariana</td>\n      <td>Ellis</td>\n    </tr>\n    <tr>\n      <th>3</th>\n      <td>4187</td>\n      <td>sofie.woods@riviere.com</td>\n      <td>Sofie</td>\n      <td>Woods</td>\n    </tr>\n    <tr>\n      <th>4</th>\n      <td>4941</td>\n      <td>jeanette.iannotti@yahoo.com</td>\n      <td>Jeanette</td>\n      <td>Iannotti</td>\n    </tr>\n    <tr>\n      <th>5</th>\n      <td>2199</td>\n      <td>samuel.sorgatz@gmail.com</td>\n      <td>Samuel</td>\n      <td>Sorgatz</td>\n    </tr>\n    <tr>\n      <th>6</th>\n      <td>5650</td>\n      <td>socorro.luna@hotmail.com</td>\n      <td>Socorro</td>\n      <td>Luna</td>\n    </tr>\n    <tr>\n      <th>7</th>\n      <td>5889</td>\n      <td>carolina.murray@knight.com</td>\n      <td>Carolina</td>\n      <td>Murray</td>\n    </tr>\n    <tr>\n      <th>8</th>\n      <td>4842</td>\n      <td>kayla.moon@yahoo.de</td>\n      <td>Kayla</td>\n      <td>Moon</td>\n    </tr>\n    <tr>\n      <th>9</th>\n      <td>3280</td>\n      <td>ariadna.geisel@rangel.com</td>\n      <td>Ariadna</td>\n      <td>Geisel</td>\n    </tr>\n    <tr>\n      <th>10</th>\n      <td>5468</td>\n      <td>danielle.ladeck@scalfaro.net</td>\n      <td>Danielle</td>\n      <td>Ladeck</td>\n    </tr>\n  </tbody>\n</table>\n</div>"
     },
     "execution_count": 43,
     "metadata": {},
     "output_type": "execute_result"
    }
   ],
   "source": [
    "# Create a \"first\"name\" and \"last_name\" column with the first and last names from the \"name\" column. \n",
    "contact_info_df_v02[[\"first_name\", \"last_name\"]] = contact_info_df_v02['name'].str.split(' ',n=2,expand=True)\n",
    "\n",
    "# Drop the contact_name column\n",
    "contact_info_df_v02 = contact_info_df_v02.drop([\"name\"], axis=1)\n",
    "contact_info_df_v02.head(10)"
   ]
  },
  {
   "cell_type": "code",
   "execution_count": 44,
   "metadata": {
    "ExecuteTime": {
     "end_time": "2023-10-15T04:02:25.301696700Z",
     "start_time": "2023-10-15T04:02:25.036168800Z"
    }
   },
   "outputs": [
    {
     "data": {
      "text/plain": "    contact_id first_name last_name                         email\n1         4661    Cecilia   Velasco  cecilia.velasco@rodrigues.fr\n2         3765    Mariana     Ellis       mariana.ellis@rossi.org\n3         4187      Sofie     Woods       sofie.woods@riviere.com\n4         4941   Jeanette  Iannotti   jeanette.iannotti@yahoo.com\n5         2199     Samuel   Sorgatz      samuel.sorgatz@gmail.com\n6         5650    Socorro      Luna      socorro.luna@hotmail.com\n7         5889   Carolina    Murray    carolina.murray@knight.com\n8         4842      Kayla      Moon           kayla.moon@yahoo.de\n9         3280    Ariadna    Geisel     ariadna.geisel@rangel.com\n10        5468   Danielle    Ladeck  danielle.ladeck@scalfaro.net",
      "text/html": "<div>\n<style scoped>\n    .dataframe tbody tr th:only-of-type {\n        vertical-align: middle;\n    }\n\n    .dataframe tbody tr th {\n        vertical-align: top;\n    }\n\n    .dataframe thead th {\n        text-align: right;\n    }\n</style>\n<table border=\"1\" class=\"dataframe\">\n  <thead>\n    <tr style=\"text-align: right;\">\n      <th></th>\n      <th>contact_id</th>\n      <th>first_name</th>\n      <th>last_name</th>\n      <th>email</th>\n    </tr>\n  </thead>\n  <tbody>\n    <tr>\n      <th>1</th>\n      <td>4661</td>\n      <td>Cecilia</td>\n      <td>Velasco</td>\n      <td>cecilia.velasco@rodrigues.fr</td>\n    </tr>\n    <tr>\n      <th>2</th>\n      <td>3765</td>\n      <td>Mariana</td>\n      <td>Ellis</td>\n      <td>mariana.ellis@rossi.org</td>\n    </tr>\n    <tr>\n      <th>3</th>\n      <td>4187</td>\n      <td>Sofie</td>\n      <td>Woods</td>\n      <td>sofie.woods@riviere.com</td>\n    </tr>\n    <tr>\n      <th>4</th>\n      <td>4941</td>\n      <td>Jeanette</td>\n      <td>Iannotti</td>\n      <td>jeanette.iannotti@yahoo.com</td>\n    </tr>\n    <tr>\n      <th>5</th>\n      <td>2199</td>\n      <td>Samuel</td>\n      <td>Sorgatz</td>\n      <td>samuel.sorgatz@gmail.com</td>\n    </tr>\n    <tr>\n      <th>6</th>\n      <td>5650</td>\n      <td>Socorro</td>\n      <td>Luna</td>\n      <td>socorro.luna@hotmail.com</td>\n    </tr>\n    <tr>\n      <th>7</th>\n      <td>5889</td>\n      <td>Carolina</td>\n      <td>Murray</td>\n      <td>carolina.murray@knight.com</td>\n    </tr>\n    <tr>\n      <th>8</th>\n      <td>4842</td>\n      <td>Kayla</td>\n      <td>Moon</td>\n      <td>kayla.moon@yahoo.de</td>\n    </tr>\n    <tr>\n      <th>9</th>\n      <td>3280</td>\n      <td>Ariadna</td>\n      <td>Geisel</td>\n      <td>ariadna.geisel@rangel.com</td>\n    </tr>\n    <tr>\n      <th>10</th>\n      <td>5468</td>\n      <td>Danielle</td>\n      <td>Ladeck</td>\n      <td>danielle.ladeck@scalfaro.net</td>\n    </tr>\n  </tbody>\n</table>\n</div>"
     },
     "execution_count": 44,
     "metadata": {},
     "output_type": "execute_result"
    }
   ],
   "source": [
    "# Reorder the columns\n",
    "contacts_df_clean_v02 = contact_info_df_v02[['contact_id', 'first_name', 'last_name','email']]\n",
    "contacts_df_clean_v02.head(10)"
   ]
  },
  {
   "cell_type": "code",
   "execution_count": 45,
   "metadata": {
    "ExecuteTime": {
     "end_time": "2023-10-15T04:02:25.301696700Z",
     "start_time": "2023-10-15T04:02:25.044347700Z"
    }
   },
   "outputs": [
    {
     "name": "stdout",
     "output_type": "stream",
     "text": [
      "<class 'pandas.core.frame.DataFrame'>\n",
      "RangeIndex: 1000 entries, 1 to 1000\n",
      "Data columns (total 4 columns):\n",
      " #   Column      Non-Null Count  Dtype \n",
      "---  ------      --------------  ----- \n",
      " 0   contact_id  1000 non-null   int64 \n",
      " 1   first_name  1000 non-null   object\n",
      " 2   last_name   1000 non-null   object\n",
      " 3   email       1000 non-null   object\n",
      "dtypes: int64(1), object(3)\n",
      "memory usage: 31.4+ KB\n"
     ]
    }
   ],
   "source": [
    "# Check the datatypes one more time before exporting as CSV file.\n",
    "contacts_df_clean_v02.info()"
   ]
  },
  {
   "cell_type": "code",
   "execution_count": 46,
   "metadata": {
    "ExecuteTime": {
     "end_time": "2023-10-15T04:02:25.301696700Z",
     "start_time": "2023-10-15T04:02:25.050504600Z"
    }
   },
   "outputs": [],
   "source": [
    "# Export the DataFrame as a CSV file. \n",
    "contacts_df_clean_v02.to_csv(\"Resources/contacts_v02.csv\", encoding='utf8', index=False)"
   ]
  },
  {
   "cell_type": "code",
   "execution_count": 46,
   "metadata": {
    "ExecuteTime": {
     "end_time": "2023-10-15T04:02:25.301696700Z",
     "start_time": "2023-10-15T04:02:25.058736600Z"
    }
   },
   "outputs": [],
   "source": []
  }
 ],
 "metadata": {
  "kernelspec": {
   "display_name": "Python 3 (ipykernel)",
   "language": "python",
   "name": "python3"
  },
  "language_info": {
   "codemirror_mode": {
    "name": "ipython",
    "version": 3
   },
   "file_extension": ".py",
   "mimetype": "text/x-python",
   "name": "python",
   "nbconvert_exporter": "python",
   "pygments_lexer": "ipython3",
   "version": "3.11.3"
  }
 },
 "nbformat": 4,
 "nbformat_minor": 4
}
